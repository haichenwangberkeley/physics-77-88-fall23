{
 "cells": [
  {
   "cell_type": "markdown",
   "id": "b0585184",
   "metadata": {},
   "source": [
    "# Quiz Week 3, September 6, 2023\n",
    "\n",
    "## Submit the PDF version of this notebook (either export it as a pdf file or print the screen as a pdf file) to bcourse"
   ]
  },
  {
   "cell_type": "markdown",
   "id": "d578b2de",
   "metadata": {},
   "source": [
    "During our lecture, you have seen this example of using while structure to create a list that includes the multiples of 5 from 0 to 45. "
   ]
  },
  {
   "cell_type": "code",
   "execution_count": null,
   "id": "f7f225c0",
   "metadata": {},
   "outputs": [],
   "source": [
    "List = []\n",
    "i = 0\n",
    "\n",
    "while i < 10:\n",
    "    List.append(i * 5)\n",
    "    i += 1\n",
    "\n",
    "print(List)"
   ]
  },
  {
   "cell_type": "markdown",
   "id": "49212aa9",
   "metadata": {},
   "source": [
    "Now, I want you to create the same list with the code below. The ordering of elements in the list needs to be identical to the one created in the above cell"
   ]
  },
  {
   "cell_type": "code",
   "execution_count": null,
   "id": "daf1b24d",
   "metadata": {},
   "outputs": [],
   "source": [
    "List = []\n",
    "i = 10\n",
    "\n",
    "while i > 0:\n",
    "    # DO NOT MODIFY ANY LINE BEYOND THIS COMMMENT\n",
    "    # put your code below here\n",
    "\n",
    "    \n",
    "    \n",
    "    # DO NOT MODIFY ANY LINE BELOW THIS COMMMENT\n",
    "print(List)\n",
    "    \n",
    "     "
   ]
  }
 ],
 "metadata": {
  "kernelspec": {
   "display_name": "Python 3 (ipykernel)",
   "language": "python",
   "name": "python3"
  },
  "language_info": {
   "codemirror_mode": {
    "name": "ipython",
    "version": 3
   },
   "file_extension": ".py",
   "mimetype": "text/x-python",
   "name": "python",
   "nbconvert_exporter": "python",
   "pygments_lexer": "ipython3",
   "version": "3.9.15"
  }
 },
 "nbformat": 4,
 "nbformat_minor": 5
}
