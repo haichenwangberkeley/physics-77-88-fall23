{
 "cells": [
  {
   "cell_type": "markdown",
   "id": "09216671",
   "metadata": {},
   "source": [
    "# Quiz 4 September 13, 2023"
   ]
  },
  {
   "cell_type": "markdown",
   "id": "d4196dda",
   "metadata": {},
   "source": [
    "### Let's load the data used during the lecture \n",
    "\n",
    "### - Simply execute the two cells below"
   ]
  },
  {
   "cell_type": "code",
   "execution_count": null,
   "id": "984d776c",
   "metadata": {},
   "outputs": [],
   "source": [
    "# Let's get some data\n",
    "!wget https://portal.nersc.gov/project/m3438/physics77/week6/Zmumu.csv\n"
   ]
  },
  {
   "cell_type": "code",
   "execution_count": null,
   "id": "d5fa08e7",
   "metadata": {},
   "outputs": [],
   "source": [
    "import numpy as np\n",
    "csv_file = 'Zmumu.csv'\n",
    "data = np.genfromtxt(csv_file, delimiter=',', skip_header=1)"
   ]
  },
  {
   "cell_type": "markdown",
   "id": "7fbabc94",
   "metadata": {},
   "source": [
    "# Problem description\n",
    "\n",
    "## Part-1: create two numpy arrays: px and py\n",
    "    * px corresponds to all the axis-1 entries with index = 5\n",
    "    * py corresponds to all the axis-1 entries with index = 6\n",
    "    "
   ]
  },
  {
   "cell_type": "code",
   "execution_count": null,
   "id": "131bee91",
   "metadata": {},
   "outputs": [],
   "source": [
    "#Complete this cell"
   ]
  },
  {
   "cell_type": "markdown",
   "id": "0c948c2b",
   "metadata": {},
   "source": [
    "## Part-2: define a function that takes the px and py arrays as input argument and return their quadratic sum\n",
    "    * $p_T = \\sqrt( p_x^2 + p_y^2)$"
   ]
  },
  {
   "cell_type": "code",
   "execution_count": null,
   "id": "a4a33d29",
   "metadata": {},
   "outputs": [],
   "source": [
    "# complete this cell\n",
    "def pT ...\n"
   ]
  },
  {
   "cell_type": "markdown",
   "id": "f1c236a5",
   "metadata": {},
   "source": [
    "## Part-3: Plot the distribution of pT as a histogram. \n",
    "- The range should be (0,200)\n",
    "- The number of bins should be 40\n",
    "- The x axis should be labeled as '$p_{T}$'\n",
    "- The y axis should be labeled as 'Number of entries'"
   ]
  },
  {
   "cell_type": "code",
   "execution_count": null,
   "id": "e0a0d658",
   "metadata": {},
   "outputs": [],
   "source": [
    "# complete it here\n",
    "\n",
    "# Make sure you import the correct module\n",
    "import matplotlib.pyplot as plt\n"
   ]
  },
  {
   "cell_type": "code",
   "execution_count": null,
   "id": "37865d85",
   "metadata": {},
   "outputs": [],
   "source": []
  }
 ],
 "metadata": {
  "kernelspec": {
   "display_name": "Python 3 (ipykernel)",
   "language": "python",
   "name": "python3"
  },
  "language_info": {
   "codemirror_mode": {
    "name": "ipython",
    "version": 3
   },
   "file_extension": ".py",
   "mimetype": "text/x-python",
   "name": "python",
   "nbconvert_exporter": "python",
   "pygments_lexer": "ipython3",
   "version": "3.9.15"
  }
 },
 "nbformat": 4,
 "nbformat_minor": 5
}
