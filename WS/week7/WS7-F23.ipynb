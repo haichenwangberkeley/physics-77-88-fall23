{
 "cells": [
  {
   "cell_type": "markdown",
   "id": "01f405bb",
   "metadata": {},
   "source": [
    "# Workshop 7, October 6, 2023\n",
    "\n",
    "**Due by 9pm, October 10, 2023**\n"
   ]
  },
  {
   "cell_type": "markdown",
   "id": "f9f8a50f",
   "metadata": {},
   "source": [
    "# Problem 1 Cumulative Distribution Function (CDF)\n",
    "\n",
    "\n",
    "A Cumulative Distribution Function (CDF) is a probability distribution function that describes the probability that a random variable takes on a value less than or equal to a specific value. It is often used in probability and statistics to characterize the distribution of a random variable.\n",
    "\n",
    "The CDF of a random variable X, denoted as F(x), is defined as:\n",
    "\n",
    "$\\large F(x) = P(X \\leq x)$\n",
    "\n",
    "Here, $F(x)$ represents the CDF of the random variable $X$, and $P(X \\leq x)$ represents the probability that $X$ is less than or equal to $x$. The CDF provides a way to understand the cumulative probabilities associated with the values of $X$, which can be helpful in various statistical analyses and applications.\n"
   ]
  },
  {
   "cell_type": "code",
   "execution_count": null,
   "id": "2907ba7d",
   "metadata": {},
   "outputs": [],
   "source": [
    "import numpy as np\n",
    "import matplotlib.pyplot as plt"
   ]
  },
  {
   "cell_type": "code",
   "execution_count": null,
   "id": "073e61e4",
   "metadata": {},
   "outputs": [],
   "source": [
    "# Fix random seed so that the data set is reproducible\n",
    "np.random.seed(2023)\n",
    "data = np.random.poisson(100,10000) + np.random.normal(125,5,10000)"
   ]
  },
  {
   "cell_type": "markdown",
   "id": "281942de",
   "metadata": {},
   "source": [
    "Plot the distribution of `data` as a histogram. Determine the standard deviation (std. dev.)and mean of `data`. Set the range of the histogram to mean +/- 5 * std. dev.. In the hist() function, turn on and off the `density=True` option, and see how the Y axis values change. In addition, when the density option is on, change `bins` parameter for hist() and see how the Y axis values change. Google search what this option does in matplotlib.pyplot and summarize your understanding in a markdown cell."
   ]
  },
  {
   "cell_type": "code",
   "execution_count": null,
   "id": "d73c8f81",
   "metadata": {},
   "outputs": [],
   "source": [
    "# Your plotting code\n"
   ]
  },
  {
   "cell_type": "code",
   "execution_count": null,
   "id": "66318f07",
   "metadata": {},
   "outputs": [],
   "source": [
    "# Turn this into a markdown and explain what density = True does"
   ]
  },
  {
   "cell_type": "markdown",
   "id": "0bb6e85e",
   "metadata": {},
   "source": [
    "## Create the CDF for this data distribution\n",
    "\n",
    "There are different ways of doing this. You can sort the original dataset in an ascending order and then count the nubmer of entries beyond a series of values ( of $x$). Alternatively, you can create a histogram with density turned out, read out the bin content (the y axis value of each bin), calculate the cumulative sum from the lower end of the range to the upper end of the rnage. Either way, it involves some research how these approaches can be implemented technically. "
   ]
  },
  {
   "cell_type": "code",
   "execution_count": null,
   "id": "5e5a20c5",
   "metadata": {},
   "outputs": [],
   "source": [
    "# Your code here"
   ]
  },
  {
   "cell_type": "markdown",
   "id": "b2fe19a4",
   "metadata": {},
   "source": [
    "# Problem 2 Verify the Central Limit Theorem\n",
    "\n",
    "CLT claims that if a variable $X$ is the sum of **$N$** random numbers that are indepenendently and identically drawn from a probability distribution, then $X$ follows a Gaussian distribution when $N$ is large\n",
    "\n",
    "$$X_N = \\frac{1}{N}\\sum_{i=0}^{N} x_i$$\n",
    "\n",
    "where $ x_i $ is drawn from $ f(x)$ which has a mean of $\\mu$ and a std. dev of $\\sigma$\n",
    "\n",
    "The distribution of $X_N$ should have a mean of $\\mu$ and a std. dev. of $\\sigma/\\sqrt{N}$\n",
    "\n",
    "\n",
    "In this exercise, we generate $x_i$ from a uniform distribution between 0 and 1, and we compare the distribution of $X_N$ with a Gaussian distribution with its mean and sigma predicted by the Central Limit Theorem."
   ]
  },
  {
   "cell_type": "code",
   "execution_count": null,
   "id": "0e6b61e2",
   "metadata": {},
   "outputs": [],
   "source": [
    "# generate a sample \n",
    "np.random.seed(2023)\n",
    "sample1 = np.random.uniform(0,1,(10000,2))\n",
    "# this gives you a numpy array with 10000 entries in the axis 0\n",
    "# and 2 entries in axis 1\n",
    "# each entry in axis 0 has two elements "
   ]
  },
  {
   "attachments": {
    "CLT2.png": {
     "image/png": "[encoded data removed]"
    }
   },
   "cell_type": "markdown",
   "id": "50bb0e1c",
   "metadata": {},
   "source": [
    "Let's check if X2 = (x1 + x2)/2 is a random number that follows Gaussian distribution.\n",
    "\n",
    "Answer the following questions to guide your check:\n",
    "1. Based CLT, what would be the mean and standard deviation for this distribution?\n",
    "2. How do you create a reference that is perfectly nomral and has the desired mean and std. dev.? If you generate a ranomd distribution under a PDF and the distribution has a sufficiently large number of entries, then that distribution can serve as a proxy of the PDF. \n",
    "3. Can you overlay X2 distribution with your reference and check if they are compatible? \n",
    "\n",
    "Create a plot like this one (does this look like the one you have?) ![CLT2.png](attachment:CLT2.png)"
   ]
  },
  {
   "cell_type": "code",
   "execution_count": null,
   "id": "01215c49",
   "metadata": {},
   "outputs": [],
   "source": [
    "# Fix the code below so that the plot looks like the one shown above\n",
    "\n",
    "X2 = \n",
    "# plot X2 as a histogram\n",
    "plt.hist(X2,bins=,range=(0,1),density=True,label=\"$X_2$\")\n",
    "\n",
    "# Central limit theorem tells you that \n",
    "# Xn = (x1 + x2 + ... + xn)/n would follow a \n",
    "# Gassian distribution with a mean of mu, and a standard deviation of\n",
    "# of sigma/sqrt(n)\n",
    "# where mean is the mean value of the original random distribution followed by x_i\n",
    "# and sigma is the standard deviation value of the original random distribution \n",
    "\n",
    "# Here we want to construct a reference histogram from the Gaussian distribution \n",
    "# What are the expected mean and sigma for Gaussian based on the CLT?\n",
    "\n",
    "mean = \n",
    "sigma = \n",
    "reference = \n",
    "\n",
    "plt.hist(reference,bins=, range=,histtype='step',label=\"reference\")\n",
    "plt.legend()"
   ]
  },
  {
   "cell_type": "markdown",
   "id": "a2267fb4",
   "metadata": {},
   "source": [
    "### Now let's check N = 4\n",
    "Let's check if $X_4$ = $(x_1 + x_2 + x_3 + x_4)/4$ is a random number that follows a uniform distribution between 0 and 1\n",
    "\n",
    "Make the same plot as done in the last step.\n",
    "\n",
    "### Repeat this check for N = 10\n",
    "\n",
    "Make the same plot as done in the last step.\n"
   ]
  },
  {
   "cell_type": "code",
   "execution_count": null,
   "id": "12b45e70",
   "metadata": {},
   "outputs": [],
   "source": [
    "# Your code for N = 4 case"
   ]
  },
  {
   "cell_type": "code",
   "execution_count": null,
   "id": "b27d0ac2",
   "metadata": {},
   "outputs": [],
   "source": [
    "# Your code for N = 10 case"
   ]
  },
  {
   "cell_type": "markdown",
   "id": "956f1ad0",
   "metadata": {},
   "source": [
    "# Problem 3 Monte Carlo integration\n",
    "\n",
    "We have the following function and we want to calculate integral of it from 0 to 0.9.\n",
    "\n",
    "$\\large f(x) = x \\cdot sin( 3 \\pi \\cdot x)$\n",
    "\n",
    "This can be achieved with Monte Carlo method."
   ]
  },
  {
   "cell_type": "code",
   "execution_count": null,
   "id": "9e8c9613",
   "metadata": {},
   "outputs": [],
   "source": [
    "# Define this function and visualize this function\n",
    "def f(x):\n",
    "    return x*np.sin(3*np.pi*x)\n",
    "\n",
    "xval = np.linspace(0,1.0,1000)\n",
    "plt.plot(xval,f(xval))\n",
    "plt.xlabel('x')\n",
    "plt.ylabel('y = f(x)')\n"
   ]
  },
  {
   "cell_type": "markdown",
   "id": "88ec6c9a",
   "metadata": {},
   "source": [
    "Let's generate points uniformly distributed between 0 and 1.0 in $x$ and -1 and +1 in $y$. Visualize them"
   ]
  },
  {
   "cell_type": "code",
   "execution_count": null,
   "id": "bc558773",
   "metadata": {},
   "outputs": [],
   "source": [
    "npoints = 100000 # Once your code has been developed, you may increase this to larger number to improve the estimate\n",
    "np.random.seed(1006)\n",
    "xr = np.random.uniform(0,1.0,npoints)\n",
    "yr = np.random.uniform(-1,1,npoints)\n",
    "\n",
    "# Visualization code\n",
    "plt.plot(xval,f(xval))\n",
    "plt.xlabel('x')\n",
    "plt.ylabel('y = f(x)')\n",
    "plt.scatter(xr,yr,s=0.5,c='red')"
   ]
  },
  {
   "cell_type": "markdown",
   "id": "2f1cc5c4",
   "metadata": {},
   "source": [
    "Geometrically, the integral is equivalent to calculate the area under the curve and above y = 0. If the function value is negative, then the area above the curve and below y = 0 contributes negatively to the integral.\n",
    "\n",
    "The cell below demonstrate how you can get these areas"
   ]
  },
  {
   "cell_type": "code",
   "execution_count": null,
   "id": "13ce8b9a",
   "metadata": {},
   "outputs": [],
   "source": [
    "# This cell shows how to get area (points) under the curve\n",
    "\n",
    "x_under_f = xr[yr < f(xr)]\n",
    "y_under_f = yr[yr < f(xr)]\n",
    "\n",
    "# Visualization code\n",
    "plt.plot(xval,f(xval))\n",
    "plt.xlabel('x')\n",
    "plt.ylabel('y = f(x)')\n",
    "plt.scatter(x_under_f,y_under_f,s=0.5,c='red')\n"
   ]
  },
  {
   "cell_type": "code",
   "execution_count": null,
   "id": "26f56248",
   "metadata": {},
   "outputs": [],
   "source": [
    "# Your turn to develop the code to show how to get the points above the function\n",
    "\n"
   ]
  },
  {
   "cell_type": "code",
   "execution_count": null,
   "id": "5953466d",
   "metadata": {},
   "outputs": [],
   "source": [
    "# Count points under the function where f(x) > 0 \n",
    "\n",
    "x_positive = x_under_f[y_under_f>0]\n",
    "y_positive = y_under_f[y_under_f>0]\n",
    "\n",
    "# Counting\n",
    "\n",
    "positive_count = x_positive.size\n",
    "\n",
    "# Visualization code\n",
    "plt.plot(xval,f(xval))\n",
    "plt.xlabel('x')\n",
    "plt.ylabel('y = f(x)')\n",
    "plt.scatter(x_positive,y_positive,s=0.5,c='blue')\n",
    "\n"
   ]
  },
  {
   "cell_type": "code",
   "execution_count": null,
   "id": "0041fbd2",
   "metadata": {},
   "outputs": [],
   "source": [
    "# your turn to count points above the function where f(x) <= 0 "
   ]
  },
  {
   "cell_type": "markdown",
   "id": "cc2220b4",
   "metadata": {},
   "source": [
    "Now we get all the ingredients and let's calculate the integral step by step\n",
    "\n",
    "1. Calculate the difference between the `positive counts` and `negative counts`\n",
    "2. Calculate the total area covered by the random points (without any selection). \n",
    "3. The integral is then $ \\large A_{total}\\cdot \\frac{ N_{pos} - N_{neg} }{N_{total}}$"
   ]
  },
  {
   "cell_type": "code",
   "execution_count": null,
   "id": "8aa6e555",
   "metadata": {},
   "outputs": [],
   "source": [
    "# Your code here"
   ]
  },
  {
   "cell_type": "markdown",
   "id": "aff5e272",
   "metadata": {},
   "source": [
    "Verify the calculation with a numerical integration method built in scipy"
   ]
  },
  {
   "cell_type": "code",
   "execution_count": null,
   "id": "d85df5d2",
   "metadata": {},
   "outputs": [],
   "source": [
    "from scipy.integrate import quad\n",
    "integral_value, _= quad(f, 0,1)\n",
    "\n",
    "print(f\"Integral value is: {integral_value}\")"
   ]
  },
  {
   "cell_type": "markdown",
   "id": "565e4ce0",
   "metadata": {},
   "source": [
    "How does your result compare to the estimate with scipy?"
   ]
  },
  {
   "cell_type": "code",
   "execution_count": null,
   "id": "7c73b91c",
   "metadata": {},
   "outputs": [],
   "source": []
  },
  {
   "cell_type": "markdown",
   "id": "18f9764e",
   "metadata": {},
   "source": [
    "## Calculate the area within the `Heart Shape`\n",
    "The Heart Shape is defined by the following parametric equations:\n",
    "\n",
    "$\n",
    "\\begin{align*}\n",
    "x(t) &= 16 \\sin^3(t) \\\\\n",
    "y(t) &= 13 \\cos(t) - 5 \\cos(2t) - 2 \\cos(3t) - \\cos(4t)\n",
    "\\end{align*}\n",
    "$\n",
    "\n",
    "These equations describe the coordinates $(x(t), y(t))$ of points on the Heart Shape curve as a function of the parameter $t$.\n"
   ]
  },
  {
   "cell_type": "code",
   "execution_count": null,
   "id": "d2266e41",
   "metadata": {},
   "outputs": [],
   "source": [
    "import numpy as np\n",
    "import matplotlib.pyplot as plt\n",
    "\n",
    "# Define the parametric equations\n",
    "t = np.linspace(-1.0*np.pi, 1.0*np.pi, 10000)\n",
    "x = 16 * np.sin(t)**3\n",
    "y = 13 * np.cos(t) - 5 * np.cos(2*t) - 2 * np.cos(3*t) - np.cos(4*t)\n",
    "\n",
    "# Plot the heart shape\n",
    "plt.plot(x, y, 'r')\n",
    "plt.title(\"Heart Shape\")\n",
    "plt.axis('equal')  # Ensure the aspect ratio is equal\n",
    "#plt.axis('off')  # Turn off the axes"
   ]
  },
  {
   "cell_type": "code",
   "execution_count": null,
   "id": "53478f4c",
   "metadata": {},
   "outputs": [],
   "source": [
    "# your code here\n",
    "\n",
    "# Here are some hints : 1) the shape is symmetric, \n",
    "# and therefore, we just need to figure out the area of on side of it (e.g., x>0). \n",
    "# 2) t is defined between -pi and +pi. Which part of the curve does (0,pi/2) correspond to? \n"
   ]
  }
 ],
 "metadata": {
  "kernelspec": {
   "display_name": "Python 3 (ipykernel)",
   "language": "python",
   "name": "python3"
  },
  "language_info": {
   "codemirror_mode": {
    "name": "ipython",
    "version": 3
   },
   "file_extension": ".py",
   "mimetype": "text/x-python",
   "name": "python",
   "nbconvert_exporter": "python",
   "pygments_lexer": "ipython3",
   "version": "3.9.15"
  }
 },
 "nbformat": 4,
 "nbformat_minor": 5
}
