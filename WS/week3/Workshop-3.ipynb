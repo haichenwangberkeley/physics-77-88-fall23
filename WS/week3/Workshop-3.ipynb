{
 "cells": [
  {
   "cell_type": "markdown",
   "id": "1ecc04b2",
   "metadata": {},
   "source": [
    "# Workshop 3, September 8, 2023\n",
    "\n",
    "**The submission is due by 9pm, September 12, 2023**\n",
    "Upload the PDF and ipynb versions of your completed notebook"
   ]
  },
  {
   "cell_type": "markdown",
   "id": "2dfef3e0",
   "metadata": {},
   "source": [
    "# Part 1: List Operations\n",
    "\n",
    "This part has two components, each of which come with their own examples and exercises. You should carefully read these example cells and complete the practice/exercise cells, either independently or together with your fellow students. \n",
    "\n",
    "\n",
    "# Part 1.1 Basic Operations\n",
    "\n",
    "You should carefully read these example cells in order to familiarize the basic list operations. \n",
    "\n",
    "**Create a list with integers between 1 and 50**"
   ]
  },
  {
   "cell_type": "code",
   "execution_count": null,
   "id": "8f5fd548",
   "metadata": {},
   "outputs": [],
   "source": [
    "# Create an empty list to store the integers.\n",
    "integer_list = []\n",
    "\n",
    "# Iterate through integers from 1 to 50.\n",
    "for i in range(1, 51):\n",
    "    # Append each integer to the integer_list.\n",
    "    integer_list.append(i)\n",
    "\n",
    "# The integer_list now contains integers from 1 to 50.\n",
    "\n",
    "# Print the list of integers.\n",
    "print(integer_list)\n",
    "\n",
    "# Check the length of the list\n",
    "print(len(integer_list))\n"
   ]
  },
  {
   "cell_type": "markdown",
   "id": "1bb4bc18",
   "metadata": {},
   "source": [
    "**Sort this list in descending order**"
   ]
  },
  {
   "cell_type": "code",
   "execution_count": null,
   "id": "af848047",
   "metadata": {},
   "outputs": [],
   "source": [
    "# Sort the list in descending order using the sort() method.\n",
    "integer_list.sort(reverse=True)\n",
    "\n",
    "# Print the sorted list in descending order.\n",
    "print(integer_list)"
   ]
  },
  {
   "cell_type": "markdown",
   "id": "026e8e05",
   "metadata": {},
   "source": [
    "**Use list slicing to get the first ten entries from this list, as well as the last ten entries. Save them into separate lists**"
   ]
  },
  {
   "cell_type": "code",
   "execution_count": null,
   "id": "7e73f736",
   "metadata": {},
   "outputs": [],
   "source": [
    "# Get the first 10 entries using list slicing.\n",
    "first_10_entries = integer_list[:10]\n",
    "\n",
    "# Get the last 10 entries using list slicing.\n",
    "last_10_entries = integer_list[-10:]\n",
    "\n",
    "# Print the first 10 entries.\n",
    "print(\"First 10 entries:\", first_10_entries)\n",
    "\n",
    "# Print the last 10 entries.\n",
    "print(\"Last 10 entries:\", last_10_entries)"
   ]
  },
  {
   "cell_type": "markdown",
   "id": "e6e669c6",
   "metadata": {},
   "source": [
    "**Now merge these two lists**"
   ]
  },
  {
   "cell_type": "code",
   "execution_count": null,
   "id": "f6a6e2d9",
   "metadata": {},
   "outputs": [],
   "source": [
    "# Merge the first_10_entries and last_10_entries lists.\n",
    "merged_list = first_10_entries + last_10_entries\n",
    "\n",
    "# Print the merged list.\n",
    "print(\"Merged list:\", merged_list)"
   ]
  },
  {
   "cell_type": "markdown",
   "id": "8a087772",
   "metadata": {},
   "source": [
    "**Remove entries that are integer times of 3 from the merged_list**"
   ]
  },
  {
   "cell_type": "code",
   "execution_count": null,
   "id": "b771462c",
   "metadata": {},
   "outputs": [],
   "source": [
    "# Create an empty list to store non-multiples of 3.\n",
    "filtered_list = []\n",
    "\n",
    "# Iterate through the elements in the merged_list.\n",
    "for num in merged_list:\n",
    "    # Check if the current number is not an integer multiple of 3.\n",
    "    if num % 3 != 0:\n",
    "        # If it's not a multiple of 3, append it to the filtered_list.\n",
    "        filtered_list.append(num)\n",
    "\n",
    "# The filtered_list now contains elements that are not integer multiples of 3.\n",
    "\n",
    "# Print the filtered list.\n",
    "print(\"Filtered list (without multiples of 3):\", filtered_list)"
   ]
  },
  {
   "cell_type": "markdown",
   "id": "293adafc",
   "metadata": {},
   "source": [
    "## Practice\n",
    "\n",
    "We have two lists listA and listB. We want to create a new list where the entries with an even index are from listA, and entries with an odd index are from listB"
   ]
  },
  {
   "cell_type": "code",
   "execution_count": null,
   "id": "d3f7568e",
   "metadata": {},
   "outputs": [],
   "source": [
    "listA = [110, 120, 130, 140]\n",
    "listB = [210, 220, 230, 240]\n",
    "# your code here\n",
    "\n"
   ]
  },
  {
   "cell_type": "code",
   "execution_count": null,
   "id": "ad2c2dfb",
   "metadata": {},
   "outputs": [],
   "source": [
    "# Create an empty list to store the merged result.\n",
    "merged_list = []\n",
    "\n",
    "# Iterate through the indices of listA and listB.\n",
    "for i in range(len(listA)):\n",
    "    # Check if the current index is even.\n",
    "    if i % 2 == 0:\n",
    "        # If even, append the corresponding element from listA.\n",
    "        merged_list.append(listA[i])\n",
    "    else:\n",
    "        # If odd, append the corresponding element from listB.\n",
    "        merged_list.append(listB[i])\n",
    "\n",
    "# The merged_list now contains elements from listA with even indices and elements from listB with odd indices.\n",
    "\n",
    "# Print the merged list.\n",
    "print(\"Merged list:\", merged_list)"
   ]
  },
  {
   "cell_type": "markdown",
   "id": "507bdeab",
   "metadata": {},
   "source": [
    "## Part 1.2 List comprehension \n",
    "List comprehension is a concise and expressive way to create lists in Python. It allows you to generate a new list by applying an expression to each item in an existing iterable (e.g., a list, range, or other iterable) while also optionally filtering items based on a condition. The basic syntax of a list comprehension consists of three parts:\n",
    "\n",
    "Expression: The expression defines what you want to do with each item in the iterable. This expression is typically applied to each element, and the results are collected in the new list. It comes before the for keyword.\n",
    "\n",
    "Iterator Variable: The iterator variable represents the current item being processed in the iterable. It comes after the for keyword.\n",
    "\n",
    "Iterable: The iterable is the source of the data from which you want to create the new list. It comes after the in keyword.\n",
    "\n",
    "Here's the general syntax:\n",
    "\n",
    "`new_list = [expression for iterator_variable in iterable]`\n",
    "\n",
    "Optional parts of list comprehensions include:\n",
    "\n",
    "Condition (Filtering): You can include an optional if clause to filter elements from the iterable based on a condition. Elements that don't satisfy the condition are excluded from the new list.\n",
    "Here's the syntax with filtering:\n",
    "\n",
    "`new_list = [expression for iterator_variable in iterable if condition]`\n",
    "\n",
    "List comprehensions can make your code more concise and readable, especially when you need to create lists by transforming or filtering data from existing iterables. Here are a few examples:\n",
    "\n",
    "### Example 1: Creating a list of squares of numbers from 1 to 5\n"
   ]
  },
  {
   "cell_type": "code",
   "execution_count": null,
   "id": "17edb95d",
   "metadata": {},
   "outputs": [],
   "source": [
    "squares = [x**2 for x in range(1, 6)]\n",
    "# The expression x**2 calculates the square of each number from 1 to 5.\n",
    "print(squares)"
   ]
  },
  {
   "cell_type": "markdown",
   "id": "e25fc0ec",
   "metadata": {},
   "source": [
    "**The next cell shows what you would do if not using list comprehension**"
   ]
  },
  {
   "cell_type": "code",
   "execution_count": null,
   "id": "611faa12",
   "metadata": {},
   "outputs": [],
   "source": [
    "# Initialize an empty list to store the squares.\n",
    "squares = []\n",
    "\n",
    "# Use a for loop to iterate through numbers from 1 to 5.\n",
    "for x in range(1, 6):\n",
    "    # Calculate the square of the current number and append it to the list.\n",
    "    square = x ** 2\n",
    "    squares.append(square)\n",
    "\n",
    "# squares now contains the squares of numbers from 1 to 5.\n"
   ]
  },
  {
   "cell_type": "markdown",
   "id": "37aeab60",
   "metadata": {},
   "source": [
    "### Example 2: Filtering even numbers from a list"
   ]
  },
  {
   "cell_type": "code",
   "execution_count": null,
   "id": "bf01dc36",
   "metadata": {},
   "outputs": [],
   "source": [
    "numbers = [1, 2, 3, 4, 5, 6, 7, 8, 9, 10]\n",
    "even_numbers = [x for x in numbers if x % 2 == 0]\n",
    "# The condition x % 2 == 0 filters out odd numbers.\n",
    "print(even_numbers)"
   ]
  },
  {
   "cell_type": "markdown",
   "id": "97c75f49",
   "metadata": {},
   "source": [
    "**The next cell shows what you would do if not using list comprehension**"
   ]
  },
  {
   "cell_type": "code",
   "execution_count": null,
   "id": "fff95269",
   "metadata": {},
   "outputs": [],
   "source": [
    "# Define the list of numbers from 1 to 10.\n",
    "numbers = [1, 2, 3, 4, 5, 6, 7, 8, 9, 10]\n",
    "\n",
    "# Create an empty list to store even numbers.\n",
    "even_numbers = []\n",
    "\n",
    "# Use a for loop to iterate through the numbers in the list.\n",
    "for x in numbers:\n",
    "    # Check if the current number is even (x % 2 == 0).\n",
    "    if x % 2 == 0:\n",
    "        # If the number is even, append it to the even_numbers list.\n",
    "        even_numbers.append(x)\n",
    "\n",
    "# The even_numbers list now contains all the even numbers from the original list.\n",
    "\n",
    "# Print the list of even numbers.\n",
    "print(even_numbers)\n"
   ]
  },
  {
   "cell_type": "markdown",
   "id": "d014e4c2",
   "metadata": {},
   "source": [
    "### Example 3: Creating a list of words with more than 3 characters from a sentence\n",
    "\n"
   ]
  },
  {
   "cell_type": "code",
   "execution_count": null,
   "id": "02344bfa",
   "metadata": {},
   "outputs": [],
   "source": [
    "sentence = \"This is a sample sentence for list comprehension\"\n",
    "words = sentence.split()  # Split the sentence into words.\n",
    "long_words = [word for word in words if len(word) > 3]\n",
    "# The condition len(word) > 3 filters out words with 3 or fewer characters.\n",
    "print(long_words)"
   ]
  },
  {
   "cell_type": "markdown",
   "id": "bb637841",
   "metadata": {},
   "source": [
    "**The next cell shows what you would do if not using list comprehension**"
   ]
  },
  {
   "cell_type": "code",
   "execution_count": null,
   "id": "0a172886",
   "metadata": {},
   "outputs": [],
   "source": [
    "# Define the input sentence.\n",
    "sentence = \"This is a sample sentence for list comprehension\"\n",
    "\n",
    "# Split the sentence into words.\n",
    "words = sentence.split()\n",
    "\n",
    "# Create an empty list to store long words (words with more than 3 characters).\n",
    "long_words = []\n",
    "\n",
    "# Use a for loop to iterate through the words in the list.\n",
    "for word in words:\n",
    "    # Check if the current word has more than 3 characters (len(word) > 3).\n",
    "    if len(word) > 3:\n",
    "        # If the word is long, append it to the long_words list.\n",
    "        long_words.append(word)\n",
    "\n",
    "# The long_words list now contains words with more than 3 characters.\n",
    "\n",
    "# Print the list of long words.\n",
    "print(long_words)\n"
   ]
  },
  {
   "cell_type": "markdown",
   "id": "e02b96c2",
   "metadata": {},
   "source": [
    "## Practices\n",
    "\n",
    "**Use list comprehension to realize the following operations**\n",
    "###  Practice 1\n",
    "\n",
    "Select all entries from the `list_to_test` that are greater than 50, and save it to a new list.\n",
    "\n",
    "`list_to_test = [1, 49, 81 , 423, 12, 3, 4, 1, 50, 49 , 81, 423]`"
   ]
  },
  {
   "cell_type": "code",
   "execution_count": null,
   "id": "e2d8cf0b",
   "metadata": {},
   "outputs": [],
   "source": [
    "list_to_test = list_to_test = [1, 49, 81 , 423, 12, 3, 4, 1, 50, 49 , 81, 423]\n",
    "\n",
    "# Your code here"
   ]
  },
  {
   "cell_type": "markdown",
   "id": "adf4407f",
   "metadata": {},
   "source": [
    "### Practice 2\n",
    "\n",
    "Select all values from the `list_to_test` that only appear once in the list. \n",
    "\n",
    "Here you can use the help count() function"
   ]
  },
  {
   "cell_type": "code",
   "execution_count": null,
   "id": "2c745c23",
   "metadata": {},
   "outputs": [],
   "source": [
    "example_list = [1, 21, 21, 4, 4, 4]\n",
    "print(example_list.count(1), example_list.count(21), example_list.count(4), example_list.count(10),)\n",
    "\n",
    "# develop your code here\n",
    "\n"
   ]
  },
  {
   "cell_type": "markdown",
   "id": "8ee9e77e",
   "metadata": {},
   "source": [
    "### Practice 3 \n",
    "\n",
    "We have two lists: listA, listB. Select entries that appear in both lists. "
   ]
  },
  {
   "cell_type": "code",
   "execution_count": null,
   "id": "90f1102c",
   "metadata": {},
   "outputs": [],
   "source": [
    "listA = [1, 2 , 3 , 4]\n",
    "listB = [3, 4, 5 , 1 ]\n",
    "\n",
    "# develop your code here"
   ]
  },
  {
   "cell_type": "markdown",
   "id": "05ebdee2",
   "metadata": {},
   "source": [
    "# Part 2 Control structures\n",
    "\n",
    "## Part 2.1 for loop and while loop examples\n",
    "\n",
    "**1. Iterating Through a List:**"
   ]
  },
  {
   "cell_type": "code",
   "execution_count": null,
   "id": "3a3411d1",
   "metadata": {},
   "outputs": [],
   "source": [
    "fruits = [\"apple\", \"banana\", \"cherry\"]\n",
    "for fruit in fruits:\n",
    "    print(f\"I like {fruit}\")\n"
   ]
  },
  {
   "cell_type": "code",
   "execution_count": null,
   "id": "5edefe26",
   "metadata": {},
   "outputs": [],
   "source": [
    "fruits = [\"apple\", \"banana\", \"cherry\"]\n",
    "\n",
    "# Initialize an index to 0.\n",
    "index = 0\n",
    "\n",
    "# Use a while loop to iterate through the list.\n",
    "while index < len(fruits):\n",
    "    # Get the current fruit using the index.\n",
    "    fruit = fruits[index]\n",
    "    \n",
    "    # Print the message.\n",
    "    print(f\"I like {fruit}\")\n",
    "    \n",
    "    # Increment the index for the next iteration.\n",
    "    index += 1\n"
   ]
  },
  {
   "cell_type": "markdown",
   "id": "8779b038",
   "metadata": {},
   "source": [
    "**2. Looping over a range**"
   ]
  },
  {
   "cell_type": "code",
   "execution_count": null,
   "id": "94361ca5",
   "metadata": {},
   "outputs": [],
   "source": [
    "for i in range(1, 6):\n",
    "    print(i)\n"
   ]
  },
  {
   "cell_type": "code",
   "execution_count": null,
   "id": "13c3a20f",
   "metadata": {},
   "outputs": [],
   "source": [
    "# Initialize a variable i to 1.\n",
    "i = 1\n",
    "\n",
    "# Use a while loop to print numbers from 1 to 5.\n",
    "while i <= 5:\n",
    "    print(i)\n",
    "    i += 1\n"
   ]
  },
  {
   "cell_type": "markdown",
   "id": "2c584988",
   "metadata": {},
   "source": [
    "**3.  Iterating Over a String:**"
   ]
  },
  {
   "cell_type": "code",
   "execution_count": null,
   "id": "1495f39e",
   "metadata": {},
   "outputs": [],
   "source": [
    "word = \"Python\"\n",
    "for letter in word:\n",
    "    print(letter)\n"
   ]
  },
  {
   "cell_type": "code",
   "execution_count": null,
   "id": "a96c38dd",
   "metadata": {},
   "outputs": [],
   "source": [
    "# Define the word.\n",
    "word = \"Python\"\n",
    "\n",
    "# Initialize an index variable to 0.\n",
    "index = 0\n",
    "\n",
    "# Use a while loop to iterate through the characters of the word.\n",
    "while index < len(word):\n",
    "    # Get the current character using the index.\n",
    "    letter = word[index]\n",
    "    \n",
    "    # Print the current character.\n",
    "    print(letter)\n",
    "    \n",
    "    # Increment the index for the next iteration.\n",
    "    index += 1\n"
   ]
  },
  {
   "cell_type": "markdown",
   "id": "7e34fe89",
   "metadata": {},
   "source": [
    "**4. Looping Over a Dictionary:**"
   ]
  },
  {
   "cell_type": "code",
   "execution_count": null,
   "id": "f9338dc9",
   "metadata": {},
   "outputs": [],
   "source": [
    "person = {\"name\": \"Alice\", \"age\": 30, \"city\": \"New York\"}\n",
    "for key, value in person.items():\n",
    "    print(f\"{key}: {value}\")\n"
   ]
  },
  {
   "cell_type": "code",
   "execution_count": null,
   "id": "8c5533a5",
   "metadata": {},
   "outputs": [],
   "source": [
    "# Define the person dictionary.\n",
    "person = {\"name\": \"Alice\", \"age\": 30, \"city\": \"New York\"}\n",
    "\n",
    "# Initialize an index variable to 0.\n",
    "index = 0\n",
    "\n",
    "# Get the keys from the dictionary.\n",
    "keys = list(person.keys())\n",
    "\n",
    "# Use a while loop to iterate through the keys.\n",
    "while index < len(keys):\n",
    "    # Get the current key using the index.\n",
    "    key = keys[index]\n",
    "    \n",
    "    # Get the corresponding value from the dictionary.\n",
    "    value = person[key]\n",
    "    \n",
    "    # Print the key-value pair.\n",
    "    print(f\"{key}: {value}\")\n",
    "    \n",
    "    # Increment the index for the next iteration.\n",
    "    index += 1\n"
   ]
  },
  {
   "cell_type": "markdown",
   "id": "879fef65",
   "metadata": {},
   "source": [
    "**5 Nested Loops**"
   ]
  },
  {
   "cell_type": "code",
   "execution_count": null,
   "id": "6b328517",
   "metadata": {},
   "outputs": [],
   "source": [
    "for i in range(3):\n",
    "    for j in range(2):\n",
    "        print(f\"({i}, {j})\")\n"
   ]
  },
  {
   "cell_type": "code",
   "execution_count": null,
   "id": "2d442c0c",
   "metadata": {},
   "outputs": [],
   "source": [
    "i = 0\n",
    "while i < 3:\n",
    "    j = 0\n",
    "    while j < 2:\n",
    "        print(f\"({i}, {j})\")\n",
    "        j += 1\n",
    "    i += 1\n"
   ]
  },
  {
   "cell_type": "markdown",
   "id": "8495fb6a",
   "metadata": {},
   "source": [
    "## Practice: use for loop to implement the factorial function. \n",
    "\n",
    "The function should take an integer as input and calculate  its factorial. The returning argument should be the factorial of the input argument if the input argument is positive, and the returning argument should be -1 if the input argument is negative or not an integer.  "
   ]
  },
  {
   "cell_type": "code",
   "execution_count": null,
   "id": "2e725674",
   "metadata": {},
   "outputs": [],
   "source": [
    "# Develop your code here\n",
    "def factorial(n):\n",
    "    \n",
    "    \n",
    "    return "
   ]
  },
  {
   "cell_type": "code",
   "execution_count": null,
   "id": "3cc1574e",
   "metadata": {},
   "outputs": [],
   "source": [
    "# Test your code here\n",
    "factorial(100)"
   ]
  },
  {
   "cell_type": "markdown",
   "id": "0d813c78",
   "metadata": {},
   "source": [
    "## Practice: rewrite your factorial function using while loop"
   ]
  },
  {
   "cell_type": "code",
   "execution_count": null,
   "id": "17179879",
   "metadata": {},
   "outputs": [],
   "source": [
    "# Develop your code here\n",
    "def factorial_with_while(n):\n",
    "    \n",
    "    \n",
    "    return "
   ]
  },
  {
   "cell_type": "code",
   "execution_count": null,
   "id": "84cdac62",
   "metadata": {},
   "outputs": [],
   "source": [
    "# Test your code here\n",
    "factorial_while(100)"
   ]
  },
  {
   "cell_type": "markdown",
   "id": "2211f705",
   "metadata": {},
   "source": [
    "## Part 2.2 if else structure\n",
    "\n",
    "Let's see a few examples first. Read the code carefully. \n",
    "\n",
    "**1. Determining if a number is positive**"
   ]
  },
  {
   "cell_type": "code",
   "execution_count": null,
   "id": "1c930199",
   "metadata": {},
   "outputs": [],
   "source": [
    "num = 10\n",
    "if num >= 0:\n",
    "    print(\"Positive\")\n",
    "else:\n",
    "    print(\"Negative\")\n"
   ]
  },
  {
   "cell_type": "markdown",
   "id": "13f4074c",
   "metadata": {},
   "source": [
    "**2. Compariing the lengths of strings**"
   ]
  },
  {
   "cell_type": "code",
   "execution_count": null,
   "id": "344bd2fb",
   "metadata": {},
   "outputs": [],
   "source": [
    "string1 = \"Hello\"\n",
    "string2 = \"Hi\"\n",
    "#string2 = \"There\" # uncomment this line and see what happens\n",
    "if len(string1) > len(string2):\n",
    "    print(\"String1 is longer\")\n",
    "elif len(string1) < len(string2):\n",
    "    print(\"String2 is longer\")\n",
    "else:\n",
    "    print(\"Both strings are of equal length\")\n"
   ]
  },
  {
   "cell_type": "markdown",
   "id": "faf46f07",
   "metadata": {},
   "source": [
    "**3. slightly more complicated applications**"
   ]
  },
  {
   "cell_type": "code",
   "execution_count": null,
   "id": "f24a291e",
   "metadata": {},
   "outputs": [],
   "source": [
    "# Grade calculation based on score.\n",
    "score = 85\n",
    "\n",
    "if score >= 90:\n",
    "    print(\"A\")\n",
    "elif score >= 80:\n",
    "    print(\"B\")\n",
    "elif score >= 70:\n",
    "    print(\"C\")\n",
    "elif score >= 60:\n",
    "    print(\"D\")\n",
    "else:\n",
    "    print(\"F\")\n"
   ]
  },
  {
   "cell_type": "code",
   "execution_count": null,
   "id": "729dd95a",
   "metadata": {},
   "outputs": [],
   "source": [
    "# Grade calculation based on score and participation.\n",
    "score = 85\n",
    "participation = False\n",
    "\n",
    "if score >= 90 and participation:\n",
    "    print(\"A\")\n",
    "elif score >= 80 and participation:\n",
    "    print(\"B\")\n",
    "elif score >= 70 and participation:\n",
    "    print(\"C\")\n",
    "elif score >= 60 and participation:\n",
    "    print(\"D\")\n",
    "else:\n",
    "    print(\"F\")\n"
   ]
  },
  {
   "cell_type": "code",
   "execution_count": null,
   "id": "59df2bc9",
   "metadata": {},
   "outputs": [],
   "source": [
    "# Grade calculation based on score and participation.\n",
    "score = 85\n",
    "participation = True\n",
    "\n",
    "if score >= 90 and participation:\n",
    "    print(\"A\")\n",
    "elif score >= 80 and participation:\n",
    "    print(\"B\")\n",
    "elif score >= 70 and participation:\n",
    "    print(\"C\")\n",
    "elif score >= 60 and participation:\n",
    "    print(\"D\")\n",
    "else:\n",
    "    print(\"F\")\n"
   ]
  },
  {
   "cell_type": "markdown",
   "id": "42909e77",
   "metadata": {},
   "source": [
    "## Practice\n",
    "\n",
    "Rewrite the above cell by removing all the `elif` and `else` key words. Realize the same functionality by using only the key word `if`. This means you need to explicitly define the conditions for each grade, e.g., one gets C if their score is greater than or equal to 70 but less than 80.  "
   ]
  },
  {
   "cell_type": "code",
   "execution_count": null,
   "id": "e71944cb",
   "metadata": {},
   "outputs": [],
   "source": [
    "# The code below is broken. Fix it !\n",
    "\n",
    "\n",
    "# Grade calculation based on score and participation.\n",
    "score = 85\n",
    "participation = True\n",
    "\n",
    "if score >= 90 and participation:\n",
    "    print(\"A\")\n",
    "if score >= 80 and participation:\n",
    "    print(\"B\")\n",
    "if score >= 70 and participation:\n",
    "    print(\"C\")\n",
    "if score >= 60 and participation:\n",
    "    print(\"D\")\n",
    "if:\n",
    "    print(\"F\")"
   ]
  },
  {
   "cell_type": "markdown",
   "id": "12b70799",
   "metadata": {},
   "source": [
    "Embed this code into a function. The function takes two input arguments, a score, and a boolean variable for the participation. Print the grade for the following scenarios:\n",
    "\n",
    "- 1. score = 90, participation = False\n",
    "- 2. score = 75, participation = True"
   ]
  },
  {
   "cell_type": "code",
   "execution_count": null,
   "id": "9c7d3fec",
   "metadata": {},
   "outputs": [],
   "source": [
    "# Your code here"
   ]
  }
 ],
 "metadata": {
  "kernelspec": {
   "display_name": "Python 3 (ipykernel)",
   "language": "python",
   "name": "python3"
  },
  "language_info": {
   "codemirror_mode": {
    "name": "ipython",
    "version": 3
   },
   "file_extension": ".py",
   "mimetype": "text/x-python",
   "name": "python",
   "nbconvert_exporter": "python",
   "pygments_lexer": "ipython3",
   "version": "3.9.15"
  }
 },
 "nbformat": 4,
 "nbformat_minor": 5
}
