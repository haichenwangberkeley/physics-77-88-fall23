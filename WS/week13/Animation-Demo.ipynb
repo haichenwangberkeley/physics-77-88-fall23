{
 "cells": [
  {
   "cell_type": "markdown",
   "id": "c2801344",
   "metadata": {},
   "source": [
    "# Animation with Python \n",
    "\n",
    "In this notebook, you will learn how to use Python to create an animation. Animation is a great way to visualize your computational project. In the first example, you will be given step by step explanation about the basic ingredients of a python animation script. Then, you will be given a few more examples. These examples should at least help you prepare for the final project."
   ]
  },
  {
   "cell_type": "markdown",
   "id": "b5ba1be9",
   "metadata": {},
   "source": [
    "## An Animation of a Sine Wave\n",
    "\n",
    "### Step 1: Import Necessary Modules\n"
   ]
  },
  {
   "cell_type": "code",
   "execution_count": null,
   "id": "7a8e8e9b",
   "metadata": {},
   "outputs": [],
   "source": [
    "import numpy as np\n",
    "import matplotlib.pyplot as plt\n",
    "from matplotlib.animation import FuncAnimation\n"
   ]
  },
  {
   "cell_type": "markdown",
   "id": "05d58d4e",
   "metadata": {},
   "source": [
    "### Step 2: Set Up the Figure\n",
    "Create a figure and an axis using `plt.subplots()` and initialize the line object (or any other plot element) that you want to animate.\n",
    "\n"
   ]
  },
  {
   "cell_type": "code",
   "execution_count": null,
   "id": "12bc0a88",
   "metadata": {},
   "outputs": [],
   "source": [
    "fig, ax = plt.subplots()\n",
    "x = np.linspace(0, 2 * np.pi, 200)\n",
    "line, = ax.plot(x, np.sin(x))\n"
   ]
  },
  {
   "cell_type": "markdown",
   "id": "0d9aa1c9",
   "metadata": {},
   "source": [
    "### Step 3: Define the Animation Function\n",
    "The animation will be created by sequentially updating the plot. Define an `animate` function which updates the data of the plot. Optionally, define an `init` function to set the background."
   ]
  },
  {
   "cell_type": "code",
   "execution_count": null,
   "id": "ef8091a5",
   "metadata": {},
   "outputs": [],
   "source": [
    "def init():\n",
    "    line.set_ydata([np.nan] * len(x))\n",
    "    return line,\n",
    "\n",
    "def animate(i):\n",
    "    line.set_ydata(np.sin(x + i / 20))  # update the data\n",
    "    return line,\n"
   ]
  },
  {
   "cell_type": "markdown",
   "id": "fcee0d25",
   "metadata": {},
   "source": [
    "### Step 4: Create the Animation\n",
    "Use `FuncAnimation` to create the animation object. Specify the figure, the animate function, the number of frames, and the interval between frames."
   ]
  },
  {
   "cell_type": "code",
   "execution_count": null,
   "id": "df73506d",
   "metadata": {},
   "outputs": [],
   "source": [
    "anim = FuncAnimation(fig, animate, init_func=init, frames=200, interval=20, blit=True)\n"
   ]
  },
  {
   "cell_type": "markdown",
   "id": "734cbcec",
   "metadata": {},
   "source": [
    "#### Explaining FuncAnimation Parameters in Python's Matplotlib\n",
    "\n",
    " Below is a breakdown of each parameter in the context of the example:\n",
    "\n",
    "```python\n",
    "anim = FuncAnimation(fig, animate, init_func=init, frames=200, interval=20, blit=True)\n",
    "```\n",
    "\n",
    "- **`fig`**: This represents the figure object where your animation will be drawn. In `matplotlib`, a figure can be thought of as a canvas on which graphs, data points, and other plot elements are drawn.\n",
    "\n",
    "- **`animate`**: This function is called for each frame of the animation. It should update the elements of the plot that are meant to change. In the given example, it's responsible for moving the sine wave.\n",
    "\n",
    "- **`init_func=init`**: The `init_func` sets up the initial state of the plot and is called at the beginning of the animation. This function is optional but useful for initializing your plot elements. If it's not provided, `FuncAnimation` will call `animate` with a zero argument and use that result as the initial frame.\n",
    "\n",
    "- **`frames=200`**: This parameter defines the total number of frames in the animation. Each frame results in a call to the `animate` function. For example, setting `frames=200` means `animate` is called 200 times throughout the animation.\n",
    "\n",
    "- **`interval=20`**: This sets the delay between frames in milliseconds. An `interval=20` means there is a 20ms delay between each frame. Adjusting this value alters the speed of the animation; a smaller interval speeds it up, while a larger one slows it down.\n",
    "\n",
    "- **`blit=True`**: Blitting is an optimization method in animation. When set to `True`, only parts of the plot that have changed are redrawn for each frame, enhancing the efficiency and smoothness of the animation. This is especially beneficial for complex or large animations. However, it requires both the `animate` and `init_func` to return an iterable of all the modified or newly created artists. Note that blitting may not be supported in all environments, particularly in some Jupyter Notebook backends.\n"
   ]
  },
  {
   "cell_type": "markdown",
   "id": "464c026e",
   "metadata": {},
   "source": [
    "\n",
    "### Step 5: Save the Animation\n",
    "You can save the animation into a gif file"
   ]
  },
  {
   "cell_type": "code",
   "execution_count": null,
   "id": "47d1251c",
   "metadata": {},
   "outputs": [],
   "source": [
    "anim.save('animation.gif', writer='pillow', fps=30)\n"
   ]
  },
  {
   "cell_type": "markdown",
   "id": "85e6c13c",
   "metadata": {},
   "source": [
    "### Step 6: Display the animation\n",
    "\n",
    "You can display your animation in the Jupter Notebook. To save it, just right click and select the option that saves the image.\n",
    "\n",
    "``` In a Jupyter Notebook, displaying an animation such as a GIF file directly within a cell requires a bit of additional handling. This is because Jupyter Notebooks primarily display outputs like text, images, and plots directly, but they don't automatically render files like GIFs in the same way. To display an animation like sine_wave_animation.gif, you need to use the IPython.display module, which provides a set of functions for rich output formatting in Jupyter Notebooks. ```"
   ]
  },
  {
   "cell_type": "code",
   "execution_count": null,
   "id": "e944b4a6",
   "metadata": {},
   "outputs": [],
   "source": [
    "from IPython.display import Image\n",
    "\n",
    "Image(filename=\"sine_wave_animation.gif\")\n"
   ]
  },
  {
   "cell_type": "markdown",
   "id": "c7cd81f0",
   "metadata": {},
   "source": [
    "**You may of course consolidate all the above code into a single cell**\n",
    "\n",
    "\n"
   ]
  },
  {
   "cell_type": "code",
   "execution_count": null,
   "id": "46344bc3",
   "metadata": {
    "scrolled": false
   },
   "outputs": [],
   "source": [
    "import numpy as np\n",
    "import matplotlib.pyplot as plt\n",
    "from matplotlib.animation import FuncAnimation, PillowWriter\n",
    "\n",
    "# Set up the figure, the axis, and the plot element we want to animate\n",
    "fig, ax = plt.subplots()\n",
    "x = np.linspace(0, 2*np.pi, 200)\n",
    "line, = ax.plot(x, np.sin(x))\n",
    "\n",
    "# Initialization function: plot the background of each frame\n",
    "def init():\n",
    "    line.set_ydata([np.nan] * len(x))\n",
    "    return line,\n",
    "\n",
    "# Animation function: this is called sequentially\n",
    "def animate(i):\n",
    "    line.set_ydata(np.sin(x + i / 20))  # update the data\n",
    "    return line,\n",
    "\n",
    "# Call the animator\n",
    "anim = FuncAnimation(fig, animate, init_func=init, frames=200, interval=20, blit=True)\n",
    "\n",
    "# Save the animation as a GIF\n",
    "anim.save('sine_wave_animation.gif', writer='pillow', fps=30)\n",
    "\n",
    "from IPython.display import Image\n",
    "\n",
    "Image(filename=\"sine_wave_animation.gif\")\n"
   ]
  },
  {
   "cell_type": "markdown",
   "id": "7a777d63",
   "metadata": {},
   "source": [
    "# Other examples\n",
    "\n",
    "\n",
    "## 2D Random Walk Animation \n",
    "\n",
    "This script generates and animates a 2D random walk using Python's `numpy` and `matplotlib` libraries.\n",
    "\n",
    "### Imports and Function Definition:\n",
    "- **Imports**: The script begins by importing necessary modules: `numpy` for numerical operations and `matplotlib.pyplot` for plotting. Additionally, `FuncAnimation` is imported from `matplotlib.animation` for creating the animation.\n",
    "- **Function `random_walk_2d`**: This function is defined to generate a two-dimensional random walk. It takes `n_steps` as an argument to specify the number of steps in the walk. The function generates random step sizes (`dx`, `dy`) and directions, and computes the cumulative sum to get the x and y coordinates of the walk.\n",
    "\n",
    "### Setting Up the Plot:\n",
    "- The script sets `n_steps` to 100 and calls `random_walk_2d` to obtain the x and y coordinates.\n",
    "- A figure and axes (`fig, ax`) are created using `matplotlib`, and a line plot (`line`) and a point marker (`point`) are initialized. The plot is styled with gridlines, a legend, equal aspect ratio, and labeled axes. The axes' limits are set based on the `x` and `y` values, with some padding for clarity.\n",
    "\n",
    "### Animation Function:\n",
    "- The `animate` function is defined to update the data of the `line` and `point` objects for each frame. It plots the path of the walk up to the current step and highlights the current position with a red point.\n",
    "\n",
    "### Creating the Animation:\n",
    "- The animation is created using `FuncAnimation`, which takes the figure (`fig`), the `animate` function, the number of frames equal to `n_steps`, and sets `blit=True` for efficient rendering. The `repeat` parameter is set to `False` to prevent the animation from looping.\n",
    "\n",
    "### Displaying and Saving the Animation:\n",
    "- The layout is adjusted using `plt.tight_layout()` for a neater display, and the animation is shown using `plt.show()`.\n",
    "- Finally, the animation is saved as a GIF file named 'random_walk.gif', using the `Pillow` writer at 60 frames per second.\n",
    "\n",
    "This script effectively visualizes a 2D random walk, demonstrating both the path taken and the current position at each step, and it saves the resulting animation as a GIF file.\n"
   ]
  },
  {
   "cell_type": "code",
   "execution_count": null,
   "id": "037b2d95",
   "metadata": {},
   "outputs": [],
   "source": [
    "import numpy as np\n",
    "import matplotlib.pyplot as plt\n",
    "from matplotlib.animation import FuncAnimation\n",
    "\n",
    "def random_walk_2d(n_steps=1000):\n",
    "    \"\"\"Generate a 2D random walk.\"\"\"\n",
    "    dx = np.random.choice([-1, 1], size=n_steps)\n",
    "    dy = np.random.choice([-1, 1], size=n_steps)\n",
    "    move_x = np.random.choice([True, False], size=n_steps)\n",
    "    dx *= move_x\n",
    "    dy *= ~move_x\n",
    "    x = np.cumsum(dx)\n",
    "    y = np.cumsum(dy)\n",
    "    return x, y\n",
    "\n",
    "n_steps = 100\n",
    "x, y = random_walk_2d(n_steps)\n",
    "\n",
    "fig, ax = plt.subplots(figsize=(10, 6))\n",
    "line, = ax.plot([], [], label=\"Random Walk\", marker=\"o\", markersize=3, linestyle=\"-\")\n",
    "point, = ax.plot([], [], 'ro')\n",
    "ax.grid(True)\n",
    "ax.legend()\n",
    "ax.axis('equal')\n",
    "ax.set_xlim(x.min() - 10, x.max() + 10)\n",
    "ax.set_ylim(y.min() - 10, y.max() + 10)\n",
    "ax.set_title(\"2D Random Walk\")\n",
    "ax.set_xlabel(\"X Position\")\n",
    "ax.set_ylabel(\"Y Position\")\n",
    "\n",
    "def animate(i):\n",
    "    line.set_data(x[:i], y[:i])\n",
    "    point.set_data([x[i]], [y[i]])  # Use lists or arrays even for a single point\n",
    "    return line, point\n",
    "\n",
    "\n",
    "ani = FuncAnimation(fig, animate, frames=n_steps, blit=True, repeat=False)\n",
    "plt.tight_layout()\n",
    "plt.show()\n",
    "ani.save('random_walk.gif', writer='pillow', fps=60)"
   ]
  },
  {
   "cell_type": "code",
   "execution_count": null,
   "id": "3d720810",
   "metadata": {},
   "outputs": [],
   "source": [
    "from IPython.display import Image\n",
    "\n",
    "Image(filename=\"random_walk.gif\")\n"
   ]
  },
  {
   "cell_type": "markdown",
   "id": "202a9219",
   "metadata": {},
   "source": [
    "## Galton Board Animation Script Explanation\n",
    "\n",
    "This script creates an animation of a Galton Board (also known as a Bean Machine or Quincunx), using Python's `numpy` and `matplotlib` libraries. It simulates the path of balls falling through a grid of pegs and displays the final distribution of their positions.\n",
    "\n",
    "### Script Components:\n",
    "\n",
    "1. **Imports**:\n",
    "   ```python\n",
    "   import numpy as np\n",
    "   import matplotlib.pyplot as plt\n",
    "   from matplotlib.animation import FuncAnimation, PillowWriter\n",
    "   ```\n",
    "   - `numpy` is used for numerical operations.\n",
    "   - `matplotlib.pyplot` and `FuncAnimation` from `matplotlib.animation` are used for plotting and animating, respectively.\n",
    "   - `PillowWriter` is imported for saving the animation as a GIF.\n",
    "\n",
    "2. **Parameters and Pegs Setup**:\n",
    "   - The number of rows (`num_rows`) and initial position of pegs are defined.\n",
    "   - The script calculates the number of pegs in each row and defines their radius and spacing.\n",
    "   - A `for` loop is used to create a grid of pegs on a `matplotlib` axis.\n",
    "\n",
    "3. **Figure and Axis Configuration**:\n",
    "   - The figure and axis are set up with two subplots: one for the Galton Board and another for the histogram showing the distribution of final positions of the balls.\n",
    "   - The axis limits and aspect ratio are set for better visualization.\n",
    "\n",
    "4. **Animation Setup**:\n",
    "   - A line object (`line`) is initialized for updating the path of each ball.\n",
    "   - The `init` function is defined to initialize the animation.\n",
    "   - The `update` function calculates the path of each ball, simulates its motion, and updates the histogram with the final position of each ball.\n",
    "\n",
    "5. **Creating and Saving the Animation**:\n",
    "   ```python\n",
    "   num_balls = 200  # Number of balls to simulate\n",
    "   ani = FuncAnimation(fig, update, frames=num_balls, init_func=init, blit=True, repeat=False)\n",
    "   writer = PillowWriter(fps=10)\n",
    "   ani.save(\"galton_board.gif\", writer=writer, dpi=72)\n",
    "   ```\n",
    "   - `FuncAnimation` creates the animation with a specified number of balls.\n",
    "   - The animation is saved as a GIF file using `PillowWriter`.\n",
    "\n",
    "### Summary:\n",
    "This script demonstrates a Galton Board simulation where balls drop through a series of pegs, each deflecting randomly to the left or right, resulting in a normal distribution-like pattern at the bottom. The animation captures both the motion of the balls and the evolving distribution of their final positions.\n"
   ]
  },
  {
   "cell_type": "code",
   "execution_count": null,
   "id": "f13f0102",
   "metadata": {},
   "outputs": [],
   "source": [
    "import numpy as np\n",
    "import matplotlib.pyplot as plt\n",
    "from matplotlib.animation import FuncAnimation, PillowWriter\n",
    "\n",
    "\n",
    "# Parameters\n",
    "num_rows = 10\n",
    "initial_position = 0\n",
    "\n",
    "# ... [rest of the initialization code, unchanged]\n",
    "\n",
    "# Calculate the number of pegs in each row\n",
    "num_pegs_in_row = [i+1 for i in range(num_rows)]\n",
    "\n",
    "# Define peg radius and spacing\n",
    "peg_radius = 0.1\n",
    "peg_spacing = 1.0\n",
    "\n",
    "# Set up the figure and axis\n",
    "fig, (ax, ax_hist) = plt.subplots(2, 1, figsize=(6, 8), gridspec_kw={'height_ratios': [2, 1]})\n",
    "\n",
    "# Create the grid of pegs\n",
    "for row in range(num_rows):\n",
    "    num_pegs = num_pegs_in_row[row]\n",
    "    row_offset = row * peg_spacing / 2\n",
    "    for i in range(num_pegs):\n",
    "        x = initial_position + i * peg_spacing - row_offset\n",
    "        y = - row * peg_spacing\n",
    "        circle = plt.Circle((x, y), peg_radius, color='blue', fill=True)\n",
    "        ax.add_patch(circle)\n",
    "\n",
    "# Set axis limits and aspect ratio for better visualization\n",
    "ax.set_xlim(-5,5)\n",
    "ax.set_ylim(-10,1)\n",
    "ax.set_aspect('equal')\n",
    "\n",
    "\n",
    "\n",
    "\n",
    "# Line object for updating path of the ball\n",
    "line, = ax.plot([], [], color='red', lw=2)\n",
    "\n",
    "def init():\n",
    "    \"\"\"Initialize the animation.\"\"\"\n",
    "    line.set_data([], [])\n",
    "    return line,\n",
    "\n",
    "\n",
    "final_positions = []\n",
    "\n",
    "def update(frame):\n",
    "    \"\"\"Update function for animation.\"\"\"\n",
    "    x_peg = 0\n",
    "    y_peg = 0\n",
    "    x_hit = [0]  # Start position\n",
    "    y_hit = [0]  # Start position\n",
    "\n",
    "    # Generate the entire path of one ball\n",
    "    for row in range(1, num_rows):\n",
    "        row_offset = row * peg_spacing / 2\n",
    "        x_peg += np.random.choice([-1, 1])*peg_spacing*0.5 \n",
    "        y_peg = - row * peg_spacing\n",
    "        x_hit.append(x_peg)\n",
    "        y_hit.append(y_peg)\n",
    "    \n",
    "    line.set_data(x_hit, y_hit)\n",
    "\n",
    "    # Append the final x position of the ball to the list\n",
    "    final_positions.append(x_peg)\n",
    "\n",
    "    # Clear the previous histogram and plot the updated one\n",
    "    ax_hist.cla()\n",
    "    ax_hist.hist(final_positions, bins=np.arange(-5, 5.5, peg_spacing), color='blue', alpha=0.7, align='left')\n",
    "    ax_hist.set_xlim(-5, 5)\n",
    "    ax_hist.set_ylim(0, 70)  # Adjust max y-value if needed\n",
    "    ax_hist.set_title(\"Distribution of Final Positions\")\n",
    "    \n",
    "    return line,\n",
    "\n",
    "# Create the animation\n",
    "num_balls = 200  # You can adjust this to the desired number of balls\n",
    "ani = FuncAnimation(fig, update, frames=num_balls, init_func=init, blit=True, repeat=False)\n",
    "\n",
    "# Save the animation as a GIF\n",
    "writer = PillowWriter(fps=10)\n",
    "#ani.save(\"galton_board.gif\", writer=writer)\n",
    "ani.save(\"galton_board.gif\", writer=writer, dpi=72)\n",
    "\n"
   ]
  },
  {
   "cell_type": "code",
   "execution_count": null,
   "id": "bed07982",
   "metadata": {},
   "outputs": [],
   "source": [
    "from IPython.display import Image\n",
    "\n",
    "Image(filename=\"galton_board.gif\")"
   ]
  }
 ],
 "metadata": {
  "kernelspec": {
   "display_name": "Python 3 (ipykernel)",
   "language": "python",
   "name": "python3"
  },
  "language_info": {
   "codemirror_mode": {
    "name": "ipython",
    "version": 3
   },
   "file_extension": ".py",
   "mimetype": "text/x-python",
   "name": "python",
   "nbconvert_exporter": "python",
   "pygments_lexer": "ipython3",
   "version": "3.9.15"
  }
 },
 "nbformat": 4,
 "nbformat_minor": 5
}
