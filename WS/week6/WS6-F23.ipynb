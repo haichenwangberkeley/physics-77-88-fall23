{
 "cells": [
  {
   "cell_type": "markdown",
   "id": "893a4b0a",
   "metadata": {},
   "source": [
    "# Workshop 6, September 28, 2023\n",
    "due by 9 pm October 3, 2023\n",
    "\n",
    "# Part 1 Visualization of Probability Density Functions using Scipy\n",
    "\n",
    "\n",
    "## Scipy introduction\n",
    "SciPy (pronounced \"sigh-pie\") is a Python-based ecosystem of open-source software for mathematics, science, and engineering. It is built on top of the NumPy library and provides a host of functionalities that extend beyond NumPy's capabilities. The name \"SciPy\" also refers specifically to the central library within this ecosystem, which is used for high-level computations.\n",
    "\n",
    "\n",
    "The **scipy.stats** module is a significant part of the SciPy library, dedicated to statistical functions and algorithms.\n",
    "\n",
    "- Diverse Distributions: The module provides tools to work with a wide range of probability distributions, both continuous and discrete. This includes standard distributions like normal, uniform, binomial, poisson, and many more specialized ones.\n",
    "\n",
    "- Statistical Functions: Functions for computing statistics are available, such as mean, median, variance, and standard deviation. It also provides functions for more advanced statistical tests, like t-tests, ANOVA, chi-squared tests, and correlation coefficients.\n",
    "\n",
    "- Random Sampling and Data Generation: Tools to generate random samples from various distributions, which can be particularly useful for simulations or generating synthetic data.\n",
    "\n",
    "- Statistical Utilities: Functions for tasks like histogram creation, data transformation, and kernel density estimation.\n",
    "\n",
    "**We will use functions available in scipy.stats module to understand the qualititve behavior of the most common PDFs/PMFs**"
   ]
  },
  {
   "cell_type": "markdown",
   "id": "5874c79a",
   "metadata": {},
   "source": [
    "## Binomial Distribution\n",
    "The probability mass function (PMF) for the Binomial distribution is:\n",
    "$ P(X=k) = \\binom{n}{k} p^k (1-p)^{n-k} $\n",
    "where:\n",
    "- $ n $ is the number of trials.\n",
    "- $ p $ is the probability of success in any given trial.\n",
    "- $ k $ is the number of successes.\n",
    "\n",
    "\n",
    "**Variance and Standard Deviation for Binomial function**\n",
    "\n",
    "Variance ($ \\sigma^2 $):\n",
    "$ \\sigma^2 = n \\times p \\times (1-p) $\n",
    "\n",
    "Standard Deviation ($ \\sigma $):\n",
    "$ \\sigma = \\sqrt{n \\times p \\times (1-p)} $\n",
    "\n",
    "Comment: The binomial distribution models the number of successes in a fixed number of independent Bernoulli trials. It's commonly used in scenarios like coin tosses or quality control in manufacturing.\n",
    "\n",
    "\n",
    "\n",
    "### Practice\n",
    "Read the example code cell below to understand how you can use scipy module to draw a PMF for Binomial distribution. Create three sets of curves with different values for $n$ and $p$ and overlay them on the same plot. Summarize how the shape of this PMF would change as functions of $n$ and $p$ in a markdown cell\n"
   ]
  },
  {
   "cell_type": "code",
   "execution_count": null,
   "id": "225f1d9c",
   "metadata": {},
   "outputs": [],
   "source": [
    "# Import necessary libraries\n",
    "from scipy.stats import binom\n",
    "import matplotlib.pyplot as plt\n",
    "import numpy as np\n",
    "\n",
    "# Define the parameters for the binomial distribution\n",
    "n, p = 100, 0.5\n",
    "\n",
    "# Create a range of possible outcomes (from 0 successes to n successes)\n",
    "x = np.arange(0, n+1)\n",
    "\n",
    "# Calculate the PMF values for each outcome\n",
    "pmf = binom.pmf(x, n, p)\n",
    "\n",
    "# Plot the PMF values\n",
    "plt.plot(x, pmf)\n",
    "plt.xlabel('Number of Successes')\n",
    "plt.ylabel('Probability')\n",
    "plt.title('PMF of Binomial Distribution (n=100, p=0.5)')\n",
    "plt.show()"
   ]
  },
  {
   "cell_type": "code",
   "execution_count": null,
   "id": "65b1f0b4",
   "metadata": {},
   "outputs": [],
   "source": [
    "# Practice"
   ]
  },
  {
   "cell_type": "markdown",
   "id": "1b7766f2",
   "metadata": {},
   "source": [
    "Your observation"
   ]
  },
  {
   "cell_type": "markdown",
   "id": "da0bdf19",
   "metadata": {},
   "source": [
    "# Poisson Distribution\n",
    "The PMF for the Poisson distribution is:\n",
    "$ P(X=k) = \\frac{e^{-\\lambda} \\lambda^k}{k!} $\n",
    "where:\n",
    "- $ \\lambda $ is the mean number of occurrences in a given interval.\n",
    "- $ k $ is the actual number of successes.\n",
    "Comment: The Poisson distribution models the number of events occurring in a fixed interval of time or space. It's used in scenarios such as modeling the number of emails received in a day or the number of phone calls at a call center in an hour.\n",
    "\n",
    "**Do you remember the variance and standard deviation of Poisson function?**\n",
    "\n",
    "### Practice\n",
    "Read the example code cell below to understand how you can use scipy module to draw a PMF for Poisson distribution. Create three sets of curves with different expectation values and overlay them on the same plot. Summarize how the shape of this PMF would change as functions of $\\lambda$ in a markdown cell"
   ]
  },
  {
   "cell_type": "code",
   "execution_count": null,
   "id": "5036356d",
   "metadata": {},
   "outputs": [],
   "source": [
    "from scipy.stats import poisson\n",
    "\n",
    "lambda_val = 3\n",
    "x = np.arange(0, 2*lambda_val)\n",
    "pmf = poisson.pmf(x, lambda_val)\n",
    "plt.bar(x, pmf)\n",
    "plt.xlabel('Number of Events')\n",
    "plt.ylabel('Probability')\n",
    "plt.title('PMF of Poisson Distribution (lambda=3)')\n",
    "plt.show()\n"
   ]
  },
  {
   "cell_type": "code",
   "execution_count": null,
   "id": "c552ca01",
   "metadata": {},
   "outputs": [],
   "source": [
    "# Practice"
   ]
  },
  {
   "cell_type": "code",
   "execution_count": null,
   "id": "6182d859",
   "metadata": {},
   "outputs": [],
   "source": [
    "Your observation"
   ]
  },
  {
   "cell_type": "markdown",
   "id": "edd07d48",
   "metadata": {},
   "source": [
    "\n",
    "# Gaussian (Normal) Distribution\n",
    "The probability density function (PDF) for the Gaussian distribution is:\n",
    "$ f(x|\\mu,\\sigma^2) = \\frac{1}{\\sigma \\sqrt{2\\pi}} e^{ - \\frac{(x-\\mu)^2}{2\\sigma^2} } $\n",
    "where:\n",
    "- $ \\mu $ is the mean of the distribution.\n",
    "- $ \\sigma $ is the standard deviation.\n",
    "Comment: The Gaussian or normal distribution is ubiquitous in statistics and is used in a plethora of scenarios due to the Central Limit Theorem. Examples include modeling grades in a large class or errors in measurements.\n",
    "\n",
    "**Do you remember the variance and standard deviation of Gaussian function?**\n",
    "\n",
    "\n",
    "### Practice\n",
    "Read the example code cell below to understand how you can use scipy module to draw a PDF for Normal distribution. Create three sets of curves with different expectation values and overlay them on the same plot. Summarize how the shape of this PDF would change as functions of $\\mu$ and $\\sigma$ in a markdown cell"
   ]
  },
  {
   "cell_type": "code",
   "execution_count": null,
   "id": "b90098c4",
   "metadata": {},
   "outputs": [],
   "source": [
    "from scipy.stats import norm\n",
    "\n",
    "mu, sigma = 0, 1\n",
    "x = np.linspace(-5, 5, 1000)\n",
    "pdf = norm.pdf(x, mu, sigma)\n",
    "plt.plot(x, pdf)\n",
    "plt.xlabel('Value')\n",
    "plt.ylabel('Probability Density')\n",
    "plt.title('PDF of Normal Distribution (mu=0, sigma=1)')\n",
    "plt.show()\n"
   ]
  },
  {
   "cell_type": "code",
   "execution_count": null,
   "id": "8f2a7551",
   "metadata": {},
   "outputs": [],
   "source": [
    "# Practice "
   ]
  },
  {
   "cell_type": "code",
   "execution_count": null,
   "id": "2f527f5f",
   "metadata": {},
   "outputs": [],
   "source": [
    "Your observation"
   ]
  },
  {
   "cell_type": "markdown",
   "id": "b26aa037",
   "metadata": {},
   "source": [
    "# Exponential Distribution\n",
    "The PDF for the Exponential distribution is:\n",
    "$ f(x|\\lambda) = \\lambda e^{-\\lambda x} $\n",
    "for $ x \\geq 0 $, 0 otherwise.\n",
    "where:\n",
    "- $ \\lambda $ is the rate parameter.\n",
    "Comment: The Exponential distribution is often used to model the time elapsed between events, such as the time between customer arrivals in a queue or the life expectancy of electrical components.\n",
    "\n",
    "**Do you remember the variance and standard deviation of the Exponential function?**\n",
    "\n",
    "\n",
    "### Practice\n",
    "Read the example code cell below to understand how you can use scipy module to draw a PDF for Exponential distribution. Create three sets of curves with different expectation values and overlay them on the same plot. Summarize how the shape of this PDF would change as functions of $\\lambda$ in a markdown cell"
   ]
  },
  {
   "cell_type": "code",
   "execution_count": null,
   "id": "e6efb22d",
   "metadata": {},
   "outputs": [],
   "source": [
    "from scipy.stats import expon\n",
    "\n",
    "lambda_val = 0.5\n",
    "x = np.linspace(0, 5, 1000)\n",
    "pdf = expon.pdf(x, scale=1/lambda_val)\n",
    "plt.plot(x, pdf)\n",
    "plt.xlabel('Value')\n",
    "plt.ylabel('Probability Density')\n",
    "plt.title('PDF of Exponential Distribution (lambda=0.5)')\n",
    "plt.show()\n"
   ]
  },
  {
   "cell_type": "code",
   "execution_count": null,
   "id": "d9f024ff",
   "metadata": {},
   "outputs": [],
   "source": [
    "# Practice"
   ]
  },
  {
   "cell_type": "code",
   "execution_count": null,
   "id": "babf64c0",
   "metadata": {},
   "outputs": [],
   "source": [
    "Your observation"
   ]
  },
  {
   "cell_type": "markdown",
   "id": "3078071e",
   "metadata": {},
   "source": [
    "# The real exericse\n",
    "\n",
    "Draw the Poisson function with $\\lambda = 1000$. Now, overlay a Gaussian function and a Binomial function with this Poisson function. Tune the parameters of Gaussian and Binomial function so that their shapes are as close to the Poisson function as Poisson. \n",
    "\n",
    "- Hint: what descriptive statistics could tell you about the shape of a function? "
   ]
  },
  {
   "cell_type": "code",
   "execution_count": null,
   "id": "69e3fc08",
   "metadata": {},
   "outputs": [],
   "source": [
    "\n",
    "\n"
   ]
  },
  {
   "cell_type": "markdown",
   "id": "7825fd75",
   "metadata": {},
   "source": [
    "# Part 2 Random Number Generation with Numpy\n",
    "\n",
    "NumPy's random numbers are based on the Mersenne Twister algorithm, which is a widely-used method for generating pseudo-random numbers.\n",
    "\n",
    "Key Features of NumPy's Random Module:\n",
    "\n",
    "- Broad Range of Distributions: Beyond basic uniform and normal distributions, NumPy offers functions to generate samples from dozens of distributions, such as Binomial, Poisson, Exponential, and many more.\n",
    "\n",
    "- Versatility: You can generate single random numbers, arrays of random numbers, or even matrices. These numbers can be integers or floats, depending on your needs.\n",
    "\n",
    "- Reproducibility with Seeds: NumPy allows setting a 'seed' for its random number generator. By using the same seed, you can reproduce the same sequence of random numbers, which is invaluable for debugging or sharing results with others.\n",
    "\n",
    "- Random Sampling: NumPy provides functions to randomly sample from arrays, which can be used for bootstrapping or other resampling techniques.\n",
    "\n",
    "## Basic Usage Examples:"
   ]
  },
  {
   "cell_type": "code",
   "execution_count": null,
   "id": "ad22abc5",
   "metadata": {},
   "outputs": [],
   "source": [
    "# Importing the necessary module\n",
    "import numpy as np\n",
    "\n",
    "# --- Seed for Reproducibility ---\n",
    "# Setting a seed ensures that the random numbers are reproducible. If you run this code multiple times,\n",
    "# you'll get the same sequence of random numbers, which is useful for debugging.\n",
    "# Try changing the seed and see if you get identical outcomes below\n",
    "np.random.seed(32)\n",
    "\n",
    "# --- Generating Random Floats ---\n",
    "# Generate a single random float between 0 (inclusive) and 1 (exclusive)\n",
    "single_random_float = np.random.rand()\n",
    "print(\"Single Random Float:\", single_random_float)\n",
    "\n",
    "# Generate a 1D array of random floats\n",
    "random_floats_1d = np.random.rand(5)\n",
    "print(\"\\n1D Array of Random Floats:\", random_floats_1d)\n",
    "\n",
    "# Generate a 2D array (matrix) of random floats\n",
    "random_floats_2d = np.random.rand(3, 2)  # 3 rows, 2 columns\n",
    "print(\"\\n2D Array of Random Floats:\\n\", random_floats_2d)\n",
    "\n",
    "# --- Generating Random Integers ---\n",
    "# Generate a single random integer between 1 (inclusive) and 6 (exclusive), simulating a dice roll\n",
    "dice_roll = np.random.randint(1, 6)\n",
    "print(\"\\nDice Roll (1 to 5):\", dice_roll)\n",
    "\n",
    "# Generate a 1D array of random integers within a range\n",
    "random_integers_1d = np.random.randint(1, 10, 5)  # 5 integers between 1 (inclusive) and 10 (exclusive)\n",
    "print(\"\\n1D Array of Random Integers:\", random_integers_1d)\n",
    "\n",
    "# Generate a 2D array (matrix) of random integers within a range\n",
    "random_integers_2d = np.random.randint(1, 100, (3, 2))  # 3 rows, 2 columns with numbers between 1 and 99\n",
    "print(\"\\n2D Array of Random Integers:\\n\", random_integers_2d)\n",
    "\n",
    "# --- Controlling the Sample Size ---\n",
    "# Randomly choose 3 numbers from a given list (with replacement)\n",
    "sample_with_replacement = np.random.choice([1, 2, 3, 4, 5], size=3)\n",
    "print(\"\\nSample with Replacement:\", sample_with_replacement)\n",
    "\n",
    "# Randomly choose 3 numbers from a given list (without replacement)\n",
    "sample_without_replacement = np.random.choice([1, 2, 3, 4, 5], size=3, replace=False)\n",
    "print(\"\\nSample without Replacement:\", sample_without_replacement)\n",
    "\n"
   ]
  },
  {
   "cell_type": "markdown",
   "id": "0dc63e08",
   "metadata": {},
   "source": [
    "## Uniform distribution\n",
    "\n",
    "- follow the example below and generate a uniform distribution between $\\pi$ and $+3\\pi$"
   ]
  },
  {
   "cell_type": "code",
   "execution_count": null,
   "id": "6c6470ea",
   "metadata": {},
   "outputs": [],
   "source": [
    "# Import necessary modules\n",
    "import numpy as np\n",
    "import matplotlib.pyplot as plt\n",
    "\n",
    "# Setting seed ensures reproducibility of random numbers\n",
    "np.random.seed(0)\n",
    "\n",
    "# --- Uniform Distribution ---\n",
    "# Generate 1000 random numbers from a uniform distribution between 0 and 1\n",
    "uniform_numbers = np.random.rand(1000)\n",
    "\n",
    "# Plotting the histogram for the uniform distribution\n",
    "plt.hist(uniform_numbers, bins=20, density=True)\n",
    "plt.title('Uniform Distribution [0, 1]')\n",
    "plt.show()\n",
    "\n"
   ]
  },
  {
   "cell_type": "code",
   "execution_count": null,
   "id": "bea12a07",
   "metadata": {},
   "outputs": [],
   "source": [
    "# Your code here"
   ]
  },
  {
   "cell_type": "markdown",
   "id": "c17a1714",
   "metadata": {},
   "source": [
    "## Poisson distribution\n",
    "\n",
    "follow the example below as well as np.random's web reference, and generate a 2D numpy array of shape (2,100) where the first row are 100 poisson random numbers with a mean of 50, and the second row are 100 poisson random numbers with a mean of 150"
   ]
  },
  {
   "cell_type": "code",
   "execution_count": null,
   "id": "fee89095",
   "metadata": {},
   "outputs": [],
   "source": [
    "# --- Poisson Distribution ---\n",
    "# Parameters for the Poisson distribution (mean and variance are both lambda)\n",
    "lambda_val = 5\n",
    "\n",
    "# Generate 1000 random numbers from a Poisson distribution with lambda = 5\n",
    "poisson_numbers = np.random.poisson(lambda_val, 1000)\n",
    "\n",
    "# Plotting the histogram for the Poisson distribution\n",
    "plt.hist(poisson_numbers, bins=30, density=True)\n",
    "plt.title('Poisson Distribution (lambda=5)')\n",
    "plt.show()\n",
    "\n"
   ]
  },
  {
   "cell_type": "code",
   "execution_count": null,
   "id": "57902565",
   "metadata": {},
   "outputs": [],
   "source": [
    "# Your code here"
   ]
  },
  {
   "cell_type": "markdown",
   "id": "01e8e571",
   "metadata": {},
   "source": [
    "## Gaussian random numbers\n",
    "\n",
    "follow the example below and generate a set of random numbers, each which are a product of two Gaussian random numbers, $A$ and $B$. The two Gaussian random numbers, $A$ and $B$, should be generated from Gaussian PDF of (mu = 10, sigma = 3) and Gaussian PDF of (mu = 15, sigma = 5), respectively\n",
    "\n",
    "Draw the distribution of this set of random number $A \\cdot B$"
   ]
  },
  {
   "cell_type": "code",
   "execution_count": null,
   "id": "8e6d884d",
   "metadata": {},
   "outputs": [],
   "source": [
    "# --- Normal (Gaussian) Distribution ---\n",
    "# Parameters for the normal distribution\n",
    "mu, sigma = 0, 1\n",
    "\n",
    "# Generate 1000 random numbers from a normal distribution with mean = 0 and standard deviation = 1\n",
    "normal_numbers = np.random.normal(mu, sigma, 1000)\n",
    "\n",
    "# Plotting the histogram for the normal distribution\n",
    "plt.hist(normal_numbers, bins=30, density=True)\n",
    "plt.title('Normal Distribution (mu=0, sigma=1)')\n",
    "plt.show()\n",
    "\n"
   ]
  },
  {
   "cell_type": "code",
   "execution_count": null,
   "id": "467731f3",
   "metadata": {},
   "outputs": [],
   "source": [
    "# Your code here\n",
    "\n"
   ]
  },
  {
   "cell_type": "markdown",
   "id": "8de0f816",
   "metadata": {},
   "source": [
    "## Exponential random numbers\n",
    "\n",
    "Building on the code below, you should calculate the mean value of all the random numbers generated, the mean value of the random numbers that are smaller than 8, the mean value of the random numbers that are smaller than 6. Make a scatter plot for these three set of numbers. Each set includes a pair of values: the total number of random numbers, and the mean value."
   ]
  },
  {
   "cell_type": "code",
   "execution_count": null,
   "id": "80de6da3",
   "metadata": {},
   "outputs": [],
   "source": [
    "# --- Exponential Distribution ---\n",
    "# Parameters for the exponential distribution (mean = 1/lambda)\n",
    "lambda_exp = 0.5\n",
    "\n",
    "# Generate 1000 random numbers from an exponential distribution with lambda = 0.5\n",
    "exponential_numbers = np.random.exponential(1/lambda_exp, 1000)\n",
    "\n",
    "# Plotting the histogram for the exponential distribution\n",
    "plt.hist(exponential_numbers, bins=30, density=True)\n",
    "plt.title('Exponential Distribution (lambda=0.5)')\n",
    "plt.show()\n",
    "\n"
   ]
  },
  {
   "cell_type": "code",
   "execution_count": null,
   "id": "4222da28",
   "metadata": {},
   "outputs": [],
   "source": [
    "# Your code here"
   ]
  },
  {
   "cell_type": "markdown",
   "id": "7e2c84b1",
   "metadata": {},
   "source": [
    "## Binomial Distribution\n",
    "\n",
    "Use scipy.stats to produce a Binomial PDF that matches the one used to generate the random numbers. Overlay that PDF with the random data set generated below."
   ]
  },
  {
   "cell_type": "code",
   "execution_count": null,
   "id": "762b523c",
   "metadata": {},
   "outputs": [],
   "source": [
    "# --- Binomial Distribution ---\n",
    "# Parameters for the binomial distribution\n",
    "n, p = 100, 0.5\n",
    "\n",
    "# Generate 1000 random numbers from a binomial distribution with n=10 trials and p=0.5 probability of success\n",
    "binomial_numbers = np.random.binomial(n, p, 1000)\n",
    "\n",
    "# Plotting the histogram for the binomial distribution\n",
    "plt.hist(binomial_numbers, density=True, bins=50,range=(25,75))\n",
    "plt.title('Binomial Distribution (n=10, p=0.5)')\n",
    "plt.show()\n"
   ]
  },
  {
   "cell_type": "code",
   "execution_count": null,
   "id": "b7d96bcd",
   "metadata": {},
   "outputs": [],
   "source": [
    "# Your code here"
   ]
  },
  {
   "cell_type": "markdown",
   "id": "e6bbcfd1",
   "metadata": {},
   "source": [
    "# Part 3 Indepedent events vs correlated events\n",
    "\n",
    "## Part 3.1\n",
    "Generate two set (x,y) of Gaussian random numbers using the same PDF (mu = 10, sigma = 2). Each set has 10,000 entries. Use the code below to show them in a two-dimensional histogram"
   ]
  },
  {
   "cell_type": "code",
   "execution_count": null,
   "id": "3b6b6665",
   "metadata": {},
   "outputs": [],
   "source": [
    "import numpy as np\n",
    "import matplotlib.pyplot as plt\n",
    "\n",
    "# How do you do the generation?\n",
    "\n",
    "\n",
    "\n",
    "# Plot 2D histogram\n",
    "plt.hist2d(x, y, bins=[np.linspace(0, 20, 50), np.linspace(0, 20, 50)], cmap='inferno')\n",
    "plt.colorbar(label='Counts')\n",
    "plt.xlabel('X values')\n",
    "plt.ylabel('Y values')\n",
    "plt.title('2D Histogram')\n",
    "plt.show()\n",
    "\n"
   ]
  },
  {
   "cell_type": "markdown",
   "id": "dbcb26b1",
   "metadata": {},
   "source": [
    "# Part 3.2 \n",
    "First generate a set of Gaussian random numbers with PDF (mu = 10, sigma = 2), $k = {k_i}$. Then, use the generated $k$ values to generate another set of random number $l$, where each $l$ value is generated from a Gaussian PDF with mu = $k_i$, sigma = 2. Show k,l in a two-dimensional histogram just like the one used in cell above. Compare and contrast these two plots. Write down your analysis. "
   ]
  },
  {
   "cell_type": "code",
   "execution_count": null,
   "id": "5e2e5439",
   "metadata": {},
   "outputs": [],
   "source": [
    "import numpy as np\n",
    "import matplotlib.pyplot as plt\n",
    "\n",
    "\n",
    "# How do you generate the data set\n",
    "\n",
    "# Plot 2D histogram\n",
    "plt.hist2d(x, y, bins=[np.linspace(0, 20, 50), np.linspace(0, 20, 50)], cmap='inferno')\n",
    "plt.colorbar(label='Counts')\n",
    "plt.xlabel('X values')\n",
    "plt.ylabel('Y values')\n",
    "plt.title('2D Histogram')\n",
    "plt.show()\n"
   ]
  }
 ],
 "metadata": {
  "kernelspec": {
   "display_name": "Python 3 (ipykernel)",
   "language": "python",
   "name": "python3"
  },
  "language_info": {
   "codemirror_mode": {
    "name": "ipython",
    "version": 3
   },
   "file_extension": ".py",
   "mimetype": "text/x-python",
   "name": "python",
   "nbconvert_exporter": "python",
   "pygments_lexer": "ipython3",
   "version": "3.9.15"
  }
 },
 "nbformat": 4,
 "nbformat_minor": 5
}
