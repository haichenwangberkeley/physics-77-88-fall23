{
 "cells": [
  {
   "cell_type": "markdown",
   "id": "c5bedcca",
   "metadata": {},
   "source": [
    "# Recap of last lecture\n",
    "\n",
    "- Basic operations in Python\n",
    "- Types of variables\n",
    "    * integer, float, string, list, tuple, dictionary, numpy arrays\n",
    "    * We will do more exercises with list and numpy arrays today\n",
    "- Functions\n",
    "- Modules\n",
    "    * math, numpy, etc.\n",
    "    "
   ]
  },
  {
   "cell_type": "markdown",
   "id": "e2eb569f",
   "metadata": {},
   "source": [
    "- ## Basic operations in Python\n",
    "- ## Types of variables\n",
    "    * integer, float, string, list, tuple, dictionary, numpy arrays\n",
    "    * We will do more exercises with list and numpy arrays today\n",
    "- ## Functions\n",
    "- ## Modules\n",
    "    * math, cmath, numpy, etc.\n",
    "\n"
   ]
  },
  {
   "cell_type": "markdown",
   "id": "fc852eb9",
   "metadata": {},
   "source": [
    "# Today's outline\n",
    "\n",
    "- ## Review a couple of questions from last lecture and the homework\n",
    "    * **Precision matters**\n",
    "- ## Operations: list \n",
    "    * Simple operations with list\n",
    "- ## Control structures \n",
    "    * **loops: for, while**\n",
    "    * **if, else**\n",
    "    * **Conditions**\n",
    "- ## Quiz\n",
    "    * multi-choice problem via bcourse"
   ]
  },
  {
   "cell_type": "markdown",
   "id": "c759c27b",
   "metadata": {},
   "source": [
    "## Question from last lecture -  Projectile Motion\n",
    "\n",
    "Last week, we went over a snippet of code that calcualtes the projectile's motion. Specifically, it returns the initial speed of the projectile, for a given launch angle and target distance. \n",
    "\n",
    "There was a question - **why does the function return a huge number even if the launch angle is 90 degree?**\n",
    "\n",
    "- ### Debugging:\n",
    "    * this is a good example to show how we 'debug' our code. \n",
    "    * our goal is to track down the source of the large value\n",
    "    * we print out the intermediate result at each step of calculation, so that the function becomes transparent to us\n"
   ]
  },
  {
   "cell_type": "code",
   "execution_count": null,
   "id": "d864aed4",
   "metadata": {},
   "outputs": [],
   "source": [
    "import math # Import modules \n",
    "\n",
    "target_distance = 16000 # distance between campanile and mulford. A variable with assigned value\n",
    "\n",
    "launch_angle = 90 # launch angle set by user. A variable assigned with a value\n",
    "\n",
    "# A function that calculates the speed needed for a given set of values of the target distance and launch angle \n",
    "def speed( R, theta ): # the function has input arguments\n",
    "    g = 9.81 # the acceleration; \n",
    "    theta_rad = math.radians(theta) # converting the angle from degrees to radians \n",
    "    v = math.sqrt( R*g / (math.cos(theta_rad) * math.sin(theta_rad) *2)) # calculate the speed\n",
    "    print(\"Values of theta_rad, math.cos(theta_rad), math.sin(theta_rad) :\", theta_rad, math.cos(theta_rad), math.sin(theta_rad))\n",
    "    return v # return the calculated value\n",
    "\n",
    "speed_value = speed(target_distance, launch_angle) # this is referred to as call of the function\n",
    "# the returned value of the function speed is *assigned* to the variable speed_value\n",
    "\n",
    "# Print the result to the screen\n",
    "print('''To hit the target at %4.0f meters away, \n",
    "with a launch angle of %4.1f degrees, \n",
    "the initial speed needs to be %4.1f m/s ''' % (target_distance, launch_angle, speed_value))\n"
   ]
  },
  {
   "cell_type": "markdown",
   "id": "1fd77cc0",
   "metadata": {},
   "source": [
    "- ### Analysis:\n"
   ]
  },
  {
   "cell_type": "code",
   "execution_count": null,
   "id": "332734f1",
   "metadata": {},
   "outputs": [],
   "source": [
    "print(math.radians(90), math.pi/2)\n",
    "\n",
    "print(math.cos(math.radians(90)), math.cos(math.pi*0.5))"
   ]
  },
  {
   "cell_type": "code",
   "execution_count": null,
   "id": "305a768b",
   "metadata": {},
   "outputs": [],
   "source": [
    "math.cos(math.pi*0.5)"
   ]
  },
  {
   "cell_type": "markdown",
   "id": "77d06eee",
   "metadata": {},
   "source": [
    "So Python interpreter does not consider math.pi*0.5 as $\\pi/2$. Why?\n",
    "- the underlying representation of math.pi*0.5 is binary\n",
    "- this means that the float variable's precision is limited, and any number that can be represented by a float variable is a rational number\n",
    "- $\\pi$ is an irrational number, which can't be presented by a float type of variable ( which is rational)\n",
    "- as such, math.pi*0.5 is something very very close to but different from $\\pi/2$ "
   ]
  },
  {
   "cell_type": "markdown",
   "id": "082af9c2",
   "metadata": {},
   "source": [
    "## Question from homework\n",
    "\n",
    "Many of you have worked out the definition of hypberbolic tangent function, $tanh(x)$. When you plugged in x = 5000, there is a warning, which can be tracked down to np.exp(5000)"
   ]
  },
  {
   "cell_type": "code",
   "execution_count": null,
   "id": "742e8ec3",
   "metadata": {},
   "outputs": [],
   "source": [
    "import numpy as np\n",
    "np.exp(5000)"
   ]
  },
  {
   "cell_type": "markdown",
   "id": "baeb016b",
   "metadata": {},
   "source": [
    "The warning message you received, \"RuntimeWarning: overflow encountered in exp,\" occurs when you try to calculate the exponential of a number that is too large for the floating-point representation used by your system or programming language.\n",
    "\n",
    "- ## Python uses double precision (64-bit) by default for its floating-point numbers \n",
    "\n",
    "    *  ### it can represent numbers with a high degree of precision, but there are limits to how large or small they can be represented.\n",
    "\n",
    "- ## The limits of representable floating-point numbers in Python (and most programming languages) are:\n",
    "\n",
    "    * ### **The largest finite positive floating-point number that can be represented** is approximately 1.7976931348623157 × 10^308.\n",
    "    * ### **The smallest positive normalized floating-point number** (i.e., the smallest positive number greater than 0) that can be represented is approximately 2.2250738585072014 × 10^-308.\n",
    "    * Numbers smaller than the smallest positive normalized number are considered subnormal or denormalized numbers, and they allow representation of numbers closer to zero but with reduced precision.\n",
    "    \n",
    "    \n",
    "- exp(5000) is too large for float type data in Python, and that's why it prints out 'inf' together with a warning\n",
    "\n"
   ]
  },
  {
   "cell_type": "markdown",
   "id": "66055a41",
   "metadata": {},
   "source": [
    "### An $ad hoc$ approach to get around of this issue \n",
    "\n",
    "- Redefine the tanh function \n",
    "\n",
    "    * $\n",
    "\\tanh(x) = \\frac{1 - e^{-2x}}{1 + e^{-2x}}$\n",
    "\n"
   ]
  },
  {
   "cell_type": "code",
   "execution_count": null,
   "id": "194d9474",
   "metadata": {},
   "outputs": [],
   "source": [
    "def tanh(x):\n",
    "    return (1 - np.exp(-2*x))/(1+np.exp(-2*x))"
   ]
  },
  {
   "cell_type": "code",
   "execution_count": null,
   "id": "9d59b764",
   "metadata": {},
   "outputs": [],
   "source": [
    "print(tanh(5000))"
   ]
  },
  {
   "cell_type": "markdown",
   "id": "c4e403a8",
   "metadata": {},
   "source": [
    "# Data structures\n",
    "\n",
    "## Compare and constrast: List, Tuple, and Set in Python\n",
    "\n",
    "###  List:\n",
    "\n",
    "- Mutable: Lists are mutable, which means you can modify their elements after creation. You can add, remove, or change items in a list.\n",
    "- Ordered: Lists are ordered collections, meaning they maintain the order of elements. You can access elements by their indices.\n",
    "- Allows Duplicates: Lists can contain duplicate elements.\n",
    "- Syntax: Lists are created using square brackets []."
   ]
  },
  {
   "cell_type": "code",
   "execution_count": null,
   "id": "29ee2ca6",
   "metadata": {},
   "outputs": [],
   "source": [
    "my_list = [1, 2, 3, 3, 4]\n"
   ]
  },
  {
   "cell_type": "markdown",
   "id": "2724177c",
   "metadata": {},
   "source": [
    "### Tuple:\n",
    "\n",
    "- Immutable: Tuples are immutable, which means you cannot change their elements once defined. You can create a new tuple by combining or modifying existing tuples.\n",
    "- Ordered: Like lists, tuples are ordered collections and maintain the order of elements.\n",
    "- Allows Duplicates: Tuples can also contain duplicate elements.\n",
    "- Syntax: Tuples are created using parentheses () or without any brackets.\n"
   ]
  },
  {
   "cell_type": "code",
   "execution_count": null,
   "id": "dcf20ab2",
   "metadata": {},
   "outputs": [],
   "source": [
    "my_tuple = (1, 2, 3, 5, 4)\n",
    "\n",
    "print( my_tuple[3] )"
   ]
  },
  {
   "cell_type": "code",
   "execution_count": null,
   "id": "b37e1d85",
   "metadata": {},
   "outputs": [],
   "source": [
    "my_tuple[3] = 9"
   ]
  },
  {
   "cell_type": "markdown",
   "id": "4c2ada7d",
   "metadata": {},
   "source": [
    "### Set:\n",
    "\n",
    "- Mutable: Sets are mutable, but the elements within a set are immutable. You can add or remove elements from a set, but you cannot change the elements themselves.\n",
    "- Unordered: Sets are unordered collections, which means they do not maintain the order of elements. There is no indexing in sets.\n",
    "- Unique Elements: Sets contain only unique elements; duplicate elements are automatically removed.\n",
    "- Syntax: Sets are created using curly braces {} or the set() constructor."
   ]
  },
  {
   "cell_type": "code",
   "execution_count": null,
   "id": "90a2bdd8",
   "metadata": {},
   "outputs": [],
   "source": [
    "my_set = {1, 2, 3, 4}\n"
   ]
  },
  {
   "cell_type": "code",
   "execution_count": null,
   "id": "a3b403b7",
   "metadata": {},
   "outputs": [],
   "source": [
    "print(my_set[3])"
   ]
  },
  {
   "cell_type": "code",
   "execution_count": null,
   "id": "14c6a661",
   "metadata": {},
   "outputs": [],
   "source": [
    "my_set = {4312,23}\n",
    "print(my_set)"
   ]
  },
  {
   "cell_type": "markdown",
   "id": "f8bd78c8",
   "metadata": {},
   "source": [
    "### A summary of the differences:\n",
    "\n",
    "#### Mutability:\n",
    "\n",
    "Lists and sets are mutable, while tuples are immutable.\n",
    "\n",
    "#### Order:\n",
    "\n",
    "Lists and tuples are ordered collections, meaning they maintain the order of elements based on their positions.\n",
    "Sets are unordered, so they do not guarantee any specific order.\n",
    "\n",
    "#### Duplicates:\n",
    "\n",
    "Lists and tuples can contain duplicate elements.\n",
    "Sets automatically remove duplicates and store only unique elements.\n",
    "\n",
    "#### Syntax:\n",
    "\n",
    "Lists are created with square brackets [].\n",
    "Tuples are created with parentheses () (although you can omit them).\n",
    "Sets are created with curly braces {} or the set() constructor.\n",
    "\n",
    "#### Use Cases:\n",
    "\n",
    "Lists are typically used when you need an ordered collection of items that can be modified.\n",
    "Tuples are useful for representing collections of items that should not change (e.g., coordinates).\n",
    "Sets are ideal when you need to store a collection of unique items or perform set operations like union, intersection, etc."
   ]
  },
  {
   "cell_type": "markdown",
   "id": "7d0a45de",
   "metadata": {},
   "source": [
    "### A reference for List operations"
   ]
  },
  {
   "cell_type": "markdown",
   "id": "9ed790e8",
   "metadata": {},
   "source": [
    "1. **Creating a List:**\n",
    "   - Create an empty list: `my_list = []`\n",
    "   - Create a list with initial values: `my_list = [1, 2, 3]`\n",
    "\n",
    "2. **Appending and Extending:**\n",
    "   - Append an element to the end: `my_list.append(4)`\n",
    "   - Extend a list with another list: `my_list.extend([5, 6])`\n",
    "\n",
    "3. **Inserting Elements:**\n",
    "   - Insert an element at a specific index: `my_list.insert(1, 7)`\n",
    "\n",
    "4. **Accessing Elements:**\n",
    "   - Access elements by index: `element = my_list[0]`\n",
    "\n",
    "5. **Slicing:**\n",
    "   - Extract a sublist using slicing: `sub_list = my_list[1:3]`\n",
    "\n",
    "6. **Updating Elements:**\n",
    "   - Update an element by index: `my_list[0] = 0`\n",
    "\n",
    "7. **Removing Elements:**\n",
    "   - Remove an element by value: `my_list.remove(3)`\n",
    "   - Remove an element by index: `del my_list[1]`\n",
    "   - Remove and return the last element: `last_element = my_list.pop()`\n",
    "\n",
    "8. **Checking Membership:**\n",
    "   - Check if an element exists in the list: `if 2 in my_list:`\n",
    "\n",
    "9. **Counting Elements:**\n",
    "   - Count occurrences of an element: `count = my_list.count(2)`\n",
    "\n",
    "10. **Sorting:**\n",
    "    - Sort the list in ascending order: `my_list.sort()`\n",
    "    - Sort the list in descending order: `my_list.sort(reverse=True)`\n",
    "    - Create a sorted copy of the list: `sorted_list = sorted(my_list)`\n",
    "\n",
    "11. **Reversing:**\n",
    "    - Reverse the list in-place: `my_list.reverse()`\n",
    "    - Create a reversed copy of the list: `reversed_list = my_list[::-1]`\n",
    "\n",
    "12. **List Comprehensions:**\n",
    "    - Create new lists based on existing lists: `[x * 2 for x in my_list]`\n",
    "\n",
    "13. **Filtering:**\n",
    "    - Filter elements based on a condition: `[x for x in my_list if x % 2 == 0]`\n",
    "\n",
    "14. **Copying Lists:**\n",
    "    - Create a shallow copy of the list: `copy_list = my_list.copy()`\n",
    "    - Create a deep copy of the list: `import copy; deep_copy = copy.deepcopy(my_list)`\n",
    "\n",
    "15. **Concatenating Lists:**\n",
    "    - Concatenate two or more lists: `concatenated_list = my_list + [8, 9]`\n",
    "\n",
    "16. **Length and Empty Check:**\n",
    "    - Get the length of the list: `length = len(my_list)`\n",
    "    - Check if a list is empty: `if not my_list:`\n"
   ]
  },
  {
   "cell_type": "code",
   "execution_count": null,
   "id": "bece7711",
   "metadata": {},
   "outputs": [],
   "source": []
  },
  {
   "cell_type": "code",
   "execution_count": null,
   "id": "ee9b1525",
   "metadata": {},
   "outputs": [],
   "source": [
    "# Let's create an empty list\n",
    "\n",
    "List1 = []\n",
    "\n",
    "# add an element to the list\n",
    "\n",
    "List1.append('UCB')\n",
    "\n",
    "List1.extend(['UCLA',\"Stanford\", \"CSU-EB\"])\n",
    "print(List1)"
   ]
  },
  {
   "cell_type": "code",
   "execution_count": null,
   "id": "23bf5f9f",
   "metadata": {},
   "outputs": [],
   "source": [
    "List1.append('SJSU')\n",
    "print(List1)"
   ]
  },
  {
   "cell_type": "code",
   "execution_count": null,
   "id": "6d083d9c",
   "metadata": {},
   "outputs": [],
   "source": [
    "List1.insert(1, 'SFSU')\n",
    "print(List1)"
   ]
  },
  {
   "cell_type": "markdown",
   "id": "845387a4",
   "metadata": {},
   "source": [
    "### Slicing\n",
    "\n",
    "In Python, slicing is a powerful feature for extracting specific portions of a list (or other iterable) by specifying a start, stop, and step. Slicing allows you to create a new list that is a subset of the original list. The slicing syntax for lists is as follows:\n",
    "\n",
    "<pre>\n",
    "new_list = original_list[start:stop:step]\n",
    "</pre>\n",
    "\n",
    "- start (optional): The index at which the slice begins. It defaults to 0 if omitted.\n",
    "- stop (required): The index at which the slice ends. **The slice goes up to, but does not include, the element at this index.**\n",
    "- step (optional): The step size, which determines how the elements are selected. It defaults to 1 if omitted.\n",
    "\n",
    "Here are some key points to understand about list slicing in Python:\n",
    "\n",
    "- Start Index: The slice starts at the element with the start index. If start is omitted, it starts at the beginning of the list (index 0).\n",
    "\n",
    "- Stop Index: The slice goes up to, but does not include, the element with the stop index. If stop is omitted, it goes up to the end of the list.\n",
    "\n",
    "- Step Size: The step value determines the spacing between elements in the sliced list. A positive step moves forward through the list, while a negative step moves backward. If step is omitted, it defaults to 1 (every element).\n",
    "\n"
   ]
  },
  {
   "cell_type": "code",
   "execution_count": null,
   "id": "b8ded2c0",
   "metadata": {},
   "outputs": [],
   "source": [
    "Part_of_List1 = List1[1:3]\n",
    "print(List1)\n",
    "print(Part_of_List1)"
   ]
  },
  {
   "cell_type": "code",
   "execution_count": null,
   "id": "8f051cfc",
   "metadata": {},
   "outputs": [],
   "source": [
    "Part_of_List1 = List1[1:5:2]\n",
    "print(List1)\n",
    "print(Part_of_List1)"
   ]
  },
  {
   "cell_type": "code",
   "execution_count": null,
   "id": "f617dbf7",
   "metadata": {},
   "outputs": [],
   "source": [
    "Part_of_List1 = List1[1:6:2]\n",
    "print(List1)\n",
    "print(Part_of_List1)"
   ]
  },
  {
   "cell_type": "code",
   "execution_count": null,
   "id": "02fd1d83",
   "metadata": {},
   "outputs": [],
   "source": [
    "Part_of_List1 = List1[:6:2]\n",
    "print(List1)\n",
    "print(Part_of_List1)"
   ]
  },
  {
   "cell_type": "code",
   "execution_count": null,
   "id": "27d67c20",
   "metadata": {},
   "outputs": [],
   "source": [
    "Part_of_List1 = List1[::2]\n",
    "print(List1)\n",
    "print(Part_of_List1)"
   ]
  },
  {
   "cell_type": "code",
   "execution_count": null,
   "id": "a436f17a",
   "metadata": {},
   "outputs": [],
   "source": [
    "Part_of_List1 = List1[:4:]\n",
    "print(List1)\n",
    "print(Part_of_List1)"
   ]
  },
  {
   "cell_type": "code",
   "execution_count": null,
   "id": "00b9a49b",
   "metadata": {},
   "outputs": [],
   "source": [
    "Part_of_List1 = List1[:4]\n",
    "print(List1)\n",
    "print(Part_of_List1)"
   ]
  },
  {
   "cell_type": "code",
   "execution_count": null,
   "id": "0cb72a60",
   "metadata": {},
   "outputs": [],
   "source": [
    "Part_of_List1 = List1[-1:4:]\n",
    "print(List1)\n",
    "print(Part_of_List1)"
   ]
  },
  {
   "cell_type": "code",
   "execution_count": null,
   "id": "ab07b61f",
   "metadata": {},
   "outputs": [],
   "source": [
    "Part_of_List1 = List1[:-1:]\n",
    "print(List1)\n",
    "print(Part_of_List1)\n",
    "\n",
    "# Negative index means it starts from the end"
   ]
  },
  {
   "cell_type": "code",
   "execution_count": null,
   "id": "14d15ad8",
   "metadata": {},
   "outputs": [],
   "source": [
    "Part_of_List1 = List1[:-1:-1]\n",
    "print(List1)\n",
    "print(Part_of_List1)"
   ]
  },
  {
   "cell_type": "code",
   "execution_count": null,
   "id": "398c35fe",
   "metadata": {},
   "outputs": [],
   "source": [
    "Part_of_List1 = List1[-1::]\n",
    "print(List1)\n",
    "print(Part_of_List1)"
   ]
  },
  {
   "cell_type": "markdown",
   "id": "8b8fe1ea",
   "metadata": {},
   "source": [
    "# Control structures\n",
    "\n",
    "\n",
    "Let's go back to our projectile example -\n",
    "\n",
    "- when we wanted to try different launch angles, we had to modify the launch one at a time\n",
    "- for example, we wanted to perform this calculation with a series of launch angle values, from 15 degrees to 75 degrees with a step of 15 degrees\n",
    "- wouldn't it be much better / more convenient if this is automated?"
   ]
  },
  {
   "cell_type": "code",
   "execution_count": null,
   "id": "21d1122a",
   "metadata": {},
   "outputs": [],
   "source": [
    "import math # Import modules \n",
    "\n",
    "target_distance = 16000 # distance between campanile and mulford. A variable with assigned value\n",
    "\n",
    "launch_angle = 90 # launch angle set by user. A variable assigned with a value\n",
    "\n",
    "# A function that calculates the speed needed for a given set of values of the target distance and launch angle \n",
    "def speed( R, theta ): # the function has input arguments\n",
    "    g = 9.81 # the acceleration; \n",
    "    theta_rad = math.radians(theta) # converting the angle from degrees to radians \n",
    "    v = math.sqrt( R*g / (math.cos(theta_rad) * math.sin(theta_rad) *2)) # calculate the speed\n",
    "    #print(\"Values of theta_rad, math.cos(theta_rad), math.sin(theta_rad) :\", theta_rad, math.cos(theta_rad), math.sin(theta_rad))\n",
    "    return v # return the calculated value\n",
    "\n",
    "speed_value = speed(target_distance, launch_angle) # this is referred to as call of the function\n",
    "# the returned value of the function speed is *assigned* to the variable speed_value\n",
    "\n",
    "# Print the result to the screen\n",
    "print('''To hit the target at %4.0f meters away, \n",
    "with a launch angle of %4.1f degrees, \n",
    "the initial speed needs to be %4.1f m/s ''' % (target_distance, launch_angle, speed_value))\n"
   ]
  },
  {
   "cell_type": "code",
   "execution_count": null,
   "id": "0b0eef33",
   "metadata": {},
   "outputs": [],
   "source": [
    "speed_list = []\n",
    "speed_list.append( speed(592, 15) )\n",
    "print(speed_list)"
   ]
  },
  {
   "cell_type": "code",
   "execution_count": null,
   "id": "9483ac3e",
   "metadata": {},
   "outputs": [],
   "source": [
    "speed_list.append( speed(592, 30) )\n",
    "print(speed_list)\n",
    "speed_list.append( speed(592, 45) )\n",
    "print(speed_list)\n",
    "speed_list.append( speed(592, 60) )\n",
    "print(speed_list)\n",
    "speed_list.append( speed(592, 75) )\n",
    "print(speed_list)"
   ]
  },
  {
   "cell_type": "markdown",
   "id": "67aa4231",
   "metadata": {},
   "source": [
    "- there are quite a lot of repetitions \n",
    "- let's see how we can do all of these with a `for loop`"
   ]
  },
  {
   "cell_type": "code",
   "execution_count": null,
   "id": "84123a4f",
   "metadata": {},
   "outputs": [],
   "source": [
    "for angle in range(15,76,15):\n",
    "    print(angle)"
   ]
  },
  {
   "cell_type": "code",
   "execution_count": null,
   "id": "4150e6ba",
   "metadata": {},
   "outputs": [],
   "source": [
    "another_list = []\n",
    "for angle in range(15,76,15):\n",
    "    \n",
    "    another_list.append( speed(592, angle) )\n",
    "    \n",
    "    print(angle, speed(592, angle))\n",
    "    \n",
    "    print(another_list)"
   ]
  },
  {
   "cell_type": "markdown",
   "id": "65d25872",
   "metadata": {},
   "source": [
    "### dissecting the for loop\n",
    "\n",
    "- for Loop **Header**:\n",
    "\n",
    "    * `for angle in range(15, 76, 15):`\n",
    "\n",
    "        * This is the starting line of the for loop.\n",
    "        \n",
    "        * `for angle` declares the loop variable angle. \n",
    "        * In each iteration, `angle` will take on a value from the **specified range**.\n",
    "        \n",
    "        * `in range(15, 76, 15)` defines the **range** of values that angle will iterate through. \n",
    "            * It starts at 15, ends before 76, and increments by 15 in each step. So, it will loop through values 15, 30, 45, 60, and 75.\n",
    "            \n",
    "- **Loop Body**:\n",
    "    * Colon (`:`): The colon at the end of the header signifies the beginning of the loop block and is used to define the scope of the loop. Everything indented under the for statement is considered part of the loop body.\n",
    "\n",
    "    * <pre>\n",
    "    another_list.append( speed(592, angle) )\n",
    "    \n",
    "    print(angle, speed(592, angle))\n",
    "    \n",
    "    print(another_list)\n",
    "</pre>\n",
    "\n",
    "        * The code block indented under the for loop is the loop body.\n",
    "        * It contains the actions to be performed during each iteration."
   ]
  },
  {
   "cell_type": "code",
   "execution_count": null,
   "id": "b32c0732",
   "metadata": {},
   "outputs": [],
   "source": [
    "# another way of doing this\n",
    "\n",
    "another_list = [speed(592, angle) for angle in range(15,76,15)]\n",
    "print(another_list)"
   ]
  },
  {
   "cell_type": "markdown",
   "id": "4429baaf",
   "metadata": {},
   "source": [
    "### Let's do it with a while loop\n"
   ]
  },
  {
   "cell_type": "code",
   "execution_count": null,
   "id": "6ddf3167",
   "metadata": {},
   "outputs": [],
   "source": [
    "\n",
    "another_list = []\n",
    "angle = 15\n",
    "\n",
    "while angle < 76:\n",
    "\n",
    "    speed_value = speed(592, angle)\n",
    "    another_list.append(speed_value)\n",
    "    print(angle, speed_value)\n",
    "    angle += 15\n",
    "\n",
    "print(another_list)\n"
   ]
  },
  {
   "cell_type": "markdown",
   "id": "04150b53",
   "metadata": {},
   "source": [
    "### Basic elements in the while loop\n",
    "- while Loop **Header** :\n",
    "\n",
    "    * `while angle < 76:` : The while loop begins with this header.\n",
    "    * It specifies the condition under which the loop will continue to execute. \n",
    "    * In this case, the loop will continue as long as the value of angle is less than 76.\n",
    "\n",
    "- Loop **Body**:\n",
    "\n",
    "    * The code block indented under the while loop is the loop body.\n",
    "    * It contains the actions to be performed during each iteration of the loop."
   ]
  },
  {
   "cell_type": "markdown",
   "id": "7e7714a3",
   "metadata": {},
   "source": [
    "# Time for you to do some exercise\n",
    "Now I'll let you play with the following cells. Pay attention to how the headers of the loop are configured and how that affects the outcome of the cell execution."
   ]
  },
  {
   "cell_type": "code",
   "execution_count": null,
   "id": "62afe30d",
   "metadata": {},
   "outputs": [],
   "source": [
    "List = []\n",
    "for i in range(10):\n",
    "    List.append(i*5)\n",
    "print(List)"
   ]
  },
  {
   "cell_type": "code",
   "execution_count": null,
   "id": "e358695d",
   "metadata": {},
   "outputs": [],
   "source": [
    "List = []\n",
    "for i in range(0,10):\n",
    "    List.append(i*5)\n",
    "print(List)"
   ]
  },
  {
   "cell_type": "code",
   "execution_count": null,
   "id": "fffd229c",
   "metadata": {},
   "outputs": [],
   "source": [
    "List = []\n",
    "for i in range(1,10):\n",
    "    List.append(i*5)\n",
    "print(List)"
   ]
  },
  {
   "cell_type": "code",
   "execution_count": null,
   "id": "a9dc39ff",
   "metadata": {},
   "outputs": [],
   "source": [
    "List = []\n",
    "for i in range(5,15,1):\n",
    "    List.append(i*5)\n",
    "print(List)"
   ]
  },
  {
   "cell_type": "code",
   "execution_count": null,
   "id": "174beeeb",
   "metadata": {},
   "outputs": [],
   "source": [
    "List = []\n",
    "for i, v in enumerate(range(5,15,1)):\n",
    "    print(i, v) # in this case, i is the index, \n",
    "    # and v is the value of the element from the enumerate\n",
    "    List.append(i*5)\n",
    "print(List)"
   ]
  },
  {
   "cell_type": "markdown",
   "id": "90b02eea",
   "metadata": {},
   "source": [
    "type(enumerate(range(5,15,1)))\n",
    "# it is its own type"
   ]
  },
  {
   "cell_type": "code",
   "execution_count": null,
   "id": "0a66ad00",
   "metadata": {},
   "outputs": [],
   "source": [
    "# The original\n",
    "List = []\n",
    "for i in range(10):\n",
    "    List.append(i*5)\n",
    "print(List)"
   ]
  },
  {
   "cell_type": "code",
   "execution_count": null,
   "id": "e44c6787",
   "metadata": {},
   "outputs": [],
   "source": [
    "List_duplicated = List.copy()\n",
    "# Create a separate copy of List and name it as List_duplicated\n",
    "for i in List: # in this example, we are iterating over every elementy in the list `List`\n",
    "    print(i)\n",
    "    List_duplicated.remove(i) # i is the element in List, not an index\n",
    "    \n",
    "print(List, List_duplicated)"
   ]
  },
  {
   "cell_type": "code",
   "execution_count": null,
   "id": "d7370d9e",
   "metadata": {},
   "outputs": [],
   "source": [
    "for value in List[:8:2]: #only going over part of a list\n",
    "    print(value)"
   ]
  },
  {
   "cell_type": "markdown",
   "id": "0340c332",
   "metadata": {},
   "source": [
    "**Using while structure**"
   ]
  },
  {
   "cell_type": "code",
   "execution_count": null,
   "id": "005199fd",
   "metadata": {},
   "outputs": [],
   "source": [
    "List = []\n",
    "i = 0\n",
    "\n",
    "while i < 10:\n",
    "    List.append(i * 5)\n",
    "    i += 1\n",
    "\n",
    "print(List)\n"
   ]
  },
  {
   "cell_type": "code",
   "execution_count": null,
   "id": "70c4c119",
   "metadata": {},
   "outputs": [],
   "source": [
    "List = []\n",
    "i = 0\n",
    "\n",
    "while len(List) < 10:\n",
    "    List.append(i * 5)\n",
    "    i += 1\n",
    "\n",
    "print(List)\n",
    "\n",
    "# what does len(List) do?\n"
   ]
  },
  {
   "cell_type": "markdown",
   "id": "427e6d60",
   "metadata": {},
   "source": [
    "# If else structure\n",
    "\n",
    "Example - we created a list. Now we want to print out the even numbers.\n",
    "\n",
    "We can utilize an if else structure "
   ]
  },
  {
   "cell_type": "code",
   "execution_count": null,
   "id": "82ddc060",
   "metadata": {},
   "outputs": [],
   "source": [
    "for val in List:\n",
    "    if val%2 == 0: \n",
    "        print(val)\n",
    "    else:\n",
    "        continue"
   ]
  },
  {
   "cell_type": "markdown",
   "id": "19920e96",
   "metadata": {},
   "source": [
    "- ### if-else Conditional:\n",
    "\n",
    "- Inside the loop, there is an if-else conditional structure.\n",
    "    * `if val % 2 == 0:`: \n",
    "        This line starts the if statement. It checks if the current value of val is even by testing if the remainder (%) of the division by 2 equals 0.\n",
    "    * If the condition is True, the code block under the if statement is executed.\n",
    "    * If the condition is False, the code block under the else statement is executed.\n",
    "        * the loop proceeds to the next iteration using `continue`."
   ]
  },
  {
   "cell_type": "code",
   "execution_count": null,
   "id": "993ccb62",
   "metadata": {},
   "outputs": [],
   "source": [
    "for val in List:\n",
    "    if val%2 == 0: \n",
    "        print(val%2, val%2 == 0 , val%2 != 0 ,val)        \n",
    "    else:\n",
    "        continue"
   ]
  },
  {
   "cell_type": "markdown",
   "id": "89d0ffda",
   "metadata": {},
   "source": [
    "**What if I want to print out odd numbers that integer times of 3, in addition to the even numbers?**"
   ]
  },
  {
   "cell_type": "code",
   "execution_count": null,
   "id": "663bc419",
   "metadata": {},
   "outputs": [],
   "source": [
    "for val in List:\n",
    "    if val%2 == 0: \n",
    "        print(val)        \n",
    "    elif val%3 == 0:\n",
    "        print(val)\n",
    "    else:\n",
    "        continue"
   ]
  },
  {
   "cell_type": "markdown",
   "id": "e09fe924",
   "metadata": {},
   "source": [
    "## Logic operations for the conditions\n",
    "### This line tells you the type of the expression `val%2 == 0 `"
   ]
  },
  {
   "cell_type": "code",
   "execution_count": null,
   "id": "2fc9a565",
   "metadata": {},
   "outputs": [],
   "source": [
    "type(val%2 == 0)"
   ]
  },
  {
   "cell_type": "code",
   "execution_count": null,
   "id": "9d66df6e",
   "metadata": {},
   "outputs": [],
   "source": [
    "type(val%2)"
   ]
  },
  {
   "cell_type": "code",
   "execution_count": null,
   "id": "f368abc9",
   "metadata": {},
   "outputs": [],
   "source": [
    "for val in List:\n",
    "    \n",
    "    print(val, val%2 == 0, val%3 > 1, val%5 <2)"
   ]
  },
  {
   "cell_type": "code",
   "execution_count": null,
   "id": "759c396a",
   "metadata": {},
   "outputs": [],
   "source": [
    "for val in List:\n",
    "    conditionA = val%2 == 0\n",
    "    conditionB = val%3 > 1\n",
    "    print(val, conditionA, conditionB, conditionA and conditionB )"
   ]
  },
  {
   "cell_type": "code",
   "execution_count": null,
   "id": "b0fef87e",
   "metadata": {},
   "outputs": [],
   "source": [
    "for val in List:\n",
    "    conditionA = val%2 == 0\n",
    "    conditionB = val%3 > 1\n",
    "    print(val, conditionA, conditionB, conditionA or conditionB )"
   ]
  },
  {
   "cell_type": "code",
   "execution_count": null,
   "id": "6ebc89d2",
   "metadata": {},
   "outputs": [],
   "source": [
    "for val in List:\n",
    "    conditionA = val%2 == 0\n",
    "    conditionB = val%3 > 1\n",
    "    print(val, conditionA, conditionB, not conditionA and conditionB ) # pay attention to the association rule here"
   ]
  },
  {
   "cell_type": "code",
   "execution_count": null,
   "id": "73630aa9",
   "metadata": {},
   "outputs": [],
   "source": [
    "for val in List:\n",
    "    conditionA = val%2 == 0\n",
    "    conditionB = val%3 > 1\n",
    "    print(val, conditionA, conditionB, not (conditionA and conditionB) )"
   ]
  },
  {
   "cell_type": "code",
   "execution_count": null,
   "id": "90cbc162",
   "metadata": {},
   "outputs": [],
   "source": []
  }
 ],
 "metadata": {
  "kernelspec": {
   "display_name": "Python 3 (ipykernel)",
   "language": "python",
   "name": "python3"
  },
  "language_info": {
   "codemirror_mode": {
    "name": "ipython",
    "version": 3
   },
   "file_extension": ".py",
   "mimetype": "text/x-python",
   "name": "python",
   "nbconvert_exporter": "python",
   "pygments_lexer": "ipython3",
   "version": "3.9.15"
  }
 },
 "nbformat": 4,
 "nbformat_minor": 5
}
