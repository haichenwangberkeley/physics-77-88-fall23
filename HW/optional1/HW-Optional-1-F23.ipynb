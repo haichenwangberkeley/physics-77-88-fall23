{
 "cells": [
  {
   "cell_type": "markdown",
   "id": "52a1c098",
   "metadata": {},
   "source": [
    "# Optional Homework 1\n",
    "\n",
    "**due by 8 pm, December 14, 2023** \n",
    "# the Breit-Wigner function\n",
    "\n",
    "In quantum mechanics, the Breit-Wigner function is used to model resonant states. A resonance in this context refers to an unstable particle or state that has a relatively short lifetime before decaying into other particles. The peak of the Breit-Wigner distribution corresponds to the most probable energy of the resonant particle.\n",
    "\n",
    "$$\n",
    "f(E) = \\frac{K}{(E - E_0)^2 + (\\Gamma/2)^2}\n",
    "$$\n",
    "\n",
    "\n",
    "Here's what each component represents:\n",
    "\n",
    "- $ f(E) $ is the value of the function at the energy $ E $.\n",
    "- $ E_0 $ is the resonant (or peak) energy.\n",
    "- $ \\Gamma $ is the full width at half maximum (FWHM) of the distribution.\n",
    "- $ K $ is a constant that scales the function.\n",
    "\n",
    "\n",
    "Your tasks:\n",
    "\n",
    "1. Define a python function that implements the Breit-Wigner function. The input arguments are $E$, $E_0$, and $\\Gamma$. $K$ is set to be constant 1. If your function is defined correctly, the value of $f(E = 125, E_0 = 125, \\Gamma = 0.004) $ shoudl be 250000.\n",
    "\n",
    "2. Plot the Breit-Wigner function between E = 0 and E = 1000, with $E_0$ = 125 and $\\Gamma$=0.004. You may want to see the shape of the function in the logarithmic scale\n",
    "\n",
    "3. Use the `quad` method from `scipy.integrate` to calculate the integral of the Breit-Wigner function from E = 0 to E = 1000 with $E_0$ = 125 and $\\Gamma$=0.004\n",
    "\n",
    "4. Use a Monte Carlo method to perform the same integral, and compare your result with the result from part 3. Make sure they agree within 1% level. Explain in a markdown cell how you achieved this.\n",
    "\n"
   ]
  },
  {
   "cell_type": "code",
   "execution_count": null,
   "id": "9754bba3",
   "metadata": {},
   "outputs": [],
   "source": [
    "# Code for task 1\n",
    "# 10 ptt"
   ]
  },
  {
   "cell_type": "code",
   "execution_count": null,
   "id": "ed5d12a9",
   "metadata": {},
   "outputs": [],
   "source": [
    "# Code for taask 2\n",
    "\n",
    "# 20 pts"
   ]
  },
  {
   "cell_type": "code",
   "execution_count": null,
   "id": "31f685b9",
   "metadata": {},
   "outputs": [],
   "source": [
    "# Code for task 3\n",
    "# 30 pts"
   ]
  },
  {
   "cell_type": "code",
   "execution_count": null,
   "id": "5c146a4c",
   "metadata": {},
   "outputs": [],
   "source": [
    "# Code for task 4\n",
    "\n",
    "# 20 pts for implementing a correct MC method to perform the estimate \n",
    "# 15 pts for getting the estimate close to the estimate from task 3 within 1% \n",
    "# 5 pts for clearly explain the approach that realizes the accurate MC integration"
   ]
  }
 ],
 "metadata": {
  "kernelspec": {
   "display_name": "Python 3 (ipykernel)",
   "language": "python",
   "name": "python3"
  },
  "language_info": {
   "codemirror_mode": {
    "name": "ipython",
    "version": 3
   },
   "file_extension": ".py",
   "mimetype": "text/x-python",
   "name": "python",
   "nbconvert_exporter": "python",
   "pygments_lexer": "ipython3",
   "version": "3.9.15"
  }
 },
 "nbformat": 4,
 "nbformat_minor": 5
}
