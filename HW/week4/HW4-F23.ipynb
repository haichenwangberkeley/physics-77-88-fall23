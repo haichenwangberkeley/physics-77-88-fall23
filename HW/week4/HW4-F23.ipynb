{
 "cells": [
  {
   "cell_type": "markdown",
   "id": "4687b087",
   "metadata": {},
   "source": [
    "# Homework 4\n",
    "\n",
    "**due by 9:00 pm, September 21, 2023**\n",
    "\n",
    "Submit the ipynb and pdf versions of your completed assignment to bcourses"
   ]
  },
  {
   "cell_type": "markdown",
   "id": "f3d4ea7b",
   "metadata": {},
   "source": [
    "# Problem 1: Running average\n",
    "\n",
    "When dealing with noisy data, a simple trick to remove noise is to plot the data as a running average. For example, the cell below generate a sinoidal signal (y = sin(x)) with some injected nosie (np.random.normal(0,0.2)). \n",
    "\n",
    "The running average is defined as \n",
    "$\n",
    "y^r_i = \\frac{1}{2a+1}\\sum_{j=i-a}^{j=i+a} y_j\n",
    "$\n",
    "where $a$ is an integer and the superscript of $r$ indicates the y value is a running average. For example, we could choose a = 1, then we have $y^r_i = \\frac{1}{3}(y_{i-1} + y_i + y_{i+1})$ \n",
    "\n",
    "In this problem, I have a numpy array `y_data` storing some noisy data. In the ideal case, the data points should look like $y = sin(x)$, which I call `prediction`. Execute the cell below to see the overlay of noisy data and the prediction."
   ]
  },
  {
   "cell_type": "code",
   "execution_count": null,
   "id": "bcb11cd6",
   "metadata": {},
   "outputs": [],
   "source": [
    "import numpy as np\n",
    "\n",
    "x = np.linspace(0, np.pi, 50)\n",
    "y_data = np.array([0.11844287114570298,0.05051353845384513,0.11865316832856568,0.1697835435571199,0.2768843431034848,0.28369706174382514,0.4419810725325084,0.4326162872061713,0.4839807245257957,0.5021162907032103,0.6291140203382469,0.6793572905296263,0.7312673327894358,0.6979758793395942,0.7767544941325738,0.8019642244219822,0.8860734569657691,0.8659465696151231,0.8965919830548625,0.9392975373686052,0.9199894540277183,0.9351475241281298,1.0012035578435239,0.979881990205139,1.0553385939654698,1.0013253141982985,0.9289236989650979,0.9956558449458579,1.0628261642010266,0.9267119468282166,0.9091968543099399,0.9285643345168024,0.8930797124855967,0.7801685108295101,0.8538098048625643,0.8146883385706625,0.8468515927814556,0.661801720452157,0.6755097777747887,0.5798141552553608,0.506448958834946,0.5005071385988151,0.39847330583523805,0.37657234869272055,0.26532761270676647,0.3189282656929629,0.1664686229150844,0.15897739350781154,0.01989136918296773,0.020436949674898282])\n",
    "y_prediction = np.sin(x)\n",
    "\n",
    "import matplotlib.pyplot as plt\n",
    "plt.plot(x,y_prediction, color='red',label='Prediction: y=sin(x)')\n",
    "plt.plot(x,y_data, color='blue',ls='dashed',label='y=sin(x) w. noise')\n",
    "plt.legend()"
   ]
  },
  {
   "cell_type": "markdown",
   "id": "532053dd",
   "metadata": {},
   "source": [
    "## Part 1.1 \n",
    "\n",
    "Overlay the running average with the data and prediction. Use a = 2. In this case, for each x value, $x_i$, its corresponding running average of y is \n",
    "\n",
    "$\n",
    "\\huge y^r_i = \\frac{1}{5}(y_{i-2} + y_{i-1} + y_i + y_{i+1} + y_{i+2})\n",
    "$\n",
    "\n",
    "In this case, your x values will have to start from $x_2$ and end at $x_{N-3}$ where N is the total number of x values. Note that the index starts from 0 in this notation.\n",
    "\n",
    "In this cell, you **should use a for loop or a while loop** to implement the running average calculation. You must define a function that takes the y_data as input argument and return y_average. \n",
    "\n",
    "Plot the running average with the noisy data and the prediction. Use color `green` for the running average curve. Properly label the legend."
   ]
  },
  {
   "cell_type": "code",
   "execution_count": null,
   "id": "caad892a",
   "metadata": {},
   "outputs": [],
   "source": [
    "# Develop your code here. 10 pts\n",
    "\n"
   ]
  },
  {
   "cell_type": "markdown",
   "id": "bb50481f",
   "metadata": {},
   "source": [
    "## Part 1.2\n",
    "\n",
    "In this part, you should implement the running average calculation without using loops. **Use the slicing of numpy array to achieve this.** Other requirements, such as, creating a function, plotting, are the same as **Part 1.1**\n"
   ]
  },
  {
   "cell_type": "code",
   "execution_count": null,
   "id": "72eb734c",
   "metadata": {},
   "outputs": [],
   "source": [
    "# Develop your code here. 15 pts\n",
    "\n",
    "\n"
   ]
  },
  {
   "cell_type": "markdown",
   "id": "01c98b07",
   "metadata": {},
   "source": [
    "# Problem 2: Gaussian function\n",
    "A Gaussian function, also known as a Gaussian distribution or normal distribution, is a continuous probability distribution that is symmetric and bell-shaped. It is characterized by two parameters: the mean (μ), which represents the peak or center of the distribution, and the standard deviation (σ), which measures the spread or width of the distribution.\n",
    "\n",
    "$\\Huge f(x) = \\frac{1}{\\sigma \\sqrt{2\\pi}} e^{-\\frac{(x - \\mu)^2}{2\\sigma^2}}$\n",
    "\n",
    "In this equation:\n",
    "\n",
    "\n",
    "- $f(x)$ represents the value of the Gaussian function at a given point $x$.\n",
    "- $\\mu$ is the mean or average value of the distribution.\n",
    "- $\\sigma$ is the standard deviation, which controls the spread of the distribution.\n",
    "- $e$ is the base of the natural logarithm (approximately 2.71828).\n",
    "- $\\pi$ is the mathematical constant pi (approximately 3.14159).\n",
    "- The expression $\\frac{1}{\\sigma \\sqrt{2\\pi}}$ is a normalization factor to ensure that the area under the curve equals 1, making it a valid probability distribution.\n",
    "\n",
    "\n",
    "## Part 2.1: Define a Gaussian function\n",
    "Create a Python function using the NumPy module to implement a Gaussian function with input arguments for x, μ (mean), and σ (standard deviation)\n",
    "\n",
    "Do not use built-in normal/gaussian functions from Numpy or other modules for this implementation. You may still use np.exp, np.sqrt and other functions to construct the Gaussian function.\n",
    "\n",
    "To verify the definition of the Gaussian function, print out the value of y = Gaussian(x = 1.0, mean = 0.0, sigma = 1.0)"
   ]
  },
  {
   "cell_type": "code",
   "execution_count": null,
   "id": "10ef60ea",
   "metadata": {},
   "outputs": [],
   "source": [
    "# Develop your code here. 10 pts"
   ]
  },
  {
   "cell_type": "markdown",
   "id": "7d9341f9",
   "metadata": {},
   "source": [
    "## Part 2.2: Visualization\n",
    "\n",
    "Follow the example given during Lecture 4 (September 13, 2023) to make a plot that shows the Gaussian fucntion as a curve. \n",
    "\n",
    "- use np.linspace to generate a series of 200 x values between -5 and +5\n",
    "- use the gaussian function that you defined in the previous part to calculate the y (Gaussian fucntion) values at these x points\n",
    "    - the mean and standard deviation are set to 0 and 1, respectively\n",
    "- use matplotlib.pyplot module to draw the function\n",
    "- label the x and y axses"
   ]
  },
  {
   "cell_type": "code",
   "execution_count": null,
   "id": "674f8dde",
   "metadata": {},
   "outputs": [],
   "source": [
    "# Develop your code here. 10 pts\n",
    "\n"
   ]
  },
  {
   "cell_type": "markdown",
   "id": "7c143d2c",
   "metadata": {},
   "source": [
    "## Part 2.3\n",
    "\n",
    "- calculate the sum of y values \n",
    "- calculate the sum of y values for -1 $\\leq$ x $\\leq$ 1. Use array slicing to achieve this. \n",
    "- calculate the ratio of the second answer to the first\n"
   ]
  },
  {
   "cell_type": "code",
   "execution_count": null,
   "id": "eb7b0a61",
   "metadata": {},
   "outputs": [],
   "source": [
    "# develop your code here 10 pts\n",
    "\n"
   ]
  },
  {
   "cell_type": "markdown",
   "id": "fbb75774",
   "metadata": {},
   "source": [
    "# Problem 3 Cardiovascular Disease dataset\n",
    "\n",
    "\n",
    "In this problem, we analyze a dataset from Kaggle\n",
    "https://www.kaggle.com/datasets/sulianova/cardiovascular-disease-dataset?datasetId=107706&sortBy=dateRun&tab=bookmarked\n",
    "\n",
    "**Data description**\n",
    "There are 3 types of input features:\n",
    "\n",
    "- Objective: factual information;\n",
    "- Examination: results of medical examination;\n",
    "- Subjective: information given by the patient.\n",
    "\n",
    "Features:\n",
    "\n",
    "1. Age | Objective Feature | age | int (days)\n",
    "2. Height | Objective Feature | height | int (cm) |\n",
    "3. Weight | Objective Feature | weight | float (kg) |\n",
    "4. Gender | Objective Feature | gender | categorical code |\n",
    "5. Systolic blood pressure | Examination Feature | ap_hi | int |\n",
    "6. Diastolic blood pressure | Examination Feature | ap_lo | int |\n",
    "7. Cholesterol | Examination Feature | cholesterol | 1: normal, 2: above normal, 3: well above normal |\n",
    "8. Glucose | Examination Feature | gluc | 1: normal, 2: above normal, 3: well above normal |\n",
    "9. Smoking | Subjective Feature | smoke | binary |\n",
    "10. Alcohol intake | Subjective Feature | alco | binary |\n",
    "11. Physical activity | Subjective Feature | active | binary |\n",
    "12. Presence or absence of cardiovascular disease | Target Variable | cardio | binary |\n",
    "All of the dataset values were collected at the moment of medical examination.\n"
   ]
  },
  {
   "cell_type": "markdown",
   "id": "d4920443",
   "metadata": {},
   "source": [
    "**wget** This is an explanation what the next code cell does.\n",
    "\n",
    "\n",
    "In a Jupyter Notebook or IPython environment, a line starting with ! is not regular Python code. Instead, it is a shell command that is executed in the system's command-line shell, not within the Python kernel or environment.\n",
    "\n",
    "Here's what the line does:\n",
    "\n",
    "`!`: The `!` character at the beginning of the line is an escape character that tells the Jupyter Notebook or IPython environment to execute the following command in the system shell (e.g., Bash, Windows Command Prompt, etc.) rather than as Python code.\n",
    "\n",
    "`wget`: `wget` is a command-line utility used for downloading files from the internet. It is commonly used in Unix-like operating systems (Linux, macOS) and is available for Windows as well. In this case, it's used to download a file from the specified URL.\n",
    "\n",
    "`https://portal.nersc.gov/project/m3438/physics77/F23/dataset/cardio_train.csv`: This is the URL of the file you want to download. wget will make an HTTP request to this URL and retrieve the file specified.\n",
    "\n",
    "So, when you execute this line in a Jupyter Notebook or IPython environment, it triggers the `wget` command to download the file `cardio_train.csv` from the given URL (`https://portal.nersc.gov/project/m3438/physics77/F23/dataset/cardio_train.csv`) to the current working directory of your system."
   ]
  },
  {
   "cell_type": "code",
   "execution_count": null,
   "id": "7d1e43ab",
   "metadata": {},
   "outputs": [],
   "source": [
    "# This cell download the dataset from the web\n",
    "\n",
    "!wget https://portal.nersc.gov/project/m3438/physics77/F23/dataset/cardio_train.csv\n"
   ]
  },
  {
   "cell_type": "code",
   "execution_count": null,
   "id": "3f83c079",
   "metadata": {},
   "outputs": [],
   "source": [
    "# Display the first 10 lines of the file 'cardio_train.csv' using the 'head' command.\n",
    "# Pay attention to the header (the first line in the printout)\n",
    "# You will need to use the header to associate the position of entries to the quantity (age, blood pressure, etc.)\n",
    "!head -n 10 cardio_train.csv\n"
   ]
  },
  {
   "cell_type": "markdown",
   "id": "95a999d7",
   "metadata": {},
   "source": [
    "The CSV file is delimited by semicolons (`;`). From the header, we can infer the following columns and their potential meanings:\n",
    "\n",
    "- `id` - A unique identifier for each sample.\n",
    "- `age` - Age of the individual (likely in days, given the large numbers).\n",
    "- `gender` - Gender of the individual. The values are numeric, so we might need further information or analysis to determine which numbers correspond to which genders.\n",
    "- `height` - Height of the individual, likely in centimeters.\n",
    "- `weight` - Weight of the individual, possibly in kilograms.\n",
    "- `ap_hi` - Systolic blood pressure.\n",
    "- `ap_lo` - Diastolic blood pressure.\n",
    "- `cholesterol` - Cholesterol level. This seems to be a categorical variable with numeric values.\n",
    "- `gluc` - Glucose level. This also appears to be a categorical variable with numeric values.\n",
    "- `smoke` - Whether the individual smokes or not. This is likely a binary variable (0 for non-smokers, 1 for smokers).\n",
    "- `alco` - Whether the individual consumes alcohol or not. This is probably a binary variable as well.\n",
    "- `active` - Whether the individual is physically active. Again, likely a binary variable.\n",
    "- `cardio` - Whether the individual has a cardiovascular disease or not. This is presumably the target variable, and it is binary."
   ]
  },
  {
   "cell_type": "code",
   "execution_count": null,
   "id": "796855d6",
   "metadata": {},
   "outputs": [],
   "source": [
    "# Import the numpy library and alias it as 'np'\n",
    "import numpy as np\n",
    "\n",
    "# Use numpy's 'genfromtxt' function to read data from the file 'cardio_train.csv'\n",
    "# 'delimiter' specifies that the data is separated by semicolons (';')\n",
    "# 'skip_header=1' indicates that the first row (header) of the file should be skipped\n",
    "data = np.genfromtxt('cardio_train.csv', delimiter=';', skip_header=1)"
   ]
  },
  {
   "cell_type": "markdown",
   "id": "e947349a",
   "metadata": {},
   "source": [
    "## Part 3.1: write a few lines to check the dimension, shape, and size of this numpy array"
   ]
  },
  {
   "cell_type": "code",
   "execution_count": null,
   "id": "23d71cb2",
   "metadata": {},
   "outputs": [],
   "source": [
    "# Develop your code here. 5 pts"
   ]
  },
  {
   "cell_type": "markdown",
   "id": "653b79d5",
   "metadata": {},
   "source": [
    "## Part 3.2: Produce the age distribution of this sample\n",
    "- Draw the age in the unit of year. You can assume each year has exactly 365 days. \n",
    "    - Hint: Each entry on the axis 0 is a sample (a person). Their age data is one of the entries on axis 1. So you want to keep all the age entries regardless of the axis-0 position.  \n",
    "    - the plot should be a histogram with a range of (30,70) and bins = 40\n",
    "    - label the y and x axes properly. The x label should be 'Age [yr]', and the y label should be 'Entries'\n",
    "- Calculate the mean and standard deviation of the age distribution, as well as the median age. "
   ]
  },
  {
   "cell_type": "code",
   "execution_count": null,
   "id": "0670afaa",
   "metadata": {},
   "outputs": [],
   "source": [
    "# Develop your code here 15 pts"
   ]
  },
  {
   "cell_type": "markdown",
   "id": "308150cb",
   "metadata": {},
   "source": [
    "## Part 3.3: BMI distribution \n",
    "\n",
    "BMI, or Body Mass Index, is a numerical value derived from an individual's weight and height. It is a commonly used tool to assess whether a person has a healthy body weight for their height. BMI is calculated using the following formula:\n",
    "\n",
    "$\\huge \\mathrm{BMI} =\\frac{weight}{height^2} $\n",
    "\n",
    "where the units of weight and height are kilogram and meter, respectively\n",
    "\n",
    "**Part 3.3.1:Produce the BMI distribution of this sample**\n",
    "\n",
    "- This requires you obtain the weight and height from the data numpy array. Each of these two quantities are corresponding to entries on the axis 1 of the numpy array `data`. To get the weight and height, you can follow the procedure established for Part 2 of this problem.  \n",
    "- Make sure you convert the unit of height data properly. The formula is valid for height in meters, while the numpy array contains height data in cm\n",
    "- You can use 40 bins with a range of 10 to 50 for the histogram\n",
    "- What is the largest BMI value from this dataset? (I leave it to you to google search how to find the maximum value of a numpy array)\n",
    "\n",
    "**Part 3.3.2: what is the fraction of the samples that have a BMI smaller than 25?**\n",
    "- hints: first, you need to know the total number of samples in this dataset. That number is the number of entries on axis 0 of `data`. Second, you need to apply a selection that only keeps the entries of `data` or your BMI numpy array where the BMI value is smaller than 25. You may consult the lecture notebook of September 13, 2023 if you don't have an idea for this."
   ]
  },
  {
   "cell_type": "code",
   "execution_count": null,
   "id": "532eadda",
   "metadata": {},
   "outputs": [],
   "source": [
    "# Develop your code here 15 pts"
   ]
  },
  {
   "cell_type": "markdown",
   "id": "904a7bc0",
   "metadata": {},
   "source": [
    "## Part 4 Produce the age distributuion for a subset of samples\n",
    "\n",
    "produce the age distribution for samples where their BMI is greater than 30"
   ]
  },
  {
   "cell_type": "code",
   "execution_count": null,
   "id": "26d89f90",
   "metadata": {},
   "outputs": [],
   "source": [
    "# Develop your code here 10 pts"
   ]
  }
 ],
 "metadata": {
  "kernelspec": {
   "display_name": "Python 3 (ipykernel)",
   "language": "python",
   "name": "python3"
  },
  "language_info": {
   "codemirror_mode": {
    "name": "ipython",
    "version": 3
   },
   "file_extension": ".py",
   "mimetype": "text/x-python",
   "name": "python",
   "nbconvert_exporter": "python",
   "pygments_lexer": "ipython3",
   "version": "3.9.15"
  }
 },
 "nbformat": 4,
 "nbformat_minor": 5
}
