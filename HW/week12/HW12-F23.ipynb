{
 "cells": [
  {
   "cell_type": "markdown",
   "id": "49f0262c",
   "metadata": {},
   "source": [
    "# Homework 12\n",
    "\n",
    "**Due by 9 pm, Thursday, November 16**\n",
    "\n",
    "This homework is prepared in a workshop style because we do not have a workshop this Friday. \n",
    "\n",
    "# Discrete Fourier Transform\n",
    "\n",
    "\n",
    "The Discrete Fourier Transform (DFT) and its inverse (IDFT) are mathematical techniques used to convert a discrete signal between the time domain and the frequency domain. \n",
    "\n",
    "The DFT is defined by the formula:\n",
    "\n",
    "\\begin{equation}\n",
    "X[k] = \\sum_{n=0}^{N-1} x[n] \\cdot e^{-i 2 \\pi k n / N}\n",
    "\\end{equation}\n",
    "\n",
    "where:\n",
    "- \\( X[k] \\) represents the k-th frequency component of the transformed signal.\n",
    "- \\( x[n] \\) is the n-th sample of the original time-domain signal.\n",
    "- \\( N \\) is the total number of samples.\n",
    "- \\( e \\) is the base of the natural logarithm.\n",
    "- \\( i \\) is the imaginary unit (\\( i^2 = -1 \\)).\n",
    "- \\( k \\) ranges from 0 to \\( N-1 \\) and corresponds to the index of the frequency component.\n",
    "\n",
    "The result of the DFT, \\( X[k] \\), is a complex number that encodes both the amplitude and phase of the sinusoidal basis function at the frequency \\( k/N \\) cycles per sample of the original signal.\n"
   ]
  },
  {
   "cell_type": "markdown",
   "id": "c3121070",
   "metadata": {},
   "source": [
    "## Task 1 Create a signal\n",
    "\n",
    "Our signal is a superposition of five sinusoidal functions with equal amplitudes and frequencies of 5 Hz, 15 Hz, 150 Hz, 500 Hz, and 1500 Hz. You can take the amplitude as 1 for simplicity. The signal is sampled at 5000 Hz from t = 0 to t = 1 s. Store the signal in a numpy array named as `signal`. Plot the signal in 0 < t < 1 s with a sampling frequency of 5000 Hz\n",
    "\n",
    "You may want to first review the following to understand the parameterization of a sinusoidal function \n",
    "\n",
    "### Parameterization of a Sinusoidal Function\n",
    "\n",
    "A sinusoidal function can be described by the following parameters, each affecting its shape and behavior:\n",
    "\n",
    "1. **Amplitude (A)**: The peak value of the function, which determines its maximum and minimum extents. It's a measure of how far the function reaches from its central axis (the midline).\n",
    "\n",
    "2. **Frequency (f)**: The number of cycles the function completes in one second, measured in hertz (Hz). The frequency dictates how quickly the function oscillates.\n",
    "\n",
    "3. **Angular Frequency (ω)**: Related to frequency by the formula $ \\omega = 2\\pi f $, representing the rate of change of the function argument in radians per second.\n",
    "\n",
    "4. **Phase Shift (ϕ)**: A horizontal translation of the function, measured in radians. A positive phase shift moves the function to the left, and a negative phase shift moves it to the right.\n",
    "\n",
    "5. **Vertical Shift (D)**: This parameter moves the function up or down, representing an offset from the horizontal axis.\n",
    "\n",
    "With these parameters, the general equation of a sinusoidal function is:\n",
    "\n",
    "$ y(t) = A \\sin(\\omega t + \\phi) + D $\n",
    "\n",
    "Or, using frequency:\n",
    "\n",
    "$ y(t) = A \\sin(2\\pi ft + \\phi) + D $\n",
    "\n",
    "where:\n",
    "- $ y(t) $ is the function value at time $ t $,\n",
    "- $ A $ is the amplitude,\n",
    "- $ \\omega $ (or $ 2\\pi f $) is the angular frequency,\n",
    "- $ \\phi $ is the phase shift,\n",
    "- $ D $ is the vertical shift.\n",
    "\n",
    "Adjusting these parameters allows for control over the waveform's height, spacing, horizontal position, and midline elevation.\n"
   ]
  },
  {
   "cell_type": "code",
   "execution_count": null,
   "id": "944d509c",
   "metadata": {},
   "outputs": [],
   "source": [
    "# Your code here\n",
    "\n",
    "# Define a function and then generate the signal\n",
    "\n",
    "# 10 pts for function definition\n",
    "# 10 pts for visualization of the signal "
   ]
  },
  {
   "cell_type": "markdown",
   "id": "77747c99",
   "metadata": {},
   "source": [
    "## Task 2 Removing a frequency component and reconstruct the signal\n",
    "\n",
    "In this task, you will perform a fast fourier transform of the signal. Then you will get the frequency spectrum of the signal. Set the amplitude of the frequency component of 1500 Hz to 0. Then perform an inverse fast fouerier transform to restruct the signal in the time domain using the filtered frequency spectrum.\n",
    "\n"
   ]
  },
  {
   "cell_type": "code",
   "execution_count": null,
   "id": "4756f18c",
   "metadata": {},
   "outputs": [],
   "source": [
    "# If your task 1 is done following the instruction, then the cell below will run out of box. \n",
    "# This cell should show you the frequency spectrum of the signal. \n",
    "\n",
    "import matplotlib.pyplot as plt\n",
    "import numpy as np\n",
    "\n",
    "# Perform FFT\n",
    "# Read the Markdown below to understand these two lines\n",
    "fft_result = np.fft.fft(signal)\n",
    "fft_freq = np.fft.fftfreq(len(signal), d=(t[1]-t[0]))\n",
    "\n",
    "# Print the shape and size of the fft_result array\n",
    "print(\"Shape of fft_result:\", fft_result.shape)\n",
    "print(\"Size of fft_result:\", fft_result.size)\n",
    "\n",
    "# Print the shape and size of the fft_freq array\n",
    "print(\"Shape of fft_freq:\", fft_freq.shape)\n",
    "print(\"Size of fft_freq:\", fft_freq.size)\n",
    "\n",
    "\n",
    "# Plot the spectrum\n",
    "plt.figure(figsize=(12, 6))\n",
    "plt.plot(fft_freq, np.abs(fft_result))\n",
    "plt.title('Frequency Spectrum')\n",
    "plt.xlabel('Frequency (Hz)')\n",
    "plt.ylabel('Amplitude')\n",
    "plt.grid()\n",
    "plt.show()\n",
    "\n",
    "\n"
   ]
  },
  {
   "cell_type": "markdown",
   "id": "53bce382",
   "metadata": {},
   "source": [
    "### Explanation of FFT Code Lines\n",
    "\n",
    "The following two lines of code are crucial in performing the Fast Fourier Transform (FFT) on a discrete signal:\n",
    "\n",
    "1. `fft_result = np.fft.fft(signal)`\n",
    "   - This line computes the FFT of the `signal`, which is an array of signal values sampled over time. The function `np.fft.fft` returns the Discrete Fourier Transform (DFT) of the signal using the efficient FFT algorithm. The output `fft_result` is an array of complex numbers, where each number represents the amplitude and phase of a certain frequency component of the original signal.\n",
    "\n",
    "2. `fft_freq = np.fft.fftfreq(len(signal), d=(t[1]-t[0]))`\n",
    "   - This line generates an array of frequencies (`fft_freq`) that correspond to the elements in `fft_result`. The function `np.fft.fftfreq` takes in the length of the signal and the sample spacing `d`, which is the time interval between two consecutive samples in the `signal`. The output is an array of frequency values in cycles per unit of the sample spacing. The array is ordered such that the first half are the positive frequency components, and the second half are the symmetric negative frequency components, which is characteristic of the FFT of a real-valued signal.\n",
    "\n",
    "Together, these lines transform a signal from the time domain to the frequency domain, allowing us to analyze the frequency components of the signal.\n",
    "\n",
    "**Hint:**\n",
    "To remove a frequency component, you need to identify the index in the `fft_freq` array that corresponds to the desired frequency value. Once located, set the element at the matching index in the `fft_result` array to zero. It is advisable to create a new array, perhaps named `filtered_fft`, to preserve the original FFT results. This new array can then be used to compute the inverse FFT and reconstruct the signal in the time domain without the unwanted frequency component."
   ]
  },
  {
   "cell_type": "code",
   "execution_count": null,
   "id": "ce4893f1",
   "metadata": {},
   "outputs": [],
   "source": [
    "# Develop your code for task 2 here\n",
    "\n",
    "# 20 pts"
   ]
  },
  {
   "cell_type": "markdown",
   "id": "06213f5c",
   "metadata": {},
   "source": [
    "\n",
    "## Task 3 \n",
    "\n",
    "Now that you have a filtered DFT named as `filtered_fft`, you can perform the inverse FFT to reconstruct the signal in the time domain. In this task, you should read the documentation of numpy.fft to understand how you can perform the inverse FFT using `filtered_fft` as an input. You should also overlay your reconstructed signal and the original signal to see their difference.\n",
    "\n",
    "### Inverse Discrete Fourier Transform (IDFT)\n",
    "\n",
    "The Inverse Discrete Fourier Transform (IDFT) is the operation that converts frequency domain data back into the time domain. If a signal has been transformed into the frequency domain using the Discrete Fourier Transform (DFT), the IDFT can reconstruct the original time domain signal from its frequency components. The formula for the IDFT is:\n",
    "\n",
    "$\n",
    "x[n] = \\frac{1}{N} \\sum_{k=0}^{N-1} X[k] \\cdot e^{i 2 \\pi k n / N}\n",
    "$\n",
    "\n",
    "where:\n",
    "- $ x[n] $ is the n-th sample of the reconstructed time-domain signal,\n",
    "- $ X[k] $ is the k-th component of the frequency-domain representation,\n",
    "- $ N $ is the total number of samples,\n",
    "- $ e $ is the base of the natural logarithm,\n",
    "- $ i $ is the imaginary unit ($ i^2 = -1 $),\n",
    "- $ k $ is the current frequency index, and\n",
    "- $ n $ ranges from 0 to $ N-1 $.\n",
    "\n",
    "This formula is essentially the reverse of the DFT, with the key difference being the sign in the exponent and the division by $ N $ which normalizes the result.\n",
    "\n",
    "\n",
    "\n",
    "Now that you "
   ]
  },
  {
   "cell_type": "code",
   "execution_count": null,
   "id": "6707f6c0",
   "metadata": {},
   "outputs": [],
   "source": [
    "# Task 3 your code here\n",
    "# 20 pts for the inverse fft\n",
    "# 10 pts for the plots comparing the original signal and the reconstructed signal\n"
   ]
  },
  {
   "cell_type": "markdown",
   "id": "005a410e",
   "metadata": {},
   "source": [
    "## Task 4\n",
    "\n",
    "Now do another exercise: remove all the frequency components that are greater than 50 Hz from the original signal using FFT; compare the filtered signal and the original signal.\n",
    "\n"
   ]
  },
  {
   "cell_type": "code",
   "execution_count": null,
   "id": "6b352f2d",
   "metadata": {},
   "outputs": [],
   "source": [
    "# Your code for task 4\n",
    "\n",
    "# 30 pts"
   ]
  }
 ],
 "metadata": {
  "kernelspec": {
   "display_name": "Python 3 (ipykernel)",
   "language": "python",
   "name": "python3"
  },
  "language_info": {
   "codemirror_mode": {
    "name": "ipython",
    "version": 3
   },
   "file_extension": ".py",
   "mimetype": "text/x-python",
   "name": "python",
   "nbconvert_exporter": "python",
   "pygments_lexer": "ipython3",
   "version": "3.9.15"
  }
 },
 "nbformat": 4,
 "nbformat_minor": 5
}
