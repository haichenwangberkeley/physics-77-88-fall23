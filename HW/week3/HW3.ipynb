{
 "cells": [
  {
   "cell_type": "markdown",
   "id": "2e7865ca",
   "metadata": {},
   "source": [
    "# Homework 3 \n",
    "\n",
    "**This assignment is due by 9:00 pm, September 14, 2023. Submit the ipynb and pdf versions of your completed notebook to bcourse**\n",
    "\n",
    "This assignment has one problem.\n",
    "\n",
    "# Problem 1: Prime Number\n",
    "\n",
    "A prime number is a natural number greater than 1 that is not a product of two smaller natural numbers. In other words, a prime number is a number that cannot be formed by multiplying two smaller natural numbers. For example, under 10, 1, 2, 3, 5, and 7 are prime numbers; while 4, 6, 8, and 9 are not prime numbers.\n",
    "\n",
    "## Part-1 Write a function to determine if a natural number is an integer\n",
    "\n",
    "**Requirements**\n",
    "1. This function (`is_prime`)  takes two input arguments, N and verbose. N is the natural number to test, and verbose is a Boolean variable to control if any printout is made while executing the function.\n",
    "\n",
    "2. The returning variable is Boolean. It indicates if the number under test is a prime number of not. True means it is a prime number, while False means it is not.\n",
    "\n",
    "3. When the input argument verbose is True. The function should print out the following message(s): \n",
    "    - If the nubmer is not a prime one, then you must have found at least one way to factorize the number. As such, you can include this line in your code:\n",
    "                   ` print(f\"{N} is not prime as it can be expressed as {M} * {K}.\")`\n",
    "    This line allows you to properly display the values of integers N, M, and K. For example, `451 is not prime as it can be expressed as 41 * 11.`\n",
    "    - If the number is a prime number, then your function should print something like 3 is a prime number by including a line like  `print(f'{N} is a prime number')`\n",
    "\n",
    "4. This function should not use any modules such as math, numpy, etc.. Simply go over all possible natural numbers smaller than the number to test, e.g., for 5, just check if 5%M == 0, where M could be 1, 2, 3, or 4. This requires you implement a loop structure in the function. \n",
    "\n",
    "5. Use your function to check if the following numbers are prime:\n",
    "    - 3431, 3533, 3534319, 3534313\n",
    "    - you should turn verbose to True for these tests\n",
    "    \n",
    "\n"
   ]
  },
  {
   "cell_type": "code",
   "execution_count": null,
   "id": "738f6f42",
   "metadata": {},
   "outputs": [],
   "source": [
    "def is_prime ...\n",
    "\n",
    "        \n",
    "# 20 pts    "
   ]
  },
  {
   "cell_type": "code",
   "execution_count": null,
   "id": "363a41dc",
   "metadata": {},
   "outputs": [],
   "source": [
    "# Check if prime, for 3431, 3533, 3534319, 3534313\n",
    "# 5 pts"
   ]
  },
  {
   "cell_type": "markdown",
   "id": "19ac318d",
   "metadata": {},
   "source": [
    "## Part-2 \n",
    "\n",
    "Here, we use the function defined in Part-1 to check the frequency of prime numbers. Specifically, we want to know how many prime numbers are there for every interval of 100, e.g., 1 - 100, 101 - 200, .... 2901 - 3000\n",
    "\n",
    "**Requirements**\n",
    "\n",
    "1. Define a new function (`prime_counter`) that would return the total number of prime numbers within an interval that is specified by start and end, where start and end are the input arguments of this function. `start` and `end` are included in the interval, e.g., for the interval 101 - 200, the `start` is 101, and the `end` is 200, and you would check all the numbers between 101 and 200, as well as 101 and 200. \n",
    "\n",
    "2. This function should call the function defined in Part-1. In other words, you need exploit the function that you developed and you don't want to reinvent the wheel. Hints - create a loop to go over all the intergers between `start` and `end`, call the `is_prime` function for each integer, count how many times `is_prime` returns True. To avoid lengthy printout, when you can `is_prime`, turn the verbose option to False. \n",
    "\n",
    "3. Create a list `prime_counts` to store the prime number counts for these intervals. Between 1 and 3000, we have 30 intervals of 100. Your list will then have 30 entries, each of which is the number of prime numbers in the corresponding interval. Print out the list. \n",
    "\n"
   ]
  },
  {
   "cell_type": "code",
   "execution_count": null,
   "id": "9fcbe991",
   "metadata": {},
   "outputs": [],
   "source": [
    "def prime_counter ...\n",
    "\n",
    "#10 pts"
   ]
  },
  {
   "cell_type": "code",
   "execution_count": null,
   "id": "c46c2b10",
   "metadata": {},
   "outputs": [],
   "source": [
    "prime_counts ...\n",
    "    \n",
    "print(prime_counts)\n",
    "\n",
    "\n",
    "# 15pts"
   ]
  },
  {
   "cell_type": "markdown",
   "id": "a0e835b8",
   "metadata": {},
   "source": [
    "## Part-3 List operations\n",
    "\n",
    "The list `prime_counts` created in Part-2 has duplicated entries. In this part, we will practice with list operations. \n",
    "\n",
    "1. Sort the list `prime_counts` so that its entries are ordered in an ascending order. This can be done easily with a python (list) built-in function. You should do your research to figure out how to do it. \n",
    "\n",
    "2. Create a new list `New_list` that keeps the unique entries in the `prime_counts` (for example, for a list of [2,2,3,4,5,5], the new list of unique entries should be[2, 3, 4, 5]). As we discussed during the lecture, the data structure `set` only has unique entries. So one way to do it is to force convert the list `prime_counts` to a set, and then convert the set back to a list. You can try these lines\n",
    "\n",
    "`New_list_1 = list(set(prime_counts))\n",
    "print(New_list_1)`\n",
    "\n",
    "however, in this problem, you are not allowed to use set to do. You should write a function that\n",
    "- takes the `prime_counts` as input argument\n",
    "- return a new list that has all the unique entries in `prime_counts`\n",
    "- do not use set, or any other python modules\n",
    "- hints: you can use loops \n",
    "\n",
    "print out this `New_list`\n",
    "\n",
    "3. Create a new list `New_list_2` of values in the original list that only appears once. For example, in the list of [2,2,3,4,5,5], the new list should be [3,4] because there are two 2's and two 5's in the original list. You should should write a function that\n",
    "- takes the `prime_counts` as input argument\n",
    "- return a new list of all the values that only appears once in `prime_counts`\n",
    "- do not use set, or any other python modules\n",
    "- hints: you can use loops. You may want to use the count function of list. Google search that!\n",
    "print out this `New_list_2`"
   ]
  },
  {
   "cell_type": "code",
   "execution_count": null,
   "id": "a9d83a62",
   "metadata": {},
   "outputs": [],
   "source": [
    "# sort\n",
    "\n",
    "# 5 pts"
   ]
  },
  {
   "cell_type": "code",
   "execution_count": null,
   "id": "e10a81ca",
   "metadata": {},
   "outputs": [],
   "source": [
    "# Part 2, unique list\n",
    "\n",
    "#10 pts"
   ]
  },
  {
   "cell_type": "code",
   "execution_count": null,
   "id": "87b6f198",
   "metadata": {},
   "outputs": [],
   "source": [
    "# Part 3, single appearance list\n",
    "\n",
    "#10 pts"
   ]
  },
  {
   "cell_type": "markdown",
   "id": "5d9a8b4f",
   "metadata": {},
   "source": [
    "## Part 4 Pair of prime numbers\n",
    "\n",
    "Write a function to count pair of prime numbers that differ by a specific value (distance parameter). \n",
    "**Requirements**\n",
    "1. Create a list (`prime_list`)of all the prime numbers between 1 and 3000.\n",
    "2. Define a function that \n",
    "    - takes two input arguments: `prime_list` and a distance parameter R \n",
    "    - return the number of pairs of prime numbers that differ by R. For example, if two prime numbers, A and B, meets the condition B - A = 300, then A and B are a pair of prime numbers that differ by 300.\n",
    "3. Find the most probable difference between prime numbers in the range of 1 to 3000. Since we are looking at prime numbers between 1 and 3000, the possible difference between prime numbers is between 1 and 2999 (or even smaller). We want to know which distance parameter value has the highest count of the prime number pairs.  "
   ]
  },
  {
   "cell_type": "code",
   "execution_count": null,
   "id": "a9487a48",
   "metadata": {},
   "outputs": [],
   "source": [
    "prime_list ...\n",
    "\n",
    "# 5 pts\n",
    "\n",
    "# function definition\n",
    "\n",
    "# 10 pts\n",
    "    \n",
    "# Find the most probable difference\n",
    "    \n",
    "print('The max counts is', ...)\n",
    "print('The corresponding difference is', ...)\n",
    "\n",
    "# 10 pts\n"
   ]
  }
 ],
 "metadata": {
  "kernelspec": {
   "display_name": "Python 3 (ipykernel)",
   "language": "python",
   "name": "python3"
  },
  "language_info": {
   "codemirror_mode": {
    "name": "ipython",
    "version": 3
   },
   "file_extension": ".py",
   "mimetype": "text/x-python",
   "name": "python",
   "nbconvert_exporter": "python",
   "pygments_lexer": "ipython3",
   "version": "3.9.15"
  }
 },
 "nbformat": 4,
 "nbformat_minor": 5
}
