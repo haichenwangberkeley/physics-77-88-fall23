{
 "cells": [
  {
   "cell_type": "markdown",
   "id": "ade13ba8",
   "metadata": {},
   "source": [
    "# Homework 1 August 30, 2023\n",
    "\n",
    "**due by: 9:00 pm, September 7, 2023**\n",
    "\n",
    "Submit the notebook file (.ipynb) and its PDF print out to bcourse. Name these files with your SID."
   ]
  },
  {
   "cell_type": "markdown",
   "id": "17f4349e",
   "metadata": {},
   "source": [
    "# Problem 1: Satellite Altitudes\n",
    "\n",
    "[Adapted from Newman, Exercise 2.2] A satellite is to be launched into a circular orbit around the Earth so that it orbits the planet once every $T$ seconds. The altitude $h$ above the Earth's surface that the satellite must have is <span style=\"font-size:2em\">$$ h = \\left( \\frac{G M T^2}{4 \\pi^2} \\right)^{1/3} - R, $$ </span>\n",
    "    where $G = 6.674 \\times 10^{-11}~\\text{m}^3~\\text{kg}^{-1}~\\text{s}^{-2}$ is Newton's gravitational constant, $M = 5.97 \\times 10^{24}~\\text{kg}$ is the mass of the Earth, and $R = 6371~\\text{km}$ is its radius."
   ]
  },
  {
   "cell_type": "markdown",
   "id": "23e1eeef",
   "metadata": {},
   "source": [
    "**1a.** Write a program that, for a given value of $T$ (entered as a variable T in a cell), calculates and prints out the correct altitude in meters, kilometers, and miles, with one decimal place for each result.\n",
    "\n",
    "*Output for 1a*: When the code cell for this part of the problem is entered, it should specify (in the comments or the Markdown cell above) what units of $T$ are assumed. The program should print out the correct altitude in meters, kilometers, and miles, with one decimal place for each result."
   ]
  },
  {
   "cell_type": "code",
   "execution_count": null,
   "id": "d61201d6",
   "metadata": {},
   "outputs": [],
   "source": [
    "import numpy as np\n",
    "PI = np.pi  #the numpy library has a lot of useful mathematical constants\n",
    "\n",
    "def find_altitude(T):\n",
    "    \"\"\"This function calculates and prints the altitude above Earth's surface\n",
    "    for a satellite with orbital period T (input in seconds)\"\"\"\n",
    "    \n",
    "    G = 6.674e-11 #Gravitational constant, units: m^3/kg/s^2\n",
    "    M = 5.97e24  #mass of Earth, units: kg\n",
    "    R = 6371e3   #radius of Earth, units: m\n",
    "    \n",
    "    h = ... #use the formula given above to to find the altitude\n",
    "    \n",
    "    # Now use print statements and your favorite formatting method to print the results. "
   ]
  },
  {
   "cell_type": "markdown",
   "id": "6e9913ff",
   "metadata": {},
   "source": [
    "*Output for 1b and 1c:* Use code cells to carry out the desired calculations, and Markdown cells to present and discuss your results."
   ]
  },
  {
   "cell_type": "markdown",
   "id": "fa03fd15",
   "metadata": {},
   "source": []
  },
  {
   "cell_type": "markdown",
   "id": "033992cb",
   "metadata": {},
   "source": [
    "**1b.** Use your program to calculate the altitudes of satellites that orbit the Earth once a day (so-called \"geosynchronous\" orbit), once every 90 minutes, and once every 45 minutes. What do you conclude from the last of these calculations?"
   ]
  },
  {
   "cell_type": "code",
   "execution_count": null,
   "id": "350234f6",
   "metadata": {},
   "outputs": [],
   "source": [
    "# Since you defined a function above, you can just call it with different input values. "
   ]
  },
  {
   "cell_type": "markdown",
   "id": "49af79bb",
   "metadata": {},
   "source": [
    "#### Hints\n",
    "\n",
    "Be very careful of units! Unlike wolframalpha.com, python is oblivious to what units your various numbers represent. You need to carefully keep track of them to make sure that your units work out. Not converting units properly can lead to [very expensive disasters](https://en.wikipedia.org/wiki/Mars_Climate_Orbiter) or just wrong scientific results ...\n",
    "\n",
    "Remember to comment your code and use descriptive variable names so others (and future you) can understand what you're doing!"
   ]
  },
  {
   "cell_type": "markdown",
   "id": "5a75436e",
   "metadata": {},
   "source": [
    "# Problem 2: Hyperbolic Tangent function\n",
    "\n",
    "The function $\\tanh(x)$, called the hyperbolic tangent function, is a mathematical function that maps a real number $x$ to a value between -1 and 1. It's defined as the ratio of the difference of the exponential function $e^x$ and the exponential function $e^{-x}$ to their sum:\n",
    "\n",
    "<span style=\"font-size:2em\"> $ tanh(x) = \\frac{{e^x - e^{-x}}}{{e^x + e^{-x}}} $ </span>\n",
    "\n",
    "The hyperbolic tangent function is often used in various fields of mathematics, engineering, and science. It has properties similar to the regular tangent function, but it operates in the context of hyperbolic functions. In neural networks and machine learning, the tanh function is commonly used as an activation function for neurons in a layer due to its range and shape properties.\n"
   ]
  },
  {
   "cell_type": "markdown",
   "id": "e0163f15",
   "metadata": {},
   "source": [
    "**2a** Define a python function that takes an input parameter of x and return tanh(x)\n",
    "You may use any functions that exist in math and/or numpy module for this implementation\n",
    "https://numpy.org/doc/stable/reference/routines.math.html\n",
    "https://docs.python.org/3/library/math.html"
   ]
  },
  {
   "cell_type": "code",
   "execution_count": null,
   "id": "01ee3a67",
   "metadata": {},
   "outputs": [],
   "source": [
    "# Define your function here"
   ]
  },
  {
   "cell_type": "markdown",
   "id": "8287933c",
   "metadata": {},
   "source": [
    "**2b** use the tanh function that you defined in **2a** to calculate the tanh(x) values at\n",
    "- x = -100.0\n",
    "- x = 1.0\n",
    "- x = 5000.0\n",
    "Write your code in a code cell and summarize your findings in a markdown cell"
   ]
  },
  {
   "cell_type": "code",
   "execution_count": null,
   "id": "5cc1742d",
   "metadata": {},
   "outputs": [],
   "source": []
  },
  {
   "cell_type": "markdown",
   "id": "1ba880e5",
   "metadata": {},
   "source": [
    "# Problem 3 Taylor Expansion\n",
    "\n",
    "A Taylor expansion, also known as a Taylor series or Taylor polynomial, is a mathematical representation that allows us to approximate a function using a polynomial expression. This approximation is centered around a specific point, often denoted as $x = a$, and it's particularly useful when dealing with functions that might be complex or difficult to work with directly.\n",
    "\n",
    "The Taylor expansion expresses a function $f(x)$ as an infinite sum of terms involving the function's derivatives evaluated at the point $x = a$. The general formula for the Taylor expansion of a function $f(x)$ centered at $x = a$ is:\n",
    "\n",
    "$$ f(x) = f(a) + f'(a)(x - a) + \\frac{f''(a)}{2!}(x - a)^2 + \\frac{f'''(a)}{3!}(x - a)^3 + \\cdots $$\n",
    "\n",
    "In a more compact form, using sigma notation, the Taylor series can be written as:\n",
    "\n",
    "$$ f(x) = \\sum_{n=0}^{\\infty} \\frac{f^{(n)}(a)}{n!}(x - a)^n $$\n",
    "\n",
    "Where:\n",
    "- $f^{(n)}(a)$ represents the $n$th derivative of the function $f(x)$ evaluated at $x = a$.\n",
    "- $n!$ is the factorial of $n$.\n",
    "\n",
    "The Taylor expansion becomes more accurate as more terms are included, making it a powerful tool for approximating functions, especially when the function itself is not easy to work with directly. By using only a few terms, it's often possible to get a good approximation of the function's behavior near the point $x = a$.\n"
   ]
  },
  {
   "cell_type": "markdown",
   "id": "2f8076d6",
   "metadata": {},
   "source": [
    "## **3a** Taylor expansion for y = cos(x) around x = 0\n",
    "\n",
    "The Taylor expansion of $y = \\cos(x)$ around $x = 0$ is given by:\n",
    "\n",
    "$$ \\cos(x) \\approx 1 - \\frac{x^2}{2!} + \\frac{x^4}{4!} - \\frac{x^6}{6!} + \\cdots $$\n",
    "\n",
    "This can also be expressed using sigma notation:\n",
    "\n",
    "$$ \\cos(x) \\approx \\sum_{n=0}^{\\infty} (-1)^n \\frac{x^{2n}}{(2n)!} $$\n",
    "\n",
    "Define a Python function that takes an input parameter of x and return the value of the Taylor series for $y = \\cos(x)$ around $x = 0$ up to terms at n = 3. Use this function to calculate the value of $\\cos(0.1)$. Compare it with the precise value of $\\cos(0.1)$ calculated from np.cos() or math.cos(). Develop your code in a code cell and summarize your results in a markdown cell. \n"
   ]
  },
  {
   "cell_type": "code",
   "execution_count": 2,
   "id": "389f2faa",
   "metadata": {},
   "outputs": [
    {
     "name": "stdout",
     "output_type": "stream",
     "text": [
      "Approximated cos(0.1): 0.9950041652777778\n",
      "Precise cos(0.1) from numpy: 0.9950041652780258\n"
     ]
    }
   ],
   "source": [
    "\n"
   ]
  },
  {
   "cell_type": "markdown",
   "id": "6792b3bf",
   "metadata": {},
   "source": [
    "## 3b Taylor expansion of $y = \\log(x)$ around $x = a$ \n",
    "The Taylor expansion of $y = \\log(x)$ around $x = a$ is given by:\n",
    "\n",
    "$$ \\log(x) \\approx \\log(a) + \\frac{1}{a}(x - a) - \\frac{1}{2a^2}(x - a)^2 + \\frac{2}{3a^3}(x - a)^3 - \\cdots $$\n",
    "\n",
    "In a more compact form, using sigma notation, the expansion can be written as:\n",
    "\n",
    "$$ \\log(x) \\approx \\sum_{n=1}^{\\infty} (-1)^{n+1} \\frac{(x - a)^n}{na^n} $$\n",
    "\n",
    "\n",
    "Define a Python function that takes an input parameter of x and return the value of the Taylor series for $y = \\log(x)$ around $a = 1$ up to terms at n = 3. Use this function to calculate the value of $\\log(4.5)$. Here we known that $y(1) = \\log(1) = 0$.  Compare it with the precise value of $\\log(4.5)$ calculated from np.log() or math.log(). Then, repeat this calculation and comparison for x = 4.5. \n",
    "\n",
    "Develop your code in a code cell and summarize your results and finding in a markdown cell. "
   ]
  },
  {
   "cell_type": "code",
   "execution_count": null,
   "id": "6419b49f",
   "metadata": {},
   "outputs": [],
   "source": []
  }
 ],
 "metadata": {
  "kernelspec": {
   "display_name": "Python 3 (ipykernel)",
   "language": "python",
   "name": "python3"
  },
  "language_info": {
   "codemirror_mode": {
    "name": "ipython",
    "version": 3
   },
   "file_extension": ".py",
   "mimetype": "text/x-python",
   "name": "python",
   "nbconvert_exporter": "python",
   "pygments_lexer": "ipython3",
   "version": "3.9.15"
  }
 },
 "nbformat": 4,
 "nbformat_minor": 5
}
