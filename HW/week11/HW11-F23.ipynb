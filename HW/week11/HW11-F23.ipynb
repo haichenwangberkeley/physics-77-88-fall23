{
 "cells": [
  {
   "cell_type": "markdown",
   "id": "f1cfe1a3",
   "metadata": {},
   "source": [
    "# Homework 11 solution\n",
    "\n",
    "**Due by 9 pm, Tuesday, November 7, 2023**\n",
    "\n",
    " \n",
    "\n",
    "## Problem 1 \n",
    "\n",
    "### Background:\n",
    "\n",
    "In a measurement, we have a single observed outcome denoted as \"k.\" The expectation of this outcome is described by a mathematical equation:\n",
    "\n",
    "$\\lambda = \\mu s + b$\n",
    "\n",
    "Where:\n",
    "\n",
    "$s$ is a fixed value of 75.\n",
    "$b$ is a fixed value of 100.\n",
    "$\\mu$ is a parameter that we need to determine by minimizing the negative log likelihood of this measurement.\n",
    "The outcome \"k\" follows a Poisson distribution with a mean value of $\\lambda$. The observed value of \"k\" is 193.\n",
    "\n",
    "### Task 1: Construct the Negative Log Likelihood Function (5 pt)\n",
    "\n",
    "Your first task is to create a Python function called NLL(mu, k) that calculates the negative log likelihood (NLL) of this measurement. This function takes two input arguments, $\\mu$ and \"k,\" and returns the corresponding NLL value.\n",
    "\n",
    "### Task 2: Find the Minimum NLL and Corresponding $\\mu$ Value using numerical Differentiation (15 pt)\n",
    "\n",
    "Next, you will use numerical differentiation to find the minimum of the NLL function and its corresponding $\\mu$ value. Follow these steps:\n",
    "\n",
    "Create a derivative function, deriv(mu), which computes the derivative of NLL with respect to $\\mu$ using the central difference method.\n",
    "\n",
    "Utilize the numerical root-finding method fsolve from the scipy.stats library to determine the $\\mu$ value where $\\frac{d\\mathrm{NLL}}{d\\mu} = 0$.\n",
    "\n",
    "Report the minimal NLL value and the corresponding $\\mu$ value obtained from this calculation.\n",
    "\n",
    "### Task 3: Visualize NLL and Its Derivative (10 pt)\n",
    "\n",
    "Create visualizations to better understand the NLL function and its derivative. Plot NLL as a function of $\\mu$ and also plot $\\frac{d\\mathrm{NLL}}{d\\mu}$ as a function of $\\mu$.\n",
    "\n",
    "### Task 4: Compare with scipy.optimize.minimize (15 pt)\n",
    "\n",
    "Compare your result from Task 2 (finding the minimum NLL) with the one obtained using the scipy.optimize.minimize function, which is another optimization approach to find the optimal $\\mu$ value.\n",
    "\n",
    "### Task 5: Offer an Analysis for Improvement (5pt)\n",
    "\n",
    "Finally, provide an analysis of how the results obtained in this problem could be improved. Discuss potential adjustments or considerations, such as refining the optimization process, choosing appropriate initial guesses, or using different optimization methods, to achieve more accurate results.\n",
    "\n",
    "This homework problem will help you practice optimization, numerical differentiation, and visualization techniques in the context of statistical modeling and parameter estimation.\n",
    "\n"
   ]
  },
  {
   "cell_type": "code",
   "execution_count": null,
   "id": "372747f7",
   "metadata": {},
   "outputs": [],
   "source": [
    "# Your code for task 1"
   ]
  },
  {
   "cell_type": "code",
   "execution_count": null,
   "id": "8d7b2d6f",
   "metadata": {},
   "outputs": [],
   "source": [
    "# Your code for task 2"
   ]
  },
  {
   "cell_type": "code",
   "execution_count": null,
   "id": "33a61db0",
   "metadata": {},
   "outputs": [],
   "source": [
    "# Your code for task 3"
   ]
  },
  {
   "cell_type": "code",
   "execution_count": null,
   "id": "aa9ec7a8",
   "metadata": {},
   "outputs": [],
   "source": [
    "# Your code for task 4"
   ]
  },
  {
   "cell_type": "markdown",
   "id": "ffaaa88f",
   "metadata": {},
   "source": [
    "**Task 5: provide your analysis here**"
   ]
  },
  {
   "cell_type": "markdown",
   "id": "f2788291",
   "metadata": {},
   "source": [
    "## Problem 2: Hermite Interpolation of a Robotic Arm's Motion\n",
    "\n",
    "A one-dimensional robotic arm moves along the x-axis. Its position and velocity at certain time instants are known:\n",
    "\n",
    "- At \\( t = 0 \\) seconds, the arm is at position \\( x(0) = 0 \\) units with a velocity \\( v(0) = 0 \\) units/second.\n",
    "- At \\( t = 10 \\) seconds, the arm has moved to position \\( x(10) = 10 \\) units and has a velocity \\( v(10) = 0 \\) units/second.\n",
    "- At \\( t = 20 \\) seconds, the arm returns to position \\( x(20) = 0 \\) units and slows down to a stop with a velocity \\( v(20) = 0 \\) units/second.\n",
    "\n",
    "### Tasks:\n",
    "\n",
    "1. **Hermite Interpolation**: Define the Hermite interpolation polynomial for the given data points and their corresponding velocities. (10 pt)\n",
    "2. **Visualization**: Plot the motion $x(t) $ of the robotic arm over the given time interval. Ensure the given data points are highlighted on the plot. (20 pt)\n",
    "3. **Visualization of the time derivative** Plot the velocity of the robotic arm over the given time interval. The velocity in this one-dimensional problem is simply the first time derivative of the position $x(t)$. (20 pt)\n",
    "\n",
    "### Hints:\n",
    "\n",
    "- Remember that Hermite interpolation accounts for both the function values and their derivatives at the specified points.\n",
    "- Utilize relevant libraries or tools to aid in constructing the polynomial and plotting. Specifically, you should read the documentation of the CubicHermiteSpline and understand how to use it \n",
    "https://docs.scipy.org/doc/scipy/reference/generated/scipy.interpolate.CubicHermiteSpline.html\n",
    "\n"
   ]
  },
  {
   "cell_type": "code",
   "execution_count": null,
   "id": "f098cf79",
   "metadata": {},
   "outputs": [],
   "source": [
    "# Your code here"
   ]
  }
 ],
 "metadata": {
  "kernelspec": {
   "display_name": "Python 3 (ipykernel)",
   "language": "python",
   "name": "python3"
  },
  "language_info": {
   "codemirror_mode": {
    "name": "ipython",
    "version": 3
   },
   "file_extension": ".py",
   "mimetype": "text/x-python",
   "name": "python",
   "nbconvert_exporter": "python",
   "pygments_lexer": "ipython3",
   "version": "3.9.15"
  }
 },
 "nbformat": 4,
 "nbformat_minor": 5
}
