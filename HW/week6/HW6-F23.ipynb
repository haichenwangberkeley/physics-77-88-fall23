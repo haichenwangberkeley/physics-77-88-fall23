{
 "cells": [
  {
   "cell_type": "markdown",
   "id": "533e0f04",
   "metadata": {},
   "source": [
    "# Homework 6 \n",
    "This homework is due by 9 pm, Thursday, October 5, 2023"
   ]
  },
  {
   "cell_type": "markdown",
   "id": "82f5eb7e",
   "metadata": {},
   "source": [
    "# Problem 1 Linear Congruential Generator\n",
    "\n",
    "The Linear Congruent Generator (LCG) is a simple yet effective method. Your task is to create a Python script to implement an LCG.\n",
    "\n",
    "Description:\n",
    "\n",
    "The Linear Congruent Generator (LCG) is a pseudorandom number generator that produces a sequence of numbers using a linear recurrence relation. It generates a series of values (random-like) that appear to be random but are entirely determined by its initial parameters.\n",
    "\n",
    "Here's the formula for the LCG:\n",
    "\n",
    "$X_{n+1} = (a * X_n + c) \\% m$\n",
    "\n",
    "- $X_n$ is the current value in the sequence.\n",
    "- $X_{n+1}$ is the next value to be generated.\n",
    "- $a$, $c$, and $m$ are constants that define the generator.\n",
    "- % denotes the modulus operation, which ensures that the result stays within a specified range (usually, $m$).\n",
    "\n",
    "## Your task\n",
    "\n",
    "### Part 1.1\n",
    "- Write a function that takes $X_n , a, c, $ and $m$ as input arguments and return $X_{n+1}$\n",
    "\n",
    "### Part 1.2\n",
    "- Generate a set of 10000 random numbers using the following constants\n",
    "    * $X_0$ = 42131\n",
    "    * a = 1664525.0\n",
    "    * c = 1013904223\n",
    "    * m = 2**32\n",
    "    \n",
    "### Part 1.3\n",
    "    Create a histogram to show the distribution of these random numbers. You should normalize these random numbers so that their values are between 0 and 1. The normalization is done by dividing every generated random number by $m$. But you should do this after all the random numbers are generated. Label the axes properly.\n",
    "    Calculate the mean, median, variance, and the standard deviation of this set of random numbers.\n",
    "\n",
    "### Part 1.4\n",
    "- Now try three sets of different values of your choosing and generate 10,000 random numbers for each of the three sets. Draw their disttributions and calculate the mean, median, variance, and the standard deviation. In a Markdown cell, summarize your observation. \n",
    "\n",
    "    "
   ]
  },
  {
   "cell_type": "code",
   "execution_count": null,
   "id": "ef3bad06",
   "metadata": {},
   "outputs": [],
   "source": [
    "# define the function in this cell  - 5 pts\n",
    "\n"
   ]
  },
  {
   "cell_type": "code",
   "execution_count": null,
   "id": "a27201b9",
   "metadata": {},
   "outputs": [],
   "source": [
    "# generate 10000 random numbers and perform the normalization 15 pts\n",
    "\n"
   ]
  },
  {
   "cell_type": "code",
   "execution_count": null,
   "id": "ea4f1cc8",
   "metadata": {},
   "outputs": [],
   "source": [
    "# Draw the distribution as a histogram 5 pts. \n"
   ]
  },
  {
   "cell_type": "code",
   "execution_count": null,
   "id": "f95eb53f",
   "metadata": {},
   "outputs": [],
   "source": [
    "# Part 1.4,  2 pts for each trial "
   ]
  },
  {
   "cell_type": "markdown",
   "id": "212f5bd8",
   "metadata": {},
   "source": [
    "**summarize your observation in this cell** - 4 pts"
   ]
  },
  {
   "cell_type": "markdown",
   "id": "8db4d190",
   "metadata": {},
   "source": [
    "# Problem 2: von Neumann Accept-Reject method\n",
    "In this home work problem, you will implement the von Neumann Accept-Reject method in a simple case. In problem 1, you have created a LCG random number generator, which can be used to generate a set of random numbers following a Uniform distribution between 0 and 1. In this problem, we will use the Accept-Reject method to create a set of random numbers that follow a non-uniform PDF. The LCG created in problem 1 will be used here too. Here is the description of this method.\n",
    "\n",
    "$f(x)$ is the target PDF, meaning that we want to generate a set of random numbers that follow f(x). In this problem, $f(x)$ is defined in $0 \\ge x \\ge 1$. \n",
    "\n",
    "$f(x) = x \\cdot sin(\\pi\\cdot x)$\n",
    "Strictly, there should have been a normalization factor in $f(x)$ definition so that the integral of $f(x)$ over (0,1) is 1. Recall one of the foundational axioms of probability is that the probability of the entire sample space (S) is equal to 1. However, for the purpose of generating a random distribution, we do not need to worry about this normalization factor.\n",
    "\n",
    "## Part 2.1: Generate a set random numbers that follow $f(x) = xsin(\\pi x)$\n",
    "\n",
    "The generation is done iteratively. In each iteration, we have two steps: \n",
    "- first, we generate a uniform random (using the function from your problem 1) between 0 and 1, $x_r$. $x_r$ is a candidate random number that might be kept.\n",
    "- second, we need to decide if we were to keep this random number. For this purpose, we generate another random number between 0 and 1 using the LCG from problem 1. This is referred to as $h_r$. The $x_r$ will be kept if $C \\cdot h_r < f(x_r)$. Otherwise, $x_r$ is discarded.\n",
    "* Here the constant C is a number that is greater than the maximum of f(x) in the interval of (0,1). For example, you may choose C = 1.05 times the maximum of f(x) between 0 and 1\n",
    "\n",
    "Repeat this process for 10000 times, and check if your generated random number set follows the distribution of f(x). Draw the distribution of the random numbers as a histogram with 50 bins between 0 and 1 in $x$."
   ]
  },
  {
   "cell_type": "code",
   "execution_count": null,
   "id": "d03c9abe",
   "metadata": {},
   "outputs": [],
   "source": [
    "# This cell define the PDF    \n",
    "import numpy as np\n",
    "def f(x):\n",
    "    return x*np.sin(x*np.pi)"
   ]
  },
  {
   "cell_type": "code",
   "execution_count": null,
   "id": "63dfde12",
   "metadata": {},
   "outputs": [],
   "source": [
    "# Develop your code here for Part 2.1\n",
    "# 5 pts for generating numbers for x_r and h_r\n",
    "# 5 pts for identifying the maximum of f(x)\n",
    "# 15 pts for the implementation of the accept-reject criterion \n",
    "# 10 pts for proper visualization"
   ]
  },
  {
   "cell_type": "markdown",
   "id": "422fba13",
   "metadata": {},
   "source": [
    "## Part 2.2: Normalization\n",
    "\n",
    "If you used ply.plot to draw the function $f(x)$ and overlay it with the histogram of the generated random numbers, they probably will have different ``scales``, meaning that their heights can be very different. This is because the two objects, the function drawn with plt.plot and the histogram drawn with plt.hist have different normalizations. The scale of the function depends on the value of $f(x)$, while the scale of the histogram depends on the number of entries in the data set. \n",
    "\n",
    "To properly compare the shape of these two objects, we want to ``normalize`` them. This means making sure the ``area under the curve (AUC)`` is the same for the plt.plot object and the plt.hist object. Below is a step-by-step that you should follow to achieve it.\n",
    "\n",
    "- Histogram object:\n",
    "    * when a histogram is drawn with `plt.hist(A, bins = 50, range=(0,1))`. The AUC is the total number of entries in this histogram, i.e., it's the size of `A`. We can assign a weight to each entry so that the AUC is adjusted. \n",
    "    * for plt.hist(), you can specify the weight of each entry via the weights option. (See https://matplotlib.org/stable/api/_as_gen/matplotlib.pyplot.hist.html for more)\n",
    "    Your line should like `plt.hist(A, bins = 50, range=(0,1), weights = wt)` \n",
    "    where `wt` is a numpy array of the same shape as `A`. All entries of wt should have a constant value that is `1/A.size`. This ensures that the AUC becomes 1 for this histogram.\n",
    "    \n",
    "- Plot object:\n",
    "    * assume the function is displayed as `plt.plot(x,y)` where x is a series of points between 0 and 1, and y are the corresponding values of $f(x)$. The AUC without normalization is `y.sum()` (here x and y are both numpy arrays). \n",
    "    * to make sure the AUC becomes 1, simply do y = y/y.sum(), and then draw the plot with `plt.plot(x,y)`\n",
    "    \n",
    "- Legend: label the function curve and the generated distribution and display the labels in a legend that should not be overlapping with the curve and/or histogram. btw, always label x and y axes properly. \n",
    "    \n",
    "If you follow these instructions correctly, you should see that your function $f(x)$ and the random number distribution have the same scale. If the Part 2.1 was implemented correctly, then they should have the same shape, except that your random number distribution has some fluctuation.  \n"
   ]
  },
  {
   "cell_type": "code",
   "execution_count": null,
   "id": "caf62e80",
   "metadata": {},
   "outputs": [],
   "source": [
    "# your solution to part 2.2\n",
    "# 10 pts for histogram normalization\n",
    "# 10 pts for plot (f(x)) normalization\n",
    "# 10 pts for proper visualization "
   ]
  }
 ],
 "metadata": {
  "kernelspec": {
   "display_name": "Python 3 (ipykernel)",
   "language": "python",
   "name": "python3"
  },
  "language_info": {
   "codemirror_mode": {
    "name": "ipython",
    "version": 3
   },
   "file_extension": ".py",
   "mimetype": "text/x-python",
   "name": "python",
   "nbconvert_exporter": "python",
   "pygments_lexer": "ipython3",
   "version": "3.9.15"
  }
 },
 "nbformat": 4,
 "nbformat_minor": 5
}
