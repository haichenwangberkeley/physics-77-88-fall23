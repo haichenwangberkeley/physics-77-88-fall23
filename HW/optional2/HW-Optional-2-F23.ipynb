{
 "cells": [
  {
   "cell_type": "markdown",
   "id": "830ae170",
   "metadata": {},
   "source": [
    "# Homework Optional 2\n",
    "\n",
    "**due by 8:59 pm, December 14, 2023**\n",
    "\n",
    "# Calculate the orbit of a satellite \n",
    "\n",
    "Newton's Law of Gravity, also known as the Universal Law of Gravitation, states that every point mass attracts every other point mass in the universe with a force that is directly proportional to the product of their masses and inversely proportional to the square of the distance between their centers. The formula for this gravitational force ($ F $) is given by:\n",
    "\n",
    "$$ F = - G \\frac{M m}{r^2} $$\n",
    "\n",
    "where:\n",
    "- $ F $ is the magnitude of the gravitational force between the two masses,\n",
    "- $ G $ is the gravitational constant, approximately equal to $ 6.674 \\times 10^{-11} \\, \\text{Nm}^2/\\text{kg}^2 $,\n",
    "- $ M $ and $ m $ are the masses of the two objects,\n",
    "- $ r $ is the distance between the centers of the two masses.\n",
    "- The negative sign `-` indicates that the force is attractive\n",
    "This law not only explains the force between objects like planets and stars but also provides the basis for understanding orbits and the motion of celestial bodies in the universe.\n",
    "\n",
    "\n",
    "In this problem we simplified the math by assuming the following:\n",
    "\n",
    "- $M$ = 1000\n",
    "- $m$ = 1\n",
    "- $G$ = 1\n",
    "\n",
    "At $t$ = 0, the positions of object $M$ and $m$ in $(x,y)$ are (0,0) and (100,0). Their velocities are (0,0), and (0,$v_0$), where the two components are corresponding to the velocity projection in $x$ and $y$ directions. One can assume that the object $M$ stays static because its mass is so much larger than that of object $m$.  \n",
    "\n",
    "\n",
    "We have the following ODEs that determine the orbit of the object $m$:\n",
    "\n",
    "**Motion in the $x$ direction**\n",
    "\n",
    "$$ \\frac{dx}{dt}(t) = F_x dt + \\frac{dx}{dt}(t-dt)$$\n",
    "$$ x(t) = \\frac{dx}{dt}\\cdot dt + x(t-dt)$$\n",
    "\n",
    "**Motion in the $y$ direction**\n",
    "\n",
    "$$ \\frac{dy}{dt}(t) = F_y dt + \\frac{dy}{dt}(t-dt)$$\n",
    "$$ y(t) = \\frac{dy}{dt}\\cdot dt + y(t-dt)$$\n",
    "\n",
    "here we decompose the motion of $m$ into its motion in the $x$ and $y$ directions and treat them separately.\n",
    "\n",
    "**The gravitational force can be decomposed into its x and y projections:**\n",
    "$$ F = - \\frac{1000}{r^2}$$\n",
    "\n",
    "$$F_x = F\\cdot \\frac{(x_m - x_M)}{r}$$\n",
    "\n",
    "$$F_y = F\\cdot \\frac{(y_m - y_M)}{r}$$\n",
    "\n",
    "$$ r = \\sqrt{(x_m - x_M)^2 + (y_m - y_M)^2}$$\n",
    "\n",
    "Note that the signed expressions of $F_x$ and $F_y$ indicate that the direction of the force would flip depending on the relative positions between $m$ and $M$\n"
   ]
  },
  {
   "cell_type": "markdown",
   "id": "07fb60af",
   "metadata": {},
   "source": [
    "## Task 1\n",
    "Let's first write a python function that takes the positions of $m$ and $M$ as inputs and return the gravitationl force's $x$ and $y$ projections, $F_x$ and $F_y$. Note that $M$ = 1000, $m$ = 1, and $G$ = 1. Be careful with the direction of the force. If your implementation is correct, then the initial force would be [-0.1 -0. ]\n"
   ]
  },
  {
   "cell_type": "code",
   "execution_count": null,
   "id": "58c9335c",
   "metadata": {},
   "outputs": [],
   "source": [
    "import numpy as np\n",
    "\n",
    "posM = np.array([0,0])\n",
    "posm = np.array([100,0])\n",
    "def Gforce(posM, posm):\n",
    "\n",
    "    ## Complete the code here\n",
    "    \n",
    "    return np.array([Fx,Fy])\n",
    "\n",
    "# 30 pts"
   ]
  },
  {
   "cell_type": "code",
   "execution_count": null,
   "id": "ad244245",
   "metadata": {},
   "outputs": [],
   "source": [
    "print(Gforce(posM,posm))"
   ]
  },
  {
   "cell_type": "markdown",
   "id": "0d0473c4",
   "metadata": {},
   "source": [
    "## Task 2\n",
    "The initial velocity of $m$ as (0,2.0), meaning that $v_x$ = 0 and $v_y$ = 2.1. Let's write the script to derive  $x(t), y(t), v_x(t), v_y(t)$ at $t = t_0 + dt$ from their initital values at $t_0 = 0$. Here we use $dt = 0.1$"
   ]
  },
  {
   "cell_type": "code",
   "execution_count": null,
   "id": "871d6fdc",
   "metadata": {},
   "outputs": [],
   "source": [
    "# Your code \n",
    "# Also print out vx, vy, x, y at t = 0 + dt\n",
    "# 20 pts"
   ]
  },
  {
   "cell_type": "markdown",
   "id": "afa133d5",
   "metadata": {},
   "source": [
    "## Task 3\n",
    "\n",
    "Now, let's write a script to iteratively determine the (x,y) position of the object $m$ from $t= 0 $ to $t = 200$. In each iteration, let's record the ($x$, $y$), $v_x$, $v_y$, and $v = \\sqrt{v_x^2 + v_y^2}$, and plot them as a function of $t$. For the position $(x,y)$, just make a scatter plot of these recorded positions to visualize the tracjectory. Make sure you reset the initial conditions from Task 2. The initial velocity of $m$ is (0,2.0)"
   ]
  },
  {
   "cell_type": "code",
   "execution_count": null,
   "id": "5a17b295",
   "metadata": {},
   "outputs": [],
   "source": [
    "# Your code\n",
    "\n",
    "# 40 pts\n"
   ]
  },
  {
   "cell_type": "markdown",
   "id": "03304c84",
   "metadata": {},
   "source": [
    "## Task 4\n",
    "\n",
    "Now, try Task 3 with two different initial conditions\n",
    "\n",
    "$$ v = (0, 20)$$\n",
    "\n",
    "and \n",
    "\n",
    "$$ v = (0,0.1)$$\n",
    "\n",
    "Do not overwrite your code cell for Task 3, otherwise, you would not receive points for Task 3. Create new code cells to do these tests.\n",
    "\n",
    "\n",
    "**Explain your observation**"
   ]
  },
  {
   "cell_type": "markdown",
   "id": "9d7b21b2",
   "metadata": {},
   "source": [
    "### Your observation and why?\n",
    "\n",
    "10 pts\n",
    "\n"
   ]
  }
 ],
 "metadata": {
  "kernelspec": {
   "display_name": "Python 3 (ipykernel)",
   "language": "python",
   "name": "python3"
  },
  "language_info": {
   "codemirror_mode": {
    "name": "ipython",
    "version": 3
   },
   "file_extension": ".py",
   "mimetype": "text/x-python",
   "name": "python",
   "nbconvert_exporter": "python",
   "pygments_lexer": "ipython3",
   "version": "3.9.15"
  }
 },
 "nbformat": 4,
 "nbformat_minor": 5
}
