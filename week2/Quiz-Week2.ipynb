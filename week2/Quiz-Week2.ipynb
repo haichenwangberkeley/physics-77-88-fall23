{
 "cells": [
  {
   "cell_type": "markdown",
   "id": "ca17ce0d",
   "metadata": {},
   "source": [
    "# Week 2 Quiz (August 30, 2023)\n",
    "\n",
    "**Upload the PDF printout of this notebook to bcourse before the end of the lecture. The submission is used as the attendance check.**\n",
    "\n",
    "Note that quizzes are graded based on submission. \n"
   ]
  },
  {
   "cell_type": "markdown",
   "id": "e07df6db",
   "metadata": {},
   "source": [
    "Write a python function that implements this formula and then calculate the value of Poisson(10,10)\n",
    "\n",
    "<span style=\"font-size:2em\">$Poisson(k,\\mu) = \\frac{e^{-\\mu}\\mu^k}{k!}$</span>"
   ]
  },
  {
   "cell_type": "code",
   "execution_count": null,
   "id": "c62d2dda",
   "metadata": {},
   "outputs": [],
   "source": [
    "# Do you want to import numpy? how?\n",
    "\n",
    "# definition: \n",
    "# give it a name, e.g., poisson, and don't forget the colon at the end of the line\n",
    "# what are the input arguments/variables here? k and mu right?\n",
    "def \n",
    "\n",
    "# body of the function\n",
    "# don't forget indentation!\n",
    "\n",
    "# some hints\n",
    "    # factorial of k should be np.factorial(k) if you imported numpy\n",
    "    # e to the power of negative mu could be achieved with np.exp()\n",
    "    \n",
    "    #make sure you have a returning value\n"
   ]
  },
  {
   "cell_type": "code",
   "execution_count": null,
   "id": "f3672ff3",
   "metadata": {},
   "outputs": [],
   "source": [
    "# once you have defined the function, execute this cell\n",
    "\n",
    "poisson(10,10)\n",
    "# here I assume your function is called Poisson"
   ]
  }
 ],
 "metadata": {
  "kernelspec": {
   "display_name": "Python 3 (ipykernel)",
   "language": "python",
   "name": "python3"
  },
  "language_info": {
   "codemirror_mode": {
    "name": "ipython",
    "version": 3
   },
   "file_extension": ".py",
   "mimetype": "text/x-python",
   "name": "python",
   "nbconvert_exporter": "python",
   "pygments_lexer": "ipython3",
   "version": "3.9.15"
  }
 },
 "nbformat": 4,
 "nbformat_minor": 5
}
