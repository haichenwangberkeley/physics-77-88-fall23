{
 "cells": [
  {
   "cell_type": "markdown",
   "id": "baf2e7ec",
   "metadata": {},
   "source": [
    "# Lecture 2, August 30, 2023\n",
    "\n",
    "- Start with an example of projectile motion, how we determine the launch speed as a function of launch angle\n",
    "    * dissect the python implementation of the calculation\n",
    "- Python basics\n",
    "    * Arthmetics\n",
    "    * Variables and Data Types\n",
    "    * Functions \n",
    "    * Modules\n",
    "    * Quiz\n",
    "\n",
    "\n",
    "# Example: projectile motion\n",
    "<span style=\"font-size:2em\">Let's consider the projectile motion.</span>\n",
    "\n",
    "<span style=\"font-size:2em\">- We are at Mulford Hall, we want to throw a baseball at the Campanile. We are 592 meters away from our target.</span>\n",
    "\n",
    "<span style=\"font-size:2em\">- Let's assume the elevations here and at the base of Campanile are the same.</span>\n",
    "\n",
    "<span style=\"font-size:2em\">- There are two degrees of freedom: the launch angle  $\\theta$, and the speed $ v$.</span>\n",
    "\n",
    "<span style=\"font-size:2em\">- The time of flight is $ t = 2\\frac{v \\cos\\theta}{g} $.</span>\n",
    "\n",
    "<span style=\"font-size:2em\">The horizontal distance traveled is $R = v sin\\theta t$</span>\n",
    "\n",
    "<span style=\"font-size:2em\">$ v = \\sqrt{\\frac{R \\cdot g}{{\\cos(\\theta) \\cdot \\sin(\\theta) \\cdot 2}}} $</span>\n",
    "\n",
    "<span style=\"font-size:2em; color:red\">If the launch angle is 45 degrees, then what is the initial speed needed in order to hit our target?</span>\n"
   ]
  },
  {
   "cell_type": "code",
   "execution_count": null,
   "id": "15c726e2",
   "metadata": {},
   "outputs": [],
   "source": [
    "import math # Import modules \n",
    "\n",
    "target_distance = 592 # distance between campanile and mulford. A variable with assigned value\n",
    "\n",
    "launch_angle = 45 # launch angle set by user. A variable assigned with a value\n",
    "\n",
    "# A function that calculates the speed needed for a given set of values of the target distance and launch angle \n",
    "def speed( R, theta ): # the function has input arguments\n",
    "    g = 9.81 # the acceleration; \n",
    "    theta_rad = math.radians(theta) # converting the angle from degrees to radians \n",
    "    v = math.sqrt( R*g / (math.cos(theta_rad) * math.sin(theta_rad) *2)) # calculate the speed\n",
    "    return v # return the calculated value\n",
    "\n",
    "speed_value = speed(target_distance, launch_angle) # this is referred to as call of the function\n",
    "# the returned value of the function speed is *assigned* to the variable speed_value\n",
    "\n",
    "# Print the result to the screen\n",
    "print('''To hit the target at %4.0f meters away, \n",
    "with a launch angle of %4.1f degrees, \n",
    "the initial speed needs to be %4.2f m/s ''' % (target_distance, launch_angle, speed_value))\n",
    "\n"
   ]
  },
  {
   "cell_type": "markdown",
   "id": "4ffc4200",
   "metadata": {},
   "source": [
    "## Dissecting the example: key elements from the example (not necessarily in the order of appearance)\n",
    "\n",
    "- variables\n",
    "    * Variables in Python are symbolic names that represent values in computer memory. They act as containers, allowing programmers to store and manipulate data. By assigning a value to a variable, you give it a meaningful name, making it easier to refer to and work with that data throughout your program.\n",
    "\n",
    "- operation\n",
    "    * Operations in programming refer to actions or calculations performed on data. Think of them as the tasks or manipulations you want your program to carry out. For instance, adding two numbers together, comparing values, or changing the format of text are all examples of operations. Programming languages provide various types of operations, like mathematical, logical, and string operations, to process and transform data within a program.\n",
    "\n",
    "- assigments\n",
    "    * Assignments in Python involve associating a variable name with a value or an expression. It's the process of binding a name to an object in memory. This enables programmers to store, update, and manipulate data effectively. Assignments establish a relationship between a variable name and the data it represents, providing a way to access and manipulate data throughout the program's execution.\n",
    "\n",
    "- functions\n",
    "    * Functions in Python are reusable blocks of code designed to perform specific tasks. They encapsulate a sequence of instructions, allowing programmers to execute the same set of actions multiple times without rewriting the code. Functions can accept input (arguments), process it, and often return an output, providing modularity and reusability to programs.\n",
    "\n",
    "- modules \n",
    "    * Modules in programming are like toolkits that contain sets of pre-built code and functionalities. They help organize code by grouping related functions, classes, and variables together. Modules can be imported into your program, allowing you to reuse code without rewriting it. Think of modules as libraries of code that extend the capabilities of your program. They often serve specialized purposes, such as handling math operations (like the math module) or file operations (like the os module).\n"
   ]
  },
  {
   "cell_type": "markdown",
   "id": "0164e704",
   "metadata": {},
   "source": [
    "## Python basics (Outline)"
   ]
  },
  {
   "cell_type": "markdown",
   "id": "55f3096a",
   "metadata": {},
   "source": [
    "- Arithmetic\n",
    "- Variables and data type\n",
    "    * Numpy array\n",
    "- Functions\n",
    "- Modules\n",
    "- Quiz"
   ]
  },
  {
   "cell_type": "markdown",
   "id": "b4c1588f",
   "metadata": {},
   "source": [
    "# Arithmetic"
   ]
  },
  {
   "cell_type": "code",
   "execution_count": null,
   "id": "ce1e06ab",
   "metadata": {},
   "outputs": [],
   "source": [
    "2+2 # addition"
   ]
  },
  {
   "cell_type": "code",
   "execution_count": null,
   "id": "0a3d788d",
   "metadata": {},
   "outputs": [],
   "source": [
    "2-2 # subtraction"
   ]
  },
  {
   "cell_type": "code",
   "execution_count": null,
   "id": "d33b1b64",
   "metadata": {},
   "outputs": [],
   "source": [
    "2*2 # multiplication"
   ]
  },
  {
   "cell_type": "code",
   "execution_count": null,
   "id": "96816ffb",
   "metadata": {},
   "outputs": [],
   "source": [
    "2/3 # division"
   ]
  },
  {
   "cell_type": "code",
   "execution_count": null,
   "id": "534f813b",
   "metadata": {},
   "outputs": [],
   "source": [
    "2%3  # modulus"
   ]
  },
  {
   "cell_type": "code",
   "execution_count": null,
   "id": "e8130d38",
   "metadata": {},
   "outputs": [],
   "source": [
    "(7)//2  # floor division"
   ]
  },
  {
   "cell_type": "code",
   "execution_count": null,
   "id": "938ab4e8",
   "metadata": {},
   "outputs": [],
   "source": [
    "10**2 # exponent"
   ]
  },
  {
   "cell_type": "code",
   "execution_count": null,
   "id": "f8d5b252",
   "metadata": {},
   "outputs": [],
   "source": [
    "10*2 # multiplication"
   ]
  },
  {
   "cell_type": "markdown",
   "id": "af855b9e",
   "metadata": {},
   "source": [
    "### Mathematical functions \n",
    "These functions can be found in modules such as math and numpy\n",
    "\n",
    "**math** https://docs.python.org/3/library/math.html\n",
    "\n",
    "**numpy** https://numpy.org/doc/stable/reference/routines.math.html\n"
   ]
  },
  {
   "cell_type": "code",
   "execution_count": null,
   "id": "bdd33a42",
   "metadata": {},
   "outputs": [],
   "source": [
    "import math\n",
    "math.cos(3.14/4) # cos(pi/4)"
   ]
  },
  {
   "cell_type": "code",
   "execution_count": null,
   "id": "c21b89fb",
   "metadata": {},
   "outputs": [],
   "source": [
    "# How about numpy?\n",
    "\n",
    "import numpy as np\n",
    "\n",
    "np.cos(3.14/4)"
   ]
  },
  {
   "cell_type": "code",
   "execution_count": null,
   "id": "532f97ce",
   "metadata": {},
   "outputs": [],
   "source": [
    "print( math.sqrt(81), np.sqrt(81))  # square root"
   ]
  },
  {
   "cell_type": "code",
   "execution_count": null,
   "id": "3e4e4493",
   "metadata": {},
   "outputs": [],
   "source": [
    "print( math.log(81), np.log(81))  # logarithm"
   ]
  },
  {
   "cell_type": "code",
   "execution_count": null,
   "id": "e2893d9e",
   "metadata": {},
   "outputs": [],
   "source": [
    "print( math.exp(-10), np.exp(-10)) # exponential"
   ]
  },
  {
   "cell_type": "code",
   "execution_count": null,
   "id": "a837c4a6",
   "metadata": {},
   "outputs": [],
   "source": [
    "print(math.factorial(5), np.factorial(5))"
   ]
  },
  {
   "cell_type": "code",
   "execution_count": null,
   "id": "47de879a",
   "metadata": {},
   "outputs": [],
   "source": [
    "import numpy as np\n",
    "from scipy.special import factorial\n",
    "\n",
    "n = 5\n",
    "result = factorial(n)\n",
    "\n",
    "print(result)\n"
   ]
  },
  {
   "cell_type": "code",
   "execution_count": null,
   "id": "4c632398",
   "metadata": {},
   "outputs": [],
   "source": [
    "print( math.degrees(3.14), np.rad2deg(3.14)) # convert radian to degree"
   ]
  },
  {
   "cell_type": "code",
   "execution_count": null,
   "id": "50acf90a",
   "metadata": {},
   "outputs": [],
   "source": [
    "print( math.radians(90), np.deg2rad(90)) # convert radian to degree"
   ]
  },
  {
   "cell_type": "code",
   "execution_count": null,
   "id": "9037420e",
   "metadata": {},
   "outputs": [],
   "source": [
    "# what happens if you take the sqrt of a negative number?\n",
    "print(math.sqrt(-9))"
   ]
  },
  {
   "cell_type": "code",
   "execution_count": null,
   "id": "1abca00e",
   "metadata": {},
   "outputs": [],
   "source": [
    "# what happens if you take the sqrt of a negative number?\n",
    "print(np.sqrt(-9))"
   ]
  },
  {
   "cell_type": "code",
   "execution_count": null,
   "id": "dd5dfbeb",
   "metadata": {},
   "outputs": [],
   "source": [
    "import cmath\n",
    "print(cmath.sqrt(-9))"
   ]
  },
  {
   "cell_type": "markdown",
   "id": "f973e944",
   "metadata": {},
   "source": [
    "**cmath** module provides access to mathematical functions for complex numbers.\n",
    "https://docs.python.org/3/library/cmath.html"
   ]
  },
  {
   "cell_type": "markdown",
   "id": "7ab7d3fe",
   "metadata": {},
   "source": [
    "**We won't have time to go through all these functions under math and numpy modules. You should screen those linked pages to develop a sense what is available. In practice, when some function is needed, do a quick google search to see if there are already available. Overtime, you will just memorize many of them through practice.**"
   ]
  },
  {
   "cell_type": "markdown",
   "id": "f4c2d258",
   "metadata": {},
   "source": [
    "### Association rules\n"
   ]
  },
  {
   "cell_type": "code",
   "execution_count": null,
   "id": "1bd07d47",
   "metadata": {},
   "outputs": [],
   "source": [
    "(2+2)*4"
   ]
  },
  {
   "cell_type": "code",
   "execution_count": null,
   "id": "eb2be29f",
   "metadata": {},
   "outputs": [],
   "source": [
    "2+2*4"
   ]
  },
  {
   "cell_type": "code",
   "execution_count": null,
   "id": "27f28b7b",
   "metadata": {},
   "outputs": [],
   "source": [
    "2+2/4"
   ]
  },
  {
   "cell_type": "code",
   "execution_count": null,
   "id": "b0ff658f",
   "metadata": {},
   "outputs": [],
   "source": [
    "2+4/2*2"
   ]
  },
  {
   "cell_type": "code",
   "execution_count": null,
   "id": "55b527a8",
   "metadata": {},
   "outputs": [],
   "source": [
    "2+4/(2*2)"
   ]
  },
  {
   "cell_type": "code",
   "execution_count": null,
   "id": "07f545bf",
   "metadata": {},
   "outputs": [],
   "source": [
    "np.log(1)+1"
   ]
  },
  {
   "cell_type": "markdown",
   "id": "7d044d3c",
   "metadata": {},
   "source": [
    "**Summary:** \n",
    "- multiplication/division takes precedence over addition/subtraction \n",
    "- operations inside a set parenthesis takes precedence over operations outside it"
   ]
  },
  {
   "cell_type": "markdown",
   "id": "4ca247f5",
   "metadata": {},
   "source": [
    "# Variables and assignment\n",
    "- concept of assignment\n",
    "- shorthands\n",
    "- types of data/variables in python\n",
    "\n",
    "\n",
    "## Example - calculate the value of a polynomial\n",
    "we have a polynomial \n",
    "$ y = ax^3 + bx^2 + cx + d$\n",
    "\n",
    "- for a given set of coefficients (a,b,c,d), we want to know the value of the polynomial at x "
   ]
  },
  {
   "cell_type": "code",
   "execution_count": null,
   "id": "873d8f41",
   "metadata": {},
   "outputs": [],
   "source": [
    "a = 10\n",
    "b = 5\n",
    "c = -2\n",
    "d = 4\n",
    "\n",
    "x = 3.0\n",
    "\n",
    "y = a*x**3 + b*x**2 + c*x + d\n",
    "\n",
    "print('Value of y : %4.2f' % y)\n",
    "\n",
    "\n",
    "# Vary these values and see how the printout change\n",
    "# Changes for variable assigned values (first five lines) are propogated to the calculated value of y\n"
   ]
  },
  {
   "cell_type": "code",
   "execution_count": null,
   "id": "29f6d469",
   "metadata": {},
   "outputs": [],
   "source": [
    "a = 10\n",
    "b = 5\n",
    "c = -2\n",
    "d = 4\n",
    "\n",
    "x = 3.0\n",
    "\n",
    "y = a*x**3 + b*x**2 + c*x + d\n",
    "\n",
    "d = 10\n",
    "\n",
    "print('Value of y : %4.2f' % y)\n",
    "\n",
    "\n",
    "# the line d = 10 doesn't affect the value of y, \n",
    "# because the value of 10 was assigned to d after the value of d was already used in the calculation of y\n"
   ]
  },
  {
   "cell_type": "markdown",
   "id": "b7e2d759",
   "metadata": {},
   "source": [
    "## shorthands"
   ]
  },
  {
   "cell_type": "code",
   "execution_count": null,
   "id": "4249cb08",
   "metadata": {},
   "outputs": [],
   "source": [
    "a = 10 \n",
    "a = a + 10\n",
    "print('Value of a: %4.0f ' % a)"
   ]
  },
  {
   "cell_type": "code",
   "execution_count": null,
   "id": "2c4f6317",
   "metadata": {},
   "outputs": [],
   "source": [
    "a = 10 \n",
    "a += 10\n",
    "print('Value of a: %4.0f ' % a)"
   ]
  },
  {
   "cell_type": "code",
   "execution_count": null,
   "id": "4a01b0a1",
   "metadata": {},
   "outputs": [],
   "source": [
    "a = 10 \n",
    "a = a - 10\n",
    "print('Value of a: %4.0f ' % a)"
   ]
  },
  {
   "cell_type": "code",
   "execution_count": null,
   "id": "d2448c4b",
   "metadata": {},
   "outputs": [],
   "source": [
    "a = 10 \n",
    "a -= 10\n",
    "print('Value of a: %4.0f ' % a)"
   ]
  },
  {
   "cell_type": "code",
   "execution_count": null,
   "id": "d0edc664",
   "metadata": {},
   "outputs": [],
   "source": [
    "# Guess what does *= do?\n",
    "\n",
    "a = 10 \n",
    "a *= 10\n",
    "print('Value of a: %4.0f ' % a)"
   ]
  },
  {
   "cell_type": "code",
   "execution_count": null,
   "id": "46fa822e",
   "metadata": {},
   "outputs": [],
   "source": [
    "# How about /=\n",
    "a = 10 \n",
    "a /= 10\n",
    "print('Value of a: %4.0f ' % a)"
   ]
  },
  {
   "cell_type": "markdown",
   "id": "1dd90ef1",
   "metadata": {},
   "source": [
    "## Types of variables (data)\n",
    "\n",
    "so far, our examples only include variables assigned with numerical values. But they don't have to always be assigned a numerical value. "
   ]
  },
  {
   "cell_type": "code",
   "execution_count": null,
   "id": "eb1e05ef",
   "metadata": {},
   "outputs": [],
   "source": [
    "x = 1\n",
    "print(x, type(x))"
   ]
  },
  {
   "cell_type": "code",
   "execution_count": null,
   "id": "99ddc0c2",
   "metadata": {},
   "outputs": [],
   "source": [
    "x = 1.0 \n",
    "print(x, type(x))"
   ]
  },
  {
   "cell_type": "code",
   "execution_count": null,
   "id": "ee8051e6",
   "metadata": {},
   "outputs": [],
   "source": [
    "x = '1.0000'\n",
    "print(x, type(x))"
   ]
  },
  {
   "cell_type": "code",
   "execution_count": null,
   "id": "de7450f5",
   "metadata": {},
   "outputs": [],
   "source": [
    "x = 'This is an example'\n",
    "print(x, type(x))"
   ]
  },
  {
   "cell_type": "code",
   "execution_count": null,
   "id": "c1c4a8dc",
   "metadata": {},
   "outputs": [],
   "source": [
    "x = True\n",
    "print(x, type(x))"
   ]
  },
  {
   "cell_type": "code",
   "execution_count": null,
   "id": "cc4171e3",
   "metadata": {},
   "outputs": [],
   "source": [
    "x = False\n",
    "print(x, type(x))"
   ]
  },
  {
   "cell_type": "code",
   "execution_count": null,
   "id": "567cea94",
   "metadata": {},
   "outputs": [],
   "source": [
    "x = [1, 2, 3, 4]\n",
    "print(x, type(x))"
   ]
  },
  {
   "cell_type": "code",
   "execution_count": null,
   "id": "5f99b576",
   "metadata": {},
   "outputs": [],
   "source": [
    "x = [\"Berkeley\", \"Stanford\", \"Princeton\", \"Harvard\"]\n",
    "print(x, type(x))"
   ]
  },
  {
   "cell_type": "code",
   "execution_count": null,
   "id": "2c059029",
   "metadata": {},
   "outputs": [],
   "source": [
    "print(x[2], type(x[2]))"
   ]
  },
  {
   "cell_type": "code",
   "execution_count": null,
   "id": "79e0b25b",
   "metadata": {},
   "outputs": [],
   "source": [
    "print(x[2][0], type(x[2][0]))"
   ]
  },
  {
   "cell_type": "markdown",
   "id": "42b28e0f",
   "metadata": {},
   "source": [
    "**footnote: indexing** In Python, indexing refers to the process of accessing individual elements within a data structure, such as lists, tuples, and strings. Each element in these data structures has a unique index that specifies its position. Indexing is zero-based in Python, which means the first element is at index 0, the second at index 1, and so on."
   ]
  },
  {
   "cell_type": "code",
   "execution_count": null,
   "id": "b86867b6",
   "metadata": {},
   "outputs": [],
   "source": [
    "x = (1, 2, 3, 4)\n",
    "print(x, type(x))"
   ]
  },
  {
   "cell_type": "code",
   "execution_count": null,
   "id": "33a18c6f",
   "metadata": {},
   "outputs": [],
   "source": [
    "x = {1, 2, 3, 4}\n",
    "print(x, type(x))"
   ]
  },
  {
   "cell_type": "code",
   "execution_count": null,
   "id": "36de5265",
   "metadata": {},
   "outputs": [],
   "source": [
    "x = {1:\"Green\", 2:\"Red\", 3:\"Blue\"}\n",
    "print(x, type(x))"
   ]
  },
  {
   "cell_type": "code",
   "execution_count": null,
   "id": "9aee95c6",
   "metadata": {},
   "outputs": [],
   "source": [
    "print(x[1], type(x[1]))"
   ]
  },
  {
   "cell_type": "markdown",
   "id": "ccd441ff",
   "metadata": {},
   "source": [
    "**Notes on data types**\n",
    "In Python, there are several common types of variables that you'll frequently encounter. Here are some of the most common ones:\n",
    "\n",
    "- Integer (int): Represents whole numbers, both positive and negative. For example: age = 25.\n",
    "\n",
    "- Floating-Point (float): Represents decimal numbers. For example: pi = 3.14.\n",
    "\n",
    "- String (str): Represents sequences of characters enclosed in single or double quotes. For example: name = \"Alice\".\n",
    "\n",
    "- Boolean (bool): Represents either True or False values. Used for logical operations and comparisons. For example: is_student = True.\n",
    "\n",
    "- List: Represents an ordered collection of items, which can be of different types. For example: grades = [85, 92, 78].\n",
    "\n",
    "- Tuple: Similar to lists, but they are immutable (cannot be changed after creation). For example: coordinates = (3, 4).\n",
    "\n",
    "- Dictionary: Represents key-value pairs, where each value is associated with a unique key. For example: student = {\"name\": \"Bob\", \"age\": 20}.\n",
    "\n",
    "- Set: Represents an unordered collection of unique items. For example: colors = {\"red\", \"blue\", \"green\"}.\n",
    "\n",
    "- None: Represents the absence of a value or a null value. It's often used to indicate that a variable doesn't have a value yet. For example: result = None.\n",
    "\n",
    "These variable types are the building blocks of Python programs and allow you to work with various types of data in different ways."
   ]
  },
  {
   "cell_type": "markdown",
   "id": "0df6a2bf",
   "metadata": {},
   "source": [
    "## Numpy arrays\n",
    "Numpy arrays will be the most used data structure throughout this course and in your future Python projects.\n",
    "We will have more detailed introduction to it later. Here I am giving your some teasers. \n"
   ]
  },
  {
   "cell_type": "code",
   "execution_count": null,
   "id": "97ddfe60",
   "metadata": {},
   "outputs": [],
   "source": [
    "import numpy as np # import the numpy module as np\n",
    "#np is an alias for numpy module here\n",
    "# you can name it anything you want, but we always go with \n",
    "#the most common one so that every one reading your code could understand it "
   ]
  },
  {
   "cell_type": "code",
   "execution_count": null,
   "id": "1446b680",
   "metadata": {},
   "outputs": [],
   "source": [
    "x = np.array([1])\n",
    "print(x, type(x))"
   ]
  },
  {
   "cell_type": "code",
   "execution_count": null,
   "id": "5938b537",
   "metadata": {},
   "outputs": [],
   "source": [
    "x = np.array([1,2,3])\n",
    "print(x, type(x))"
   ]
  },
  {
   "cell_type": "code",
   "execution_count": null,
   "id": "ee8dad85",
   "metadata": {},
   "outputs": [],
   "source": [
    "print(x[2], type(x[2]))"
   ]
  },
  {
   "cell_type": "code",
   "execution_count": null,
   "id": "9921169e",
   "metadata": {},
   "outputs": [],
   "source": [
    "x = np.array([[1,2,3],[2,90,14312]])\n",
    "print(x, type(x))\n",
    "print(x.ndim, x.shape, x.size)"
   ]
  },
  {
   "cell_type": "code",
   "execution_count": null,
   "id": "814e2ca8",
   "metadata": {},
   "outputs": [],
   "source": [
    "print(x[1,2])"
   ]
  },
  {
   "cell_type": "code",
   "execution_count": null,
   "id": "9c970dcb",
   "metadata": {},
   "outputs": [],
   "source": [
    "x = np.array([[1,2,3],[2,90,14312]])\n",
    "y = np.array([[1,1,10],[1, 1, 1]])\n",
    "z = x + y \n",
    "print(z)\n",
    "# Numpy operation is element-wise, meaning that the operator \n",
    "# acts on the elements from the two arrays that have the same position"
   ]
  },
  {
   "cell_type": "code",
   "execution_count": null,
   "id": "c303f803",
   "metadata": {},
   "outputs": [],
   "source": [
    "# taking advantage of the built-in functions in numpy arrray\n",
    "print( np.cos(x)+np.sqrt(y) )"
   ]
  },
  {
   "cell_type": "markdown",
   "id": "5ea7f841",
   "metadata": {},
   "source": [
    "# Functions"
   ]
  },
  {
   "cell_type": "code",
   "execution_count": null,
   "id": "39aba3c4",
   "metadata": {},
   "outputs": [],
   "source": [
    "# A function that calculates the speed needed for a given set of values of the target distance and launch angle \n",
    "def speed( R, theta ): # the function has input arguments\n",
    "    g = 9.81 # the acceleration; \n",
    "    theta_rad = math.radians(theta) # converting the angle from degrees to radians \n",
    "    v = math.sqrt( R*g / (math.cos(theta_rad) * math.sin(theta_rad) *2)) # calculate the speed\n",
    "    return v # return the calculated value"
   ]
  },
  {
   "cell_type": "markdown",
   "id": "8ab204b2",
   "metadata": {},
   "source": [
    "### What are the essential elements of a function?\n",
    "\n",
    "- Function Definition: **def speed(R, theta):**\n",
    "    * The *def* keyword is used to define a function.\n",
    "    * *speed* is the name of the function.\n",
    "    * *(R, theta)* are the parameters (input values) the function accepts. They act as placeholders for values that will be passed when the function is called.\n",
    "\n",
    "- Function Body:\n",
    "    * The **indented code** block beneath the function definition is the function body. It contains the instructions executed when the function is called.\n",
    "\n",
    "- Variable Declarations:\n",
    "    * *g = 9.81*\n",
    "    * *theta_rad = math.radians(theta)*\n",
    "    * These lines declare and assign values to variables used within the function.\n",
    "    \n",
    "- Calculations: *v = math.sqrt(R * g / (math.cos(theta_rad) * math.sin(theta_rad) * 2))*\n",
    "    * This line calculates the speed using the provided formula.\n",
    "    * The variables R, g, and theta_rad are used in the calculation.\n",
    "    * Return Statement:\n",
    "\n",
    "- Returning keyword/argument\n",
    "    * The return keyword is used to send a value back to the caller of the function.\n",
    "    * In this case, the calculated speed v is returned."
   ]
  },
  {
   "cell_type": "code",
   "execution_count": null,
   "id": "126a7da4",
   "metadata": {},
   "outputs": [],
   "source": [
    "def polynomial(a,b,c,d,x):\n",
    "    return a*x**3 + b*x**2 + c*x + d \n",
    "# note that the calcuation is performed directly\n",
    "#at the line of returning argument"
   ]
  },
  {
   "cell_type": "code",
   "execution_count": null,
   "id": "97e8dd58",
   "metadata": {},
   "outputs": [],
   "source": [
    "print(polynomial(1, 2, 3, 4, 1.5))"
   ]
  },
  {
   "cell_type": "code",
   "execution_count": null,
   "id": "e09cbcbf",
   "metadata": {},
   "outputs": [],
   "source": [
    "c1, c2, c3, c4, c5 = 1, 2, 3, 4, 1.5 # assign values to multiple variables simultaneously\n",
    "print(polynomial(c1, c2, c3, c4, c5))"
   ]
  },
  {
   "cell_type": "markdown",
   "id": "1cef896c",
   "metadata": {},
   "source": [
    "**More than one returning arguments**"
   ]
  },
  {
   "cell_type": "code",
   "execution_count": null,
   "id": "bddba706",
   "metadata": {},
   "outputs": [],
   "source": [
    "def speed( R, theta ): # the function has input arguments\n",
    "    g = 9.81 # the acceleration; \n",
    "    theta_rad = math.radians(theta) # converting the angle from degrees to radians \n",
    "    v = math.sqrt( R*g / (math.cos(theta_rad) * math.sin(theta_rad) *2)) # calculate the speed\n",
    "    return v, v*math.cos(theta_rad) , v*math.sin(theta_rad)\n",
    "# Pay attention to the last line\n",
    "# I now have more than one returning arguments\n"
   ]
  },
  {
   "cell_type": "code",
   "execution_count": null,
   "id": "d42fac1f",
   "metadata": {},
   "outputs": [],
   "source": [
    "v, v_h, v_v = speed(592, 45)\n",
    "print(v, v_h, v_v)"
   ]
  },
  {
   "cell_type": "markdown",
   "id": "b1963317",
   "metadata": {},
   "source": [
    "**Using list to organize multiple variables**"
   ]
  },
  {
   "cell_type": "code",
   "execution_count": null,
   "id": "cac8afb2",
   "metadata": {},
   "outputs": [],
   "source": [
    "def speed( R, theta ): # the function has input arguments\n",
    "    g = 9.81 # the acceleration; \n",
    "    theta_rad = math.radians(theta) # converting the angle from degrees to radians \n",
    "    v = math.sqrt( R*g / (math.cos(theta_rad) * math.sin(theta_rad) *2)) # calculate the speed\n",
    "    return [v, v*math.cos(theta_rad) , v*math.sin(theta_rad)]\n",
    "# note that i now have a set of square brackets containing the three quantities\n",
    "# this makes the returning argument a list"
   ]
  },
  {
   "cell_type": "code",
   "execution_count": null,
   "id": "150485f4",
   "metadata": {},
   "outputs": [],
   "source": [
    "velocity = speed(592,45)\n",
    "print(velocity)"
   ]
  },
  {
   "cell_type": "code",
   "execution_count": null,
   "id": "fc439d25",
   "metadata": {},
   "outputs": [],
   "source": [
    "# I can of course use a list to organize multiple input arguments \n",
    "\n",
    "def speed( input_list ): # the function has input arguments\n",
    "    R = input_list[0]\n",
    "    theta = input_list[1]\n",
    "    g = 9.81 # the acceleration; \n",
    "    theta_rad = math.radians(theta) # converting the angle from degrees to radians \n",
    "    v = math.sqrt( R*g / (math.cos(theta_rad) * math.sin(theta_rad) *2)) # calculate the speed\n",
    "    return [v, v*math.cos(theta_rad) , v*math.sin(theta_rad)]\n",
    "# note that i now have a set of square brackets containing the three quantities\n",
    "# this makes the returning argument a list\n"
   ]
  },
  {
   "cell_type": "code",
   "execution_count": null,
   "id": "585580c8",
   "metadata": {},
   "outputs": [],
   "source": [
    "input_list = [592,45]\n",
    "velocity = speed(input_list)\n",
    "print(velocity)"
   ]
  },
  {
   "cell_type": "markdown",
   "id": "0dc143fc",
   "metadata": {},
   "source": [
    "#### Exercise for you"
   ]
  },
  {
   "cell_type": "code",
   "execution_count": null,
   "id": "79fd1ed6",
   "metadata": {},
   "outputs": [],
   "source": [
    "# Rewrite this function so that the input is a single list\n",
    "def polynomial(a,b,c,d,x):\n",
    "    return a*x**3 + b*x**2 + c*x + d \n",
    "\n",
    "input_list = [1,2,3,4,2.2]\n",
    "print( polynomial(input_list))"
   ]
  },
  {
   "cell_type": "markdown",
   "id": "fcad4df5",
   "metadata": {},
   "source": [
    "# Modules\n",
    "\n",
    "A module is a collection of functions that are built for you. You can *import* a module and *call* its function, so that you do not have to write it from the scratch.\n"
   ]
  },
  {
   "cell_type": "code",
   "execution_count": null,
   "id": "415a199a",
   "metadata": {},
   "outputs": [],
   "source": [
    "def squared_root_calculation(x):\n",
    "    return x**(0.5)\n",
    "\n",
    "print( squared_root_calculation(81))"
   ]
  },
  {
   "cell_type": "code",
   "execution_count": null,
   "id": "0dec4883",
   "metadata": {},
   "outputs": [],
   "source": [
    "import numpy as np\n",
    "\n",
    "print(np.sqrt(81))"
   ]
  },
  {
   "cell_type": "code",
   "execution_count": null,
   "id": "23eb23d7",
   "metadata": {},
   "outputs": [],
   "source": [
    "import numpy as np\n",
    "\n",
    "\n",
    "N = 1000\n",
    "\n",
    "# Generate an array of N random numbers between 0 and 1\n",
    "\n",
    "random_numbers = np.random.rand(N)\n",
    "\n",
    "print(random_numbers)\n"
   ]
  },
  {
   "cell_type": "code",
   "execution_count": null,
   "id": "b7326e3d",
   "metadata": {},
   "outputs": [],
   "source": [
    "import matplotlib.pyplot as plt\n",
    "# matplotlib is a module\n",
    "# pyplot is a submodule of matplotlib\n",
    "\n",
    "plt.hist(random_numbers)\n",
    "# use the alias of the submodule pyplot to call a function of that submodule\n",
    "# this function is \"hist\", plotting the data points as a histogram\n",
    "# the function has an input argument, which is random_numbers, in this case, a numpy array"
   ]
  },
  {
   "cell_type": "code",
   "execution_count": null,
   "id": "fb0fae1b",
   "metadata": {},
   "outputs": [],
   "source": [
    "plt.hist(random_numbers)\n",
    "plt.xlabel('random number')\n",
    "plt.ylabel('Number of entries')"
   ]
  },
  {
   "cell_type": "markdown",
   "id": "2eddd35d",
   "metadata": {},
   "source": [
    "## Some other modules"
   ]
  },
  {
   "cell_type": "code",
   "execution_count": null,
   "id": "284f35fe",
   "metadata": {},
   "outputs": [],
   "source": [
    "import sys\n",
    "# Get the Python version information\n",
    "print(\"Python version:\", sys.version)"
   ]
  },
  {
   "cell_type": "code",
   "execution_count": null,
   "id": "e69f13ef",
   "metadata": {},
   "outputs": [],
   "source": [
    "import time\n",
    "\n",
    "# Get the current time in seconds since the epoch (January 1, 1970)\n",
    "current_time = time.time()\n",
    "print(\"Current time:\", current_time)\n",
    "\n",
    "# Convert the current time to a struct_time object\n",
    "time_struct = time.localtime(current_time)\n",
    "\n",
    "# Format the time as a human-readable string\n",
    "human_readable_time = time.strftime(\"%Y-%m-%d %H:%M:%S\", time_struct)\n",
    "\n",
    "print(\"Current human-readable time:\", human_readable_time)\n",
    "\n",
    "\n",
    "# Sleep for 2 seconds\n",
    "print(\"Sleeping for 2 seconds...\")\n",
    "time.sleep(2)\n",
    "print(\"Awake now!\")\n",
    "\n",
    "# Measure the time taken to execute a code block\n",
    "start_time = time.time()\n",
    "# Code to be measured\n",
    "end_time = time.time()\n",
    "elapsed_time = end_time - start_time\n",
    "print(\"Elapsed time:\", elapsed_time, \"seconds\")\n"
   ]
  },
  {
   "cell_type": "code",
   "execution_count": null,
   "id": "2ab08dff",
   "metadata": {},
   "outputs": [],
   "source": [
    "import datetime\n",
    "\n",
    "# Get the current date and time\n",
    "current_datetime = datetime.datetime.now()\n",
    "\n",
    "# Format the datetime as a human-readable string\n",
    "human_readable_datetime = current_datetime.strftime(\"%Y-%m-%d %H:%M:%S\")\n",
    "\n",
    "print(\"Current human-readable datetime:\", human_readable_datetime)\n"
   ]
  },
  {
   "cell_type": "markdown",
   "id": "6e08619b",
   "metadata": {},
   "source": [
    "# a fun exercise"
   ]
  },
  {
   "cell_type": "code",
   "execution_count": null,
   "id": "ecaacb9b",
   "metadata": {},
   "outputs": [],
   "source": [
    "# First rewrite the speed function using numpy functions\n",
    "\n",
    "import numpy as np # Import modules \n",
    "\n",
    "def speed( R, theta ): # the function has input arguments\n",
    "    g = 9.81 # the acceleration; \n",
    "    theta_rad = np.deg2rad(theta) # converting the angle from degrees to radians \n",
    "    v = np.sqrt( R*g / (np.cos(theta_rad) * np.sin(theta_rad) *2)) # calculate the speed\n",
    "    return v # return the calculated value\n",
    "\n"
   ]
  },
  {
   "cell_type": "code",
   "execution_count": null,
   "id": "5df5554a",
   "metadata": {},
   "outputs": [],
   "source": [
    "# Now I consider the distance as a constant R = 592\n",
    "R = 592\n",
    "# I wanted to visualize how the launch speed depends on the launch angle\n",
    "\n",
    "# I am using a function of numpy module called linspace\n",
    "# it's generating a series of uniformly spaced values between 1 and 89\n",
    "# returns a numpy array that stores these values\n",
    "angle_values = np.linspace(1,89,89)\n",
    "print(angle_values)"
   ]
  },
  {
   "cell_type": "code",
   "execution_count": null,
   "id": "1d1a7090",
   "metadata": {},
   "outputs": [],
   "source": [
    "speed_values = speed(R, angle_values)\n",
    "# because all the operations in the speed function are now written using numpy functions\n",
    "# I can use numpy array as input argument"
   ]
  },
  {
   "cell_type": "code",
   "execution_count": null,
   "id": "96dadfc4",
   "metadata": {},
   "outputs": [],
   "source": [
    "print(speed_values)"
   ]
  },
  {
   "cell_type": "code",
   "execution_count": null,
   "id": "10377dc8",
   "metadata": {},
   "outputs": [],
   "source": [
    "#Let's plot it\n",
    "\n",
    "#import the right module\n",
    "\n",
    "import matplotlib.pyplot as plt\n",
    "\n",
    "plt.plot(angle_values, speed_values)\n",
    "\n",
    "plt.xlabel('speed [m/s]')\n",
    "plt.ylabel('degrees')"
   ]
  },
  {
   "cell_type": "code",
   "execution_count": null,
   "id": "c3d35df4",
   "metadata": {},
   "outputs": [],
   "source": [
    "plt.scatter(angle_values, speed_values)\n",
    "\n",
    "plt.xlabel('speed [m/s]')\n",
    "plt.ylabel('degrees')"
   ]
  },
  {
   "cell_type": "code",
   "execution_count": null,
   "id": "facf0fe8",
   "metadata": {},
   "outputs": [],
   "source": [
    "plt.plot(angle_values, speed_values,label='Lanuch speed vs angle')\n",
    "\n",
    "plt.xlabel('speed [m/s]')\n",
    "plt.ylabel('degrees')\n",
    "plt.legend()"
   ]
  },
  {
   "cell_type": "code",
   "execution_count": null,
   "id": "29dbcf3b",
   "metadata": {},
   "outputs": [],
   "source": [
    "speed_values_distance1000 = speed(1000, angle_values)"
   ]
  },
  {
   "cell_type": "code",
   "execution_count": null,
   "id": "2f0235e6",
   "metadata": {},
   "outputs": [],
   "source": [
    "plt.plot(angle_values, speed_values,label='Distance = 592 m')\n",
    "plt.plot(angle_values, speed_values_distance1000,label='Distance = 1000 m')\n",
    "\n",
    "plt.xlabel('speed [m/s]')\n",
    "plt.ylabel('degrees')\n",
    "plt.legend()"
   ]
  },
  {
   "cell_type": "code",
   "execution_count": null,
   "id": "2f91b6d6",
   "metadata": {},
   "outputs": [],
   "source": []
  }
 ],
 "metadata": {
  "kernelspec": {
   "display_name": "Python 3 (ipykernel)",
   "language": "python",
   "name": "python3"
  },
  "language_info": {
   "codemirror_mode": {
    "name": "ipython",
    "version": 3
   },
   "file_extension": ".py",
   "mimetype": "text/x-python",
   "name": "python",
   "nbconvert_exporter": "python",
   "pygments_lexer": "ipython3",
   "version": "3.9.15"
  }
 },
 "nbformat": 4,
 "nbformat_minor": 5
}
