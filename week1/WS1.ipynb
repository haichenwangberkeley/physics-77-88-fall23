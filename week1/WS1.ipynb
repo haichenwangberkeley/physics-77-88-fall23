{
 "cells": [
  {
   "cell_type": "markdown",
   "id": "765e68c0",
   "metadata": {},
   "source": [
    "# Workshop 1, August 25, 2023\n",
    "\n",
    "\n",
    "\n",
    "**<span style=\"color:red\"> Important submission information: upload both the ipynb and pdf versions to bcourse to receive credits. Your submission files should be renamed to your SID, e.g., if your SID is 12345678, then the files should be 12345678.pdf and 12345678.ipynb</span>**\n",
    "\n",
    "**Submission deadline is 8:59 pm, Tuesday, August 29, 2023**\n",
    "\n",
    "Congratulations for arriving at this page! This means you have successfully checked out the notebook from our bcourses site. This workshop has two parts\n",
    "\n",
    "- Jupyter Notebook basics\n",
    "    * The jupyter notebook hosted at datahub.berkeley.edu is the primary platform for all the works to be conducted for this course\n",
    "\n",
    "- Google Colaboratory basics\n",
    "    * The Google Colaboratory is used as a fallback solution in the case that datahub is unavailable\n",
    "    "
   ]
  },
  {
   "cell_type": "markdown",
   "id": "50707007",
   "metadata": {},
   "source": [
    "# Part 1\n",
    "## Exercise 1: Basic concepts\n",
    "\n",
    "Let's do a walk-through of the Jupter interface. \n",
    "\n",
    "### Menus and tool bar:\n",
    "    At the top of the page, there is a menu bar that includes a series of drop-down menus, e.g., File, Edit, View, etc.. Next is the tool bar, which allows you to do various operations such as saving the notebook, manipulating cells, executing cells, etc. Move your cursor over these icons and there will be a pop-up tooltip telling you what this icon is about. Famarlize yourself with the available drop-down menus and the icons in the toolbar. \n",
    "\n",
    "### Cells\n",
    "-    The mainbody of the notebook contains a series of \"cells\". In Jupyter Notebook, a cell is a discrete unit of content that can contain either code or text. It's the fundamental building block of a notebook, allowing you to create interactive and executable documents. \n",
    "-    There are two types of cells\n",
    "    *      Code Cells: These cells are used for writing and executing code. You can write Python code directly in these cells. When you run a code cell, the code within it is executed, and the output is displayed below the cell. Code cells enable you to interactively work with and experiment with code.\n",
    "    *      Markdown Cells: These cells use Markdown syntax to format and display text. Markdown is a lightweight markup language that allows you to create nicely formatted text with headings, lists, links, images, and more. Markdown cells are great for providing explanations, documenting your work, and making your notebook more reader-friendly. Try to double click this text and see what happens. Yes, you should now see the source code put in the markdown cell. Click the Run button in the tool bar or type Ctrl+Enter to execute this markdown to see the executed output of this markdown cell.\n"
   ]
  },
  {
   "cell_type": "code",
   "execution_count": 1,
   "id": "2b79dd0f",
   "metadata": {},
   "outputs": [],
   "source": [
    "# This is a code cell I created for you. This line starting with a # sign, is known as a comment. \n",
    "# It won't be interpreted as a python code when executing this cell.\n"
   ]
  },
  {
   "cell_type": "markdown",
   "id": "1d81f529",
   "metadata": {},
   "source": [
    "\n",
    "## Exercise 2: Cell Operations\n",
    "\n",
    "### 2.1 Now add a code cell below this current markdown cell\n",
    "\n",
    "- This can be done by using the \"+\" button in the menu\n",
    "- Make sure you are also able to do it with keyboard shortcut. Here's a step-by-step breakdown:\n",
    "    * Make sure you're in Command Mode (meaning that you are not editing any cell, and this indicated by the blue vertical bar on the left of the cell. If the vertical bar is green, then you are in an Edit mode, and you should see the cursor in the cell) by pressing the Esc key if you're currently in Edit Mode (indicated by a green cell border).\n",
    "    * Press A to add a new code cell above the currently selected cell.\n",
    "    * Press B to add a new code cell below the currently selected cell.\n",
    "\n",
    "    * Remember, these shortcuts work in Command Mode, where you're navigating and manipulating cells without editing their content. If you're in Edit Mode (inside a cell), you can press Esc to switch to Command Mode."
   ]
  },
  {
   "cell_type": "markdown",
   "id": "f08404dc",
   "metadata": {},
   "source": [
    "### 2.2 Edit and execute cells\n",
    "\n",
    "- Let's first add a markdown cell below\n",
    "    * Write a short paragraph of your impression of the first lecture on Wednesday\n",
    "    * Execute it\n",
    "- Then, add a code cell after the markdown\n",
    "    * type the following in the code cell \n",
    "    \n",
    "    ```print('Hello Berkeley!')```\n",
    "    * execute it\n",
    "- Now, do another exercise for code cell. Type the following into the same code that you just created, and execute the cell\n",
    "\n",
    "```# This is a simple addition\n",
    "    x = 10\n",
    "    y = 20\n",
    "    sum = x + y\n",
    "    print (sum)```"
   ]
  },
  {
   "cell_type": "markdown",
   "id": "f788f6d2",
   "metadata": {},
   "source": [
    "### 2.3 Cell type conversion \n",
    "\n",
    "- Create a markdown cell that includes the following lines\n",
    "```\n",
    "y = 1 \n",
    "x = 5\n",
    "print(x**(y+1))\n",
    "```\n",
    "\n",
    "- Converting Markdown Cell to Code Cell:\n",
    "\n",
    "    * Select the markdown cell that you want to convert.\n",
    "    * Make sure you're in Command Mode (press Esc if you're not).\n",
    "    * Press the Y key (not case sensitive).\n",
    "    * The selected markdown cell will be converted into a code cell.\n",
    "    * Also execute this cell and see what you have\n",
    "\n",
    "- Converting Code Cell to Markdown Cell:\n",
    "\n",
    "    * Select the code cell that you want to convert.\n",
    "    * Make sure you're in Command Mode (press Esc if you're not).\n",
    "    * Press the M key(not case sensitive).\n",
    "    * The selected code cell will be converted into a markdown cell.\n",
    "\n",
    "\n"
   ]
  },
  {
   "cell_type": "markdown",
   "id": "28534d50",
   "metadata": {},
   "source": [
    "### 2.4 Interrupt Cell Execution \n",
    "- Create a code cell below\n",
    "- Type the following to the code cell and execute it\n",
    "\n",
    "```\n",
    "import time\n",
    "\n",
    "# Code you want to run\n",
    "print(\"This is the beginning of the code.\")\n",
    "# ...\n",
    "\n",
    "# Set the timer to pause for 5 seconds\n",
    "time.sleep(5)  # Pause for 5 seconds\n",
    "\n",
    "# Code that continues after the timer\n",
    "print(\"This is after the timer.\")\n",
    "# ...\n",
    "```\n",
    "- This code snippet would print out two statements, but in between, there is a delay introduced by ```time.sleep(5)```. \n",
    "- Now, execute the cell again, but interrupt it before the second statement is printed out. You can achieve by the following steps\n",
    "    * Click the \"Interrupt\" Button: Look at the toolbar at the top of the notebook interface. You'll see a square \"Interrupt\" button (a black square) next to the \"Run\" button. Clicking this \"Interrupt\" button will stop the execution of the currently running cell.\n",
    "    * Keyboard Shortcut (Optional): Alternatively, you can use the keyboard shortcut I twice in quick succession. First, press I, then press it again. This is a quick way to interrupt the currently running cell.\n"
   ]
  },
  {
   "cell_type": "markdown",
   "id": "5405d95b",
   "metadata": {},
   "source": [
    "### 2.5 Delete a cell\n",
    "\n",
    "To delete a cell in Jupyter Notebook, follow these steps:\n",
    "\n",
    "- Select the Cell: Click on the cell that you want to delete. The selected cell will be highlighted.\n",
    "\n",
    "- Delete the Cell: Once the cell is selected, you can press the D key twice in quick succession. Press D once, then press it again. The cell will be deleted.\n",
    "\n",
    "Alternatively, you can also use the following method:\n",
    "\n",
    "- Select the Cell: Click on the cell that you want to delete.\n",
    "\n",
    "- Toolbar Option: Look at the toolbar at the top of the notebook interface. There, you'll find an icon that looks like a trash can. Clicking on this icon will delete the selected cell.\n",
    "\n",
    "Try it with the cell below"
   ]
  },
  {
   "cell_type": "code",
   "execution_count": null,
   "id": "ea3f6794",
   "metadata": {},
   "outputs": [],
   "source": [
    "# This is a cell to be deleted"
   ]
  },
  {
   "cell_type": "code",
   "execution_count": null,
   "id": "f7553028",
   "metadata": {},
   "outputs": [],
   "source": [
    "# delete this too"
   ]
  },
  {
   "cell_type": "markdown",
   "id": "c97a1cbd",
   "metadata": {},
   "source": [
    "## Exercise 3: Save and export notebook\n",
    "\n",
    "3.1 Save the Notebook:\n",
    "\n",
    "    1. Click the floppy disk icon in the toolbar (or use Ctrl + S keyboard shortcut).\n",
    "    2. The notebook will be saved with your changes.\n",
    "\n",
    "3.2 Download the Notebook as .ipynb:\n",
    "\n",
    "    1. Click \"File\" in the menu bar.\n",
    "    2. Select \"Download as\" and then choose \"Notebook (.ipynb)\".\n",
    "\n",
    "3.3 Download the Notebook as PDF:\n",
    "\n",
    "    1. Click \"File\" in the menu bar.\n",
    "    2. Select \"Download as\" and then choose \"PDF via LaTeX\".\n",
    "    3. A PDF version of the notebook will be generated and downloaded.\n",
    "\n",
    "3.4 Print the Notebook as PDF:\n",
    "\n",
    "    1. Click \"File\" in the menu bar.\n",
    "    2. Select \"Print Preview\".\n",
    "    3. In the print preview window, use your browser's print functionality to save as PDF.\n"
   ]
  },
  {
   "cell_type": "code",
   "execution_count": 7,
   "id": "cc6348ae",
   "metadata": {},
   "outputs": [
    {
     "name": "stdout",
     "output_type": "stream",
     "text": [
      "This is the beginning of the code.\n",
      "This is after the timer.\n"
     ]
    }
   ],
   "source": [
    "import time\n",
    "\n",
    "# Code you want to run\n",
    "print(\"This is the beginning of the code.\")\n",
    "# ...\n",
    "\n",
    "# Set the timer to pause for 5 seconds\n",
    "time.sleep(5)  # Pause for 5 seconds\n",
    "\n",
    "# Code that continues after the timer\n",
    "print(\"This is after the timer.\")\n",
    "# ...\n"
   ]
  },
  {
   "cell_type": "markdown",
   "id": "7d260d3e",
   "metadata": {},
   "source": [
    "# Part 2\n",
    "\n",
    "Google Colab, short for Google Colaboratory, is a cloud-based platform provided by Google that offers a free and convenient way to write and execute code in Python. It's especially popular among data scientists, researchers, and educators for its ability to provide a Jupyter Notebook-like interface that runs entirely in the cloud.\n",
    "\n",
    "\n",
    "- You can access Google Colab here https://colab.research.google.com/\n",
    "- You can use any of your google account, including Berkeley gmail account, to log on to the Colab\n",
    "- Now that you have created a notebook on the datahub and downloaded to your laptop, upload that notebook to the Google Colab\n",
    "- Execute all the cells\n",
    "- See if you can download the notebook as ipynb file, and if you can export it to a PDF file.\n",
    "\n"
   ]
  }
 ],
 "metadata": {
  "kernelspec": {
   "display_name": "Python 3 (ipykernel)",
   "language": "python",
   "name": "python3"
  },
  "language_info": {
   "codemirror_mode": {
    "name": "ipython",
    "version": 3
   },
   "file_extension": ".py",
   "mimetype": "text/x-python",
   "name": "python",
   "nbconvert_exporter": "python",
   "pygments_lexer": "ipython3",
   "version": "3.9.15"
  }
 },
 "nbformat": 4,
 "nbformat_minor": 5
}
